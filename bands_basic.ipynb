{
 "cells": [
  {
   "cell_type": "markdown",
   "id": "7a4e672f",
   "metadata": {},
   "source": [
    "# Bands basic\n",
    "\n",
    "In this notebook, we try to find interesting facts from the basic information about the bands."
   ]
  },
  {
   "cell_type": "code",
   "execution_count": 1,
   "id": "4e1c25e7",
   "metadata": {},
   "outputs": [],
   "source": [
    "%matplotlib inline\n",
    "import matplotlib.pyplot as plt\n",
    "import pandas as pd\n",
    "\n",
    "bands = pd.read_csv('data/ma_bands_data.csv', index_col=0).sort_values('date').reset_index(drop=True)"
   ]
  },
  {
   "cell_type": "code",
   "execution_count": 2,
   "id": "b8f36b4d",
   "metadata": {},
   "outputs": [
    {
     "name": "stdout",
     "output_type": "stream",
     "text": [
      "<class 'pandas.core.frame.DataFrame'>\n",
      "Int64Index: 129471 entries, 0 to 129470\n",
      "Data columns (total 10 columns):\n",
      " #   Column    Non-Null Count   Dtype  \n",
      "---  ------    --------------   -----  \n",
      " 0   name      129471 non-null  object \n",
      " 1   url       129471 non-null  object \n",
      " 2   genre     129471 non-null  object \n",
      " 3   theme     71530 non-null   object \n",
      " 4   label     79606 non-null   object \n",
      " 5   country   129471 non-null  object \n",
      " 6   location  125465 non-null  object \n",
      " 7   status    129471 non-null  object \n",
      " 8   date      128315 non-null  float64\n",
      " 9   years     128414 non-null  object \n",
      "dtypes: float64(1), object(9)\n",
      "memory usage: 10.9+ MB\n"
     ]
    }
   ],
   "source": [
    "bands.info()"
   ]
  },
  {
   "cell_type": "code",
   "execution_count": 3,
   "id": "f7d1ffdf",
   "metadata": {},
   "outputs": [
    {
     "data": {
      "text/plain": [
       "status\n",
       "Active          70708\n",
       "Changed name     6011\n",
       "Disputed           29\n",
       "On hold          3363\n",
       "Split-up        39811\n",
       "Unknown          9549\n",
       "dtype: int64"
      ]
     },
     "execution_count": 3,
     "metadata": {},
     "output_type": "execute_result"
    }
   ],
   "source": [
    "bands.groupby('status').size()"
   ]
  },
  {
   "cell_type": "code",
   "execution_count": 4,
   "id": "5c78609d",
   "metadata": {},
   "outputs": [
    {
     "data": {
      "text/plain": [
       "153"
      ]
     },
     "execution_count": 4,
     "metadata": {},
     "output_type": "execute_result"
    }
   ],
   "source": [
    "bands['country'].nunique()"
   ]
  },
  {
   "cell_type": "markdown",
   "id": "9e9ffb43",
   "metadata": {},
   "source": [
    "# Countries and locations with most metal bands, and countries with highest and lowest count of bands per capita and per sq. mile"
   ]
  },
  {
   "cell_type": "code",
   "execution_count": 5,
   "id": "095529ad",
   "metadata": {
    "scrolled": true
   },
   "outputs": [
    {
     "data": {
      "text/plain": [
       "country\n",
       "United States     25390\n",
       "Germany           10447\n",
       "Brazil             6615\n",
       "Italy              6546\n",
       "United Kingdom     5169\n",
       "France             5015\n",
       "Sweden             4418\n",
       "Russia             4217\n",
       "Canada             4016\n",
       "Spain              3972\n",
       "Finland            3794\n",
       "Poland             3501\n",
       "Mexico             3279\n",
       "Chile              2574\n",
       "Argentina          2566\n",
       "Australia          2539\n",
       "Netherlands        2274\n",
       "Japan              2141\n",
       "Greece             1980\n",
       "Colombia           1894\n",
       "dtype: int64"
      ]
     },
     "execution_count": 5,
     "metadata": {},
     "output_type": "execute_result"
    }
   ],
   "source": [
    "bands.groupby('country').size().nlargest(20)"
   ]
  },
  {
   "cell_type": "code",
   "execution_count": 14,
   "id": "6c768680",
   "metadata": {
    "scrolled": true
   },
   "outputs": [
    {
     "data": {
      "text/plain": [
       "location\n",
       "Santiago                       1039\n",
       "Athens, Attica                  983\n",
       "Moscow                          976\n",
       "São Paulo, São Paulo            938\n",
       "Tokyo                           836\n",
       "Los Angeles, California         828\n",
       "Buenos Aires                    817\n",
       "Mexico City                     806\n",
       "Bogota                          692\n",
       "London, England                 670\n",
       "Chicago, Illinois               649\n",
       "Stockholm                       637\n",
       "Melbourne, Victoria             602\n",
       "Paris, Île-de-France            596\n",
       "Helsinki, Uusimaa               559\n",
       "Montréal, Quebec                512\n",
       "Rome, Lazio                     506\n",
       "New York, New York              503\n",
       "Madrid, Community of Madrid     488\n",
       "Portland, Oregon                464\n",
       "dtype: int64"
      ]
     },
     "execution_count": 14,
     "metadata": {},
     "output_type": "execute_result"
    }
   ],
   "source": [
    "bands.groupby('location').size().nlargest(20)"
   ]
  },
  {
   "cell_type": "markdown",
   "id": "fc2f0614",
   "metadata": {},
   "source": [
    "World Population Dataset: https://www.kaggle.com/datasets/iamsouravbanerjee/world-population-dataset"
   ]
  },
  {
   "cell_type": "code",
   "execution_count": 6,
   "id": "e465bd5c",
   "metadata": {},
   "outputs": [
    {
     "data": {
      "text/plain": [
       "Finland             684.745463\n",
       "Iceland             426.388915\n",
       "Sweden              418.793694\n",
       "Liechtenstein       406.845170\n",
       "Norway              308.226293\n",
       "Falkland Islands    264.550265\n",
       "Faroe Islands       263.703146\n",
       "Guernsey            205.368004\n",
       "Greece              190.660138\n",
       "Gibraltar           183.772857\n",
       "Estonia             169.675324\n",
       "Denmark             156.062439\n",
       "Malta               148.138147\n",
       "Austria             140.162604\n",
       "Luxembourg          137.430725\n",
       "Monaco              137.102745\n",
       "Slovenia            133.500390\n",
       "Chile               131.301523\n",
       "Netherlands         129.469266\n",
       "Germany             125.309100\n",
       "Croatia             119.592354\n",
       "Portugal            118.685232\n",
       "Switzerland         114.753528\n",
       "Italy               110.878728\n",
       "Belgium             108.614242\n",
       "Hungary             106.949640\n",
       "Greenland           106.258634\n",
       "Slovakia            105.609101\n",
       "Canada              104.435581\n",
       "Australia            96.992014\n",
       "dtype: float64"
      ]
     },
     "execution_count": 6,
     "metadata": {},
     "output_type": "execute_result"
    }
   ],
   "source": [
    "population = pd.read_csv('data/world_population.csv')\n",
    "pop_2022 = population.set_index('Country')['2022 Population']\n",
    "bands_country = bands.groupby('country').size()\n",
    "bands_per_million = bands_country / (pop_2022 / 1e6)\n",
    "bands_per_million.nlargest(20)"
   ]
  },
  {
   "cell_type": "code",
   "execution_count": 7,
   "id": "fbe77a3d",
   "metadata": {},
   "outputs": [
    {
     "data": {
      "text/plain": [
       "Ethiopia        0.008105\n",
       "Afghanistan     0.024314\n",
       "Mozambique      0.060662\n",
       "Uganda          0.063493\n",
       "Kenya           0.092545\n",
       "Myanmar         0.129201\n",
       "Zimbabwe        0.183817\n",
       "India           0.189814\n",
       "Palestine       0.190474\n",
       "Pakistan        0.212022\n",
       "Angola          0.224789\n",
       "Uzbekistan      0.231029\n",
       "Cambodia        0.238552\n",
       "China           0.251072\n",
       "Iraq            0.269686\n",
       "Tajikistan      0.301423\n",
       "Turkmenistan    0.311005\n",
       "Saudi Arabia    0.384522\n",
       "Egypt           0.423461\n",
       "Oman            0.437034\n",
       "Bangladesh      0.473169\n",
       "Vietnam         0.499048\n",
       "Madagascar      0.574097\n",
       "Algeria         0.645833\n",
       "Laos            0.664057\n",
       "Morocco         0.747504\n",
       "Namibia         0.779116\n",
       "Libya           0.880755\n",
       "Jamaica         1.061054\n",
       "Nepal           1.080282\n",
       "dtype: float64"
      ]
     },
     "execution_count": 7,
     "metadata": {},
     "output_type": "execute_result"
    }
   ],
   "source": [
    "bands_per_million.nsmallest(20)"
   ]
  },
  {
   "cell_type": "code",
   "execution_count": 8,
   "id": "0992b161",
   "metadata": {},
   "outputs": [
    {
     "data": {
      "text/plain": [
       "0.25107172965938196"
      ]
     },
     "execution_count": 8,
     "metadata": {},
     "output_type": "execute_result"
    }
   ],
   "source": [
    "bands_per_million['China']"
   ]
  },
  {
   "cell_type": "code",
   "execution_count": 10,
   "id": "6eff3784",
   "metadata": {
    "scrolled": false
   },
   "outputs": [
    {
     "data": {
      "text/html": [
       "<div>\n",
       "<style scoped>\n",
       "    .dataframe tbody tr th:only-of-type {\n",
       "        vertical-align: middle;\n",
       "    }\n",
       "\n",
       "    .dataframe tbody tr th {\n",
       "        vertical-align: top;\n",
       "    }\n",
       "\n",
       "    .dataframe thead th {\n",
       "        text-align: right;\n",
       "    }\n",
       "</style>\n",
       "<table border=\"1\" class=\"dataframe\">\n",
       "  <thead>\n",
       "    <tr style=\"text-align: right;\">\n",
       "      <th></th>\n",
       "      <th>name</th>\n",
       "      <th>url</th>\n",
       "      <th>genre</th>\n",
       "      <th>theme</th>\n",
       "      <th>label</th>\n",
       "      <th>country</th>\n",
       "      <th>location</th>\n",
       "      <th>status</th>\n",
       "      <th>date</th>\n",
       "      <th>years</th>\n",
       "    </tr>\n",
       "  </thead>\n",
       "  <tbody>\n",
       "    <tr>\n",
       "      <th>16551</th>\n",
       "      <td>Bloodrust</td>\n",
       "      <td>https://www.metal-archives.com/bands/Bloodrust...</td>\n",
       "      <td>Death Metal</td>\n",
       "      <td>['War', ' Death', ' Oppression', ' Madness', '...</td>\n",
       "      <td>NaN</td>\n",
       "      <td>Falkland Islands</td>\n",
       "      <td>NaN</td>\n",
       "      <td>Active</td>\n",
       "      <td>2010.0</td>\n",
       "      <td>2010-present</td>\n",
       "    </tr>\n",
       "  </tbody>\n",
       "</table>\n",
       "</div>"
      ],
      "text/plain": [
       "            name                                                url  \\\n",
       "16551  Bloodrust  https://www.metal-archives.com/bands/Bloodrust...   \n",
       "\n",
       "             genre                                              theme label  \\\n",
       "16551  Death Metal  ['War', ' Death', ' Oppression', ' Madness', '...   NaN   \n",
       "\n",
       "                country location  status    date         years  \n",
       "16551  Falkland Islands      NaN  Active  2010.0  2010-present  "
      ]
     },
     "execution_count": 10,
     "metadata": {},
     "output_type": "execute_result"
    }
   ],
   "source": [
    "bands[bands['country'] == 'Falkland Islands']"
   ]
  },
  {
   "cell_type": "markdown",
   "id": "14e490de",
   "metadata": {},
   "source": [
    "Countries of the world dataset: https://www.kaggle.com/datasets/fernandol/countries-of-the-world"
   ]
  },
  {
   "cell_type": "code",
   "execution_count": 11,
   "id": "eef18ed4",
   "metadata": {},
   "outputs": [
    {
     "data": {
      "text/plain": [
       "Monaco            2500.000000\n",
       "Gibraltar          857.142857\n",
       "Singapore          375.180375\n",
       "Malta              250.000000\n",
       "Guernsey           166.666667\n",
       "Liechtenstein      100.000000\n",
       "Jersey              60.344828\n",
       "Netherlands         54.760873\n",
       "Belgium             41.470126\n",
       "Hong Kong           35.714286\n",
       "Luxembourg          34.416087\n",
       "San Marino          32.786885\n",
       "Germany             29.261584\n",
       "Maldives            26.666667\n",
       "Switzerland         24.291596\n",
       "Bahrain             22.556391\n",
       "Italy               21.730903\n",
       "Denmark             21.302269\n",
       "United Kingdom      21.113471\n",
       "Greece              15.006821\n",
       "Austria             14.939788\n",
       "Slovenia            13.959453\n",
       "Israel              13.529129\n",
       "Portugal            13.193926\n",
       "Slovakia            12.201863\n",
       "Puerto Rico         11.675127\n",
       "Hungary             11.458669\n",
       "Finland             11.220039\n",
       "Poland              11.196572\n",
       "Faroe Islands       10.007148\n",
       "dtype: float64"
      ]
     },
     "execution_count": 11,
     "metadata": {},
     "output_type": "execute_result"
    }
   ],
   "source": [
    "countries = pd.read_csv('data/countries of the world.csv')\n",
    "countries['Country'] = countries['Country'].str.strip()\n",
    "area = countries.set_index('Country')['Area (sq. mi.)']\n",
    "bands_per_thousand_sq_mi = bands_country / (area / 1e3)\n",
    "bands_per_thousand_sq_mi.nlargest(20)"
   ]
  },
  {
   "cell_type": "code",
   "execution_count": 12,
   "id": "f9553c0c",
   "metadata": {
    "scrolled": true
   },
   "outputs": [
    {
     "data": {
      "text/plain": [
       "Ethiopia        0.000887\n",
       "Afghanistan     0.001544\n",
       "Namibia         0.002423\n",
       "Mozambique      0.002495\n",
       "Greenland       0.002770\n",
       "Libya           0.003410\n",
       "Mongolia        0.003836\n",
       "Turkmenistan    0.004098\n",
       "Angola          0.006417\n",
       "Saudi Arabia    0.007141\n",
       "Zimbabwe        0.007681\n",
       "Kenya           0.008581\n",
       "Oman            0.009414\n",
       "Botswana        0.011659\n",
       "Algeria         0.012176\n",
       "Suriname        0.012250\n",
       "Uganda          0.012710\n",
       "Uzbekistan      0.017881\n",
       "Tajikistan      0.020964\n",
       "Kazakhstan      0.020977\n",
       "Laos            0.021115\n",
       "Cambodia        0.022095\n",
       "Guyana          0.023259\n",
       "Iraq            0.027455\n",
       "Madagascar      0.028959\n",
       "China           0.037303\n",
       "Kyrgyzstan      0.045340\n",
       "Egypt           0.046932\n",
       "Pakistan        0.062194\n",
       "Morocco         0.062703\n",
       "dtype: float64"
      ]
     },
     "execution_count": 12,
     "metadata": {},
     "output_type": "execute_result"
    }
   ],
   "source": [
    "bands_per_thousand_sq_mi.nsmallest(20)"
   ]
  },
  {
   "cell_type": "markdown",
   "id": "6f3ed45f",
   "metadata": {},
   "source": [
    "# Favorite theme of metal bands"
   ]
  },
  {
   "cell_type": "code",
   "execution_count": 15,
   "id": "e5ec4bb8",
   "metadata": {},
   "outputs": [
    {
     "data": {
      "text/plain": [
       "Death                14699\n",
       "War                   7168\n",
       "Darkness              5391\n",
       "Gore                  4370\n",
       "Satanism              4202\n",
       "Life                  3909\n",
       "Violence              3645\n",
       "Nature                3123\n",
       "Society               3111\n",
       "Fantasy               3041\n",
       "Anti-Christianity     2847\n",
       "Occultism             2792\n",
       "Hate                  2752\n",
       "Misanthropy           2615\n",
       "Depression            2515\n",
       "Politics              2253\n",
       "Evil                  2178\n",
       "Horror                2132\n",
       "Anti-religion         1818\n",
       "Blasphemy             1770\n",
       "Philosophy            1713\n",
       "Christianity          1710\n",
       "Instrumental          1688\n",
       "Love                  1663\n",
       "Paganism              1648\n",
       "Religion              1612\n",
       "Hatred                1553\n",
       "History               1456\n",
       "Mythology             1443\n",
       "Satan                 1369\n",
       "Name: theme, dtype: int64"
      ]
     },
     "execution_count": 15,
     "metadata": {},
     "output_type": "execute_result"
    }
   ],
   "source": [
    "bands['theme'].str.findall('[0-9A-Za-z][0-9A-Za-z/\\-\\s]*').explode().str.strip().value_counts().nlargest(30)"
   ]
  },
  {
   "cell_type": "code",
   "execution_count": 16,
   "id": "4a46d404",
   "metadata": {},
   "outputs": [
    {
     "data": {
      "text/plain": [
       "33"
      ]
     },
     "execution_count": 16,
     "metadata": {},
     "output_type": "execute_result"
    }
   ],
   "source": [
    "bands['theme'].str.findall('[0-9A-Za-z][0-9A-Za-z/\\-\\s]*').explode().str.strip().value_counts()['Peace']"
   ]
  },
  {
   "cell_type": "code",
   "execution_count": 17,
   "id": "13d86aa3",
   "metadata": {},
   "outputs": [
    {
     "data": {
      "text/plain": [
       "29"
      ]
     },
     "execution_count": 17,
     "metadata": {},
     "output_type": "execute_result"
    }
   ],
   "source": [
    "bands['theme'].str.findall('[0-9A-Za-z][0-9A-Za-z/\\-\\s]*').explode().str.strip().value_counts()['Light']"
   ]
  },
  {
   "cell_type": "markdown",
   "id": "a5c31823",
   "metadata": {},
   "source": [
    "# Active metal bands at each year"
   ]
  },
  {
   "cell_type": "code",
   "execution_count": 18,
   "id": "f0fbc482",
   "metadata": {},
   "outputs": [],
   "source": [
    "year_ranges = bands['years'].str.findall('\\d\\d\\d\\d-\\d\\d\\d\\d|\\d\\d\\d\\d-present').explode()\n",
    "year_ranges = year_ranges.str.replace('present', '2022').str.split('-').dropna()\n",
    "\n",
    "count = dict()\n",
    "for begin, end in year_ranges:\n",
    "    for y in range(int(begin), int(end) + 1):\n",
    "        count[y] = count.get(y, 0) + 1\n",
    "count = {k : v for k, v in sorted(count.items())}"
   ]
  },
  {
   "cell_type": "code",
   "execution_count": 19,
   "id": "39d56219",
   "metadata": {
    "scrolled": true
   },
   "outputs": [
    {
     "data": {
      "text/plain": [
       "[<matplotlib.lines.Line2D at 0x7fe004c924d0>]"
      ]
     },
     "execution_count": 19,
     "metadata": {},
     "output_type": "execute_result"
    },
    {
     "data": {
      "image/png": "[encoded data removed]",
      "text/plain": [
       "<Figure size 640x480 with 1 Axes>"
      ]
     },
     "metadata": {},
     "output_type": "display_data"
    }
   ],
   "source": [
    "plt.plot(count.keys(), count.values())"
   ]
  },
  {
   "cell_type": "markdown",
   "id": "2a245bcf",
   "metadata": {},
   "source": [
    "# Spatiotemporal\n",
    "\n",
    "We merged Metal Archives data with city locations data to prepare for analysis by space and time."
   ]
  },
  {
   "cell_type": "code",
   "execution_count": 28,
   "id": "8f9b1df1",
   "metadata": {},
   "outputs": [],
   "source": [
    "import unicodedata\n",
    "\n",
    "bands_st = bands.copy()\n",
    "bands_st['city'] = bands['location'].str.findall('^\\s*([^,]+)\\s*').str[0]\n",
    "bands_st = bands_st.dropna(subset={'date', 'country', 'city'})\n",
    "bands_st['city'] = bands_st['city'].apply(lambda x:\n",
    "                                          unicodedata\n",
    "                                          .normalize('NFKD', x)\n",
    "                                          .encode('ascii', 'ignore')\n",
    "                                          .decode('ascii')\n",
    "                                          .lower())"
   ]
  },
  {
   "cell_type": "markdown",
   "id": "e65882ee",
   "metadata": {},
   "source": [
    "World Cities Database: https://www.kaggle.com/datasets/max-mind/world-cities-database"
   ]
  },
  {
   "cell_type": "code",
   "execution_count": 29,
   "id": "1306d641",
   "metadata": {
    "scrolled": true
   },
   "outputs": [
    {
     "data": {
      "text/html": [
       "<div>\n",
       "<style scoped>\n",
       "    .dataframe tbody tr th:only-of-type {\n",
       "        vertical-align: middle;\n",
       "    }\n",
       "\n",
       "    .dataframe tbody tr th {\n",
       "        vertical-align: top;\n",
       "    }\n",
       "\n",
       "    .dataframe thead th {\n",
       "        text-align: right;\n",
       "    }\n",
       "</style>\n",
       "<table border=\"1\" class=\"dataframe\">\n",
       "  <thead>\n",
       "    <tr style=\"text-align: right;\">\n",
       "      <th></th>\n",
       "      <th>code</th>\n",
       "      <th>city</th>\n",
       "      <th>lat</th>\n",
       "      <th>lon</th>\n",
       "    </tr>\n",
       "  </thead>\n",
       "  <tbody>\n",
       "    <tr>\n",
       "      <th>0</th>\n",
       "      <td>AD</td>\n",
       "      <td>aixas</td>\n",
       "      <td>42.483333</td>\n",
       "      <td>1.466667</td>\n",
       "    </tr>\n",
       "    <tr>\n",
       "      <th>1</th>\n",
       "      <td>AD</td>\n",
       "      <td>aixirivali</td>\n",
       "      <td>42.466667</td>\n",
       "      <td>1.500000</td>\n",
       "    </tr>\n",
       "    <tr>\n",
       "      <th>2</th>\n",
       "      <td>AD</td>\n",
       "      <td>aixirivall</td>\n",
       "      <td>42.466667</td>\n",
       "      <td>1.500000</td>\n",
       "    </tr>\n",
       "    <tr>\n",
       "      <th>3</th>\n",
       "      <td>AD</td>\n",
       "      <td>aixirvall</td>\n",
       "      <td>42.466667</td>\n",
       "      <td>1.500000</td>\n",
       "    </tr>\n",
       "    <tr>\n",
       "      <th>4</th>\n",
       "      <td>AD</td>\n",
       "      <td>aixovall</td>\n",
       "      <td>42.466667</td>\n",
       "      <td>1.483333</td>\n",
       "    </tr>\n",
       "    <tr>\n",
       "      <th>...</th>\n",
       "      <td>...</td>\n",
       "      <td>...</td>\n",
       "      <td>...</td>\n",
       "      <td>...</td>\n",
       "    </tr>\n",
       "    <tr>\n",
       "      <th>3173953</th>\n",
       "      <td>ZW</td>\n",
       "      <td>zimre park</td>\n",
       "      <td>-17.866111</td>\n",
       "      <td>31.213611</td>\n",
       "    </tr>\n",
       "    <tr>\n",
       "      <th>3173954</th>\n",
       "      <td>ZW</td>\n",
       "      <td>ziyakamanas</td>\n",
       "      <td>-18.216667</td>\n",
       "      <td>27.950000</td>\n",
       "    </tr>\n",
       "    <tr>\n",
       "      <th>3173955</th>\n",
       "      <td>ZW</td>\n",
       "      <td>zizalisari</td>\n",
       "      <td>-17.758889</td>\n",
       "      <td>31.010556</td>\n",
       "    </tr>\n",
       "    <tr>\n",
       "      <th>3173956</th>\n",
       "      <td>ZW</td>\n",
       "      <td>zuzumba</td>\n",
       "      <td>-20.033333</td>\n",
       "      <td>27.933333</td>\n",
       "    </tr>\n",
       "    <tr>\n",
       "      <th>3173957</th>\n",
       "      <td>ZW</td>\n",
       "      <td>zvishavane</td>\n",
       "      <td>-20.333333</td>\n",
       "      <td>30.033333</td>\n",
       "    </tr>\n",
       "  </tbody>\n",
       "</table>\n",
       "<p>3173958 rows × 4 columns</p>\n",
       "</div>"
      ],
      "text/plain": [
       "        code         city        lat        lon\n",
       "0         AD        aixas  42.483333   1.466667\n",
       "1         AD   aixirivali  42.466667   1.500000\n",
       "2         AD   aixirivall  42.466667   1.500000\n",
       "3         AD    aixirvall  42.466667   1.500000\n",
       "4         AD     aixovall  42.466667   1.483333\n",
       "...      ...          ...        ...        ...\n",
       "3173953   ZW   zimre park -17.866111  31.213611\n",
       "3173954   ZW  ziyakamanas -18.216667  27.950000\n",
       "3173955   ZW   zizalisari -17.758889  31.010556\n",
       "3173956   ZW      zuzumba -20.033333  27.933333\n",
       "3173957   ZW   zvishavane -20.333333  30.033333\n",
       "\n",
       "[3173958 rows x 4 columns]"
      ]
     },
     "execution_count": 29,
     "metadata": {},
     "output_type": "execute_result"
    }
   ],
   "source": [
    "cities = pd.read_csv('data/worldcitiespop.csv', dtype={'Region': 'str'})\n",
    "cities = cities.drop(['AccentCity', 'Region', 'Population'], axis=1)\n",
    "cities = cities.rename({'Country': 'code', 'City': 'city', 'Latitude': 'lat', 'Longitude': 'lon'}, axis = 1)\n",
    "cities['code'] = cities['code'].str.upper()\n",
    "cities"
   ]
  },
  {
   "cell_type": "markdown",
   "id": "0ac5b542",
   "metadata": {},
   "source": [
    "ISO Country Codes - Global: https://www.kaggle.com/datasets/andradaolteanu/iso-country-codes-global"
   ]
  },
  {
   "cell_type": "code",
   "execution_count": 30,
   "id": "a50443d2",
   "metadata": {},
   "outputs": [
    {
     "data": {
      "text/html": [
       "<div>\n",
       "<style scoped>\n",
       "    .dataframe tbody tr th:only-of-type {\n",
       "        vertical-align: middle;\n",
       "    }\n",
       "\n",
       "    .dataframe tbody tr th {\n",
       "        vertical-align: top;\n",
       "    }\n",
       "\n",
       "    .dataframe thead th {\n",
       "        text-align: right;\n",
       "    }\n",
       "</style>\n",
       "<table border=\"1\" class=\"dataframe\">\n",
       "  <thead>\n",
       "    <tr style=\"text-align: right;\">\n",
       "      <th></th>\n",
       "      <th>country</th>\n",
       "      <th>code</th>\n",
       "    </tr>\n",
       "  </thead>\n",
       "  <tbody>\n",
       "    <tr>\n",
       "      <th>0</th>\n",
       "      <td>Zimbabwe</td>\n",
       "      <td>ZW</td>\n",
       "    </tr>\n",
       "    <tr>\n",
       "      <th>1</th>\n",
       "      <td>Zambia</td>\n",
       "      <td>ZM</td>\n",
       "    </tr>\n",
       "    <tr>\n",
       "      <th>2</th>\n",
       "      <td>Yemen</td>\n",
       "      <td>YE</td>\n",
       "    </tr>\n",
       "    <tr>\n",
       "      <th>3</th>\n",
       "      <td>Western Sahara</td>\n",
       "      <td>EH</td>\n",
       "    </tr>\n",
       "    <tr>\n",
       "      <th>4</th>\n",
       "      <td>Wallis and Futuna</td>\n",
       "      <td>WF</td>\n",
       "    </tr>\n",
       "    <tr>\n",
       "      <th>...</th>\n",
       "      <td>...</td>\n",
       "      <td>...</td>\n",
       "    </tr>\n",
       "    <tr>\n",
       "      <th>241</th>\n",
       "      <td>American Samoa</td>\n",
       "      <td>AS</td>\n",
       "    </tr>\n",
       "    <tr>\n",
       "      <th>242</th>\n",
       "      <td>Algeria</td>\n",
       "      <td>DZ</td>\n",
       "    </tr>\n",
       "    <tr>\n",
       "      <th>243</th>\n",
       "      <td>Albania</td>\n",
       "      <td>AL</td>\n",
       "    </tr>\n",
       "    <tr>\n",
       "      <th>244</th>\n",
       "      <td>Afghanistan</td>\n",
       "      <td>AF</td>\n",
       "    </tr>\n",
       "    <tr>\n",
       "      <th>245</th>\n",
       "      <td>Åland Islands</td>\n",
       "      <td>AX</td>\n",
       "    </tr>\n",
       "  </tbody>\n",
       "</table>\n",
       "<p>246 rows × 2 columns</p>\n",
       "</div>"
      ],
      "text/plain": [
       "               country code\n",
       "0             Zimbabwe   ZW\n",
       "1               Zambia   ZM\n",
       "2                Yemen   YE\n",
       "3       Western Sahara   EH\n",
       "4    Wallis and Futuna   WF\n",
       "..                 ...  ...\n",
       "241     American Samoa   AS\n",
       "242            Algeria   DZ\n",
       "243            Albania   AL\n",
       "244        Afghanistan   AF\n",
       "245      Åland Islands   AX\n",
       "\n",
       "[246 rows x 2 columns]"
      ]
     },
     "execution_count": 30,
     "metadata": {},
     "output_type": "execute_result"
    }
   ],
   "source": [
    "codes = pd.read_csv('data/wikipedia-iso-country-codes.csv')\n",
    "codes = codes.drop(['Alpha-3 code', 'Numeric code', 'ISO 3166-2'], axis=1)\n",
    "codes = codes.rename({'English short name lower case': 'country', 'Alpha-2 code': 'code'}, axis=1)\n",
    "codes"
   ]
  },
  {
   "cell_type": "code",
   "execution_count": 31,
   "id": "4455b54e",
   "metadata": {
    "scrolled": false
   },
   "outputs": [
    {
     "data": {
      "text/html": [
       "<div>\n",
       "<style scoped>\n",
       "    .dataframe tbody tr th:only-of-type {\n",
       "        vertical-align: middle;\n",
       "    }\n",
       "\n",
       "    .dataframe tbody tr th {\n",
       "        vertical-align: top;\n",
       "    }\n",
       "\n",
       "    .dataframe thead th {\n",
       "        text-align: right;\n",
       "    }\n",
       "</style>\n",
       "<table border=\"1\" class=\"dataframe\">\n",
       "  <thead>\n",
       "    <tr style=\"text-align: right;\">\n",
       "      <th></th>\n",
       "      <th>city</th>\n",
       "      <th>lat</th>\n",
       "      <th>lon</th>\n",
       "      <th>country</th>\n",
       "    </tr>\n",
       "  </thead>\n",
       "  <tbody>\n",
       "    <tr>\n",
       "      <th>0</th>\n",
       "      <td>aixas</td>\n",
       "      <td>42.483333</td>\n",
       "      <td>1.466667</td>\n",
       "      <td>Andorra</td>\n",
       "    </tr>\n",
       "    <tr>\n",
       "      <th>1</th>\n",
       "      <td>aixirivali</td>\n",
       "      <td>42.466667</td>\n",
       "      <td>1.500000</td>\n",
       "      <td>Andorra</td>\n",
       "    </tr>\n",
       "    <tr>\n",
       "      <th>2</th>\n",
       "      <td>aixirivall</td>\n",
       "      <td>42.466667</td>\n",
       "      <td>1.500000</td>\n",
       "      <td>Andorra</td>\n",
       "    </tr>\n",
       "    <tr>\n",
       "      <th>3</th>\n",
       "      <td>aixirvall</td>\n",
       "      <td>42.466667</td>\n",
       "      <td>1.500000</td>\n",
       "      <td>Andorra</td>\n",
       "    </tr>\n",
       "    <tr>\n",
       "      <th>4</th>\n",
       "      <td>aixovall</td>\n",
       "      <td>42.466667</td>\n",
       "      <td>1.483333</td>\n",
       "      <td>Andorra</td>\n",
       "    </tr>\n",
       "    <tr>\n",
       "      <th>...</th>\n",
       "      <td>...</td>\n",
       "      <td>...</td>\n",
       "      <td>...</td>\n",
       "      <td>...</td>\n",
       "    </tr>\n",
       "    <tr>\n",
       "      <th>2589178</th>\n",
       "      <td>zimre park</td>\n",
       "      <td>-17.866111</td>\n",
       "      <td>31.213611</td>\n",
       "      <td>Zimbabwe</td>\n",
       "    </tr>\n",
       "    <tr>\n",
       "      <th>2589179</th>\n",
       "      <td>ziyakamanas</td>\n",
       "      <td>-18.216667</td>\n",
       "      <td>27.950000</td>\n",
       "      <td>Zimbabwe</td>\n",
       "    </tr>\n",
       "    <tr>\n",
       "      <th>2589180</th>\n",
       "      <td>zizalisari</td>\n",
       "      <td>-17.758889</td>\n",
       "      <td>31.010556</td>\n",
       "      <td>Zimbabwe</td>\n",
       "    </tr>\n",
       "    <tr>\n",
       "      <th>2589181</th>\n",
       "      <td>zuzumba</td>\n",
       "      <td>-20.033333</td>\n",
       "      <td>27.933333</td>\n",
       "      <td>Zimbabwe</td>\n",
       "    </tr>\n",
       "    <tr>\n",
       "      <th>2589182</th>\n",
       "      <td>zvishavane</td>\n",
       "      <td>-20.333333</td>\n",
       "      <td>30.033333</td>\n",
       "      <td>Zimbabwe</td>\n",
       "    </tr>\n",
       "  </tbody>\n",
       "</table>\n",
       "<p>2589183 rows × 4 columns</p>\n",
       "</div>"
      ],
      "text/plain": [
       "                city        lat        lon   country\n",
       "0              aixas  42.483333   1.466667   Andorra\n",
       "1         aixirivali  42.466667   1.500000   Andorra\n",
       "2         aixirivall  42.466667   1.500000   Andorra\n",
       "3          aixirvall  42.466667   1.500000   Andorra\n",
       "4           aixovall  42.466667   1.483333   Andorra\n",
       "...              ...        ...        ...       ...\n",
       "2589178   zimre park -17.866111  31.213611  Zimbabwe\n",
       "2589179  ziyakamanas -18.216667  27.950000  Zimbabwe\n",
       "2589180   zizalisari -17.758889  31.010556  Zimbabwe\n",
       "2589181      zuzumba -20.033333  27.933333  Zimbabwe\n",
       "2589182   zvishavane -20.333333  30.033333  Zimbabwe\n",
       "\n",
       "[2589183 rows x 4 columns]"
      ]
     },
     "execution_count": 31,
     "metadata": {},
     "output_type": "execute_result"
    }
   ],
   "source": [
    "cities = pd.merge(cities, codes, on='code').drop('code', axis=1)\n",
    "cities = cities.loc[cities.drop(['lat', 'lon'], axis=1).drop_duplicates().index].reset_index(drop='True')\n",
    "cities"
   ]
  },
  {
   "cell_type": "code",
   "execution_count": 32,
   "id": "2dc0a781",
   "metadata": {
    "scrolled": true
   },
   "outputs": [
    {
     "data": {
      "text/html": [
       "<div>\n",
       "<style scoped>\n",
       "    .dataframe tbody tr th:only-of-type {\n",
       "        vertical-align: middle;\n",
       "    }\n",
       "\n",
       "    .dataframe tbody tr th {\n",
       "        vertical-align: top;\n",
       "    }\n",
       "\n",
       "    .dataframe thead th {\n",
       "        text-align: right;\n",
       "    }\n",
       "</style>\n",
       "<table border=\"1\" class=\"dataframe\">\n",
       "  <thead>\n",
       "    <tr style=\"text-align: right;\">\n",
       "      <th></th>\n",
       "      <th>name</th>\n",
       "      <th>url</th>\n",
       "      <th>genre</th>\n",
       "      <th>theme</th>\n",
       "      <th>label</th>\n",
       "      <th>country</th>\n",
       "      <th>location</th>\n",
       "      <th>status</th>\n",
       "      <th>date</th>\n",
       "      <th>years</th>\n",
       "      <th>city</th>\n",
       "      <th>lat</th>\n",
       "      <th>lon</th>\n",
       "    </tr>\n",
       "    <tr>\n",
       "      <th>index</th>\n",
       "      <th></th>\n",
       "      <th></th>\n",
       "      <th></th>\n",
       "      <th></th>\n",
       "      <th></th>\n",
       "      <th></th>\n",
       "      <th></th>\n",
       "      <th></th>\n",
       "      <th></th>\n",
       "      <th></th>\n",
       "      <th></th>\n",
       "      <th></th>\n",
       "      <th></th>\n",
       "    </tr>\n",
       "  </thead>\n",
       "  <tbody>\n",
       "    <tr>\n",
       "      <th>2</th>\n",
       "      <td>Scorpions</td>\n",
       "      <td>https://www.metal-archives.com/bands/Scorpions...</td>\n",
       "      <td>Heavy Metal/Hard Rock</td>\n",
       "      <td>['Life', ' Society', ' Love', ' Sex', ' Inner ...</td>\n",
       "      <td>NaN</td>\n",
       "      <td>Germany</td>\n",
       "      <td>Hannover, Lower Saxony</td>\n",
       "      <td>Active</td>\n",
       "      <td>1964.0</td>\n",
       "      <td>1964-present</td>\n",
       "      <td>hannover</td>\n",
       "      <td>53.183333</td>\n",
       "      <td>8.516667</td>\n",
       "    </tr>\n",
       "    <tr>\n",
       "      <th>3</th>\n",
       "      <td>Faithful Breath</td>\n",
       "      <td>https://www.metal-archives.com/bands/Faithful_...</td>\n",
       "      <td>Progressive Rock (early); Heavy Metal/Hard Roc...</td>\n",
       "      <td>['Adventure', ' Fantasy', ' Women']</td>\n",
       "      <td>NaN</td>\n",
       "      <td>Germany</td>\n",
       "      <td>Witten, North Rhine-Westphalia</td>\n",
       "      <td>Changed name</td>\n",
       "      <td>1967.0</td>\n",
       "      <td>1966-1967 (as),1967-1986,1986-1993 (as)</td>\n",
       "      <td>witten</td>\n",
       "      <td>51.433333</td>\n",
       "      <td>7.333333</td>\n",
       "    </tr>\n",
       "    <tr>\n",
       "      <th>4</th>\n",
       "      <td>Limelight</td>\n",
       "      <td>https://www.metal-archives.com/bands/Limelight...</td>\n",
       "      <td>NWOBHM/Heavy Metal/Hard Rock</td>\n",
       "      <td>['Life', ' Feelings', ' Love', ' Thoughts']</td>\n",
       "      <td>NaN</td>\n",
       "      <td>United Kingdom</td>\n",
       "      <td>Mansfield, Nottinghamshire, England</td>\n",
       "      <td>Split-up</td>\n",
       "      <td>1967.0</td>\n",
       "      <td>1967-?,1997</td>\n",
       "      <td>mansfield</td>\n",
       "      <td>53.133333</td>\n",
       "      <td>-1.200000</td>\n",
       "    </tr>\n",
       "    <tr>\n",
       "      <th>5</th>\n",
       "      <td>Deep Purple</td>\n",
       "      <td>https://www.metal-archives.com/bands/Deep_Purp...</td>\n",
       "      <td>Heavy Metal/Hard Rock</td>\n",
       "      <td>[\"Rock 'n' Roll\", ' Love', ' Relationships', '...</td>\n",
       "      <td>NaN</td>\n",
       "      <td>United Kingdom</td>\n",
       "      <td>Hertford, Hertfordshire, England</td>\n",
       "      <td>Active</td>\n",
       "      <td>1968.0</td>\n",
       "      <td>1967-1968 (as),1968-1976,1984-present</td>\n",
       "      <td>hertford</td>\n",
       "      <td>51.800000</td>\n",
       "      <td>-0.066667</td>\n",
       "    </tr>\n",
       "    <tr>\n",
       "      <th>7</th>\n",
       "      <td>Ash</td>\n",
       "      <td>https://www.metal-archives.com/bands/Ash/35404...</td>\n",
       "      <td>Psychedelic Pop/Rock (early); Heavy Metal/Hard...</td>\n",
       "      <td>NaN</td>\n",
       "      <td>NaN</td>\n",
       "      <td>Australia</td>\n",
       "      <td>Melbourne, Victoria</td>\n",
       "      <td>Split-up</td>\n",
       "      <td>1968.0</td>\n",
       "      <td>1968-1972</td>\n",
       "      <td>melbourne</td>\n",
       "      <td>-37.813938</td>\n",
       "      <td>144.963425</td>\n",
       "    </tr>\n",
       "    <tr>\n",
       "      <th>...</th>\n",
       "      <td>...</td>\n",
       "      <td>...</td>\n",
       "      <td>...</td>\n",
       "      <td>...</td>\n",
       "      <td>...</td>\n",
       "      <td>...</td>\n",
       "      <td>...</td>\n",
       "      <td>...</td>\n",
       "      <td>...</td>\n",
       "      <td>...</td>\n",
       "      <td>...</td>\n",
       "      <td>...</td>\n",
       "      <td>...</td>\n",
       "    </tr>\n",
       "    <tr>\n",
       "      <th>128309</th>\n",
       "      <td>Manawydan</td>\n",
       "      <td>https://www.metal-archives.com/bands/Manawydan...</td>\n",
       "      <td>Black Metal</td>\n",
       "      <td>['History / Indigenous history']</td>\n",
       "      <td>Unsigned/independent</td>\n",
       "      <td>United States</td>\n",
       "      <td>Columbus, Ohio</td>\n",
       "      <td>Active</td>\n",
       "      <td>2022.0</td>\n",
       "      <td>2022-present</td>\n",
       "      <td>columbus</td>\n",
       "      <td>33.758056</td>\n",
       "      <td>-86.753333</td>\n",
       "    </tr>\n",
       "    <tr>\n",
       "      <th>128310</th>\n",
       "      <td>Черновство</td>\n",
       "      <td>https://www.metal-archives.com/bands/%D0%A7%D0...</td>\n",
       "      <td>Black Metal, Ambient</td>\n",
       "      <td>NaN</td>\n",
       "      <td>Unsigned/independent</td>\n",
       "      <td>Russia</td>\n",
       "      <td>Tver, Tver Oblast</td>\n",
       "      <td>Active</td>\n",
       "      <td>2022.0</td>\n",
       "      <td>?-2022 (as),2022-present</td>\n",
       "      <td>tver</td>\n",
       "      <td>56.860491</td>\n",
       "      <td>35.876027</td>\n",
       "    </tr>\n",
       "    <tr>\n",
       "      <th>128312</th>\n",
       "      <td>Cineres</td>\n",
       "      <td>https://www.metal-archives.com/bands/Cineres/3...</td>\n",
       "      <td>Melodic Black Metal</td>\n",
       "      <td>['Philosophy', ' Abstract themes']</td>\n",
       "      <td>Unsigned/independent</td>\n",
       "      <td>Slovakia</td>\n",
       "      <td>Nitra, Nitra</td>\n",
       "      <td>Active</td>\n",
       "      <td>2022.0</td>\n",
       "      <td>2022-present</td>\n",
       "      <td>nitra</td>\n",
       "      <td>48.316667</td>\n",
       "      <td>19.783333</td>\n",
       "    </tr>\n",
       "    <tr>\n",
       "      <th>128313</th>\n",
       "      <td>Dark Triumph</td>\n",
       "      <td>https://www.metal-archives.com/bands/Dark_Triu...</td>\n",
       "      <td>Symphonic Black Metal</td>\n",
       "      <td>['Agony', ' Darkness', ' Death']</td>\n",
       "      <td>Unsigned/independent</td>\n",
       "      <td>Brazil</td>\n",
       "      <td>Belo Horizonte, Minas Gerais</td>\n",
       "      <td>Active</td>\n",
       "      <td>2022.0</td>\n",
       "      <td>2022-present</td>\n",
       "      <td>belo horizonte</td>\n",
       "      <td>-9.450000</td>\n",
       "      <td>-37.266667</td>\n",
       "    </tr>\n",
       "    <tr>\n",
       "      <th>128314</th>\n",
       "      <td>Contemptuous Infestation</td>\n",
       "      <td>https://www.metal-archives.com/bands/Contemptu...</td>\n",
       "      <td>Brutal Death Metal</td>\n",
       "      <td>NaN</td>\n",
       "      <td>Unsigned/independent</td>\n",
       "      <td>United Kingdom</td>\n",
       "      <td>Macclesfield, Cheshire, England</td>\n",
       "      <td>Active</td>\n",
       "      <td>2022.0</td>\n",
       "      <td>2022-present</td>\n",
       "      <td>macclesfield</td>\n",
       "      <td>53.250000</td>\n",
       "      <td>-2.116667</td>\n",
       "    </tr>\n",
       "  </tbody>\n",
       "</table>\n",
       "<p>107180 rows × 13 columns</p>\n",
       "</div>"
      ],
      "text/plain": [
       "                            name  \\\n",
       "index                              \n",
       "2                      Scorpions   \n",
       "3                Faithful Breath   \n",
       "4                      Limelight   \n",
       "5                    Deep Purple   \n",
       "7                            Ash   \n",
       "...                          ...   \n",
       "128309                 Manawydan   \n",
       "128310                Черновство   \n",
       "128312                   Cineres   \n",
       "128313              Dark Triumph   \n",
       "128314  Contemptuous Infestation   \n",
       "\n",
       "                                                      url  \\\n",
       "index                                                       \n",
       "2       https://www.metal-archives.com/bands/Scorpions...   \n",
       "3       https://www.metal-archives.com/bands/Faithful_...   \n",
       "4       https://www.metal-archives.com/bands/Limelight...   \n",
       "5       https://www.metal-archives.com/bands/Deep_Purp...   \n",
       "7       https://www.metal-archives.com/bands/Ash/35404...   \n",
       "...                                                   ...   \n",
       "128309  https://www.metal-archives.com/bands/Manawydan...   \n",
       "128310  https://www.metal-archives.com/bands/%D0%A7%D0...   \n",
       "128312  https://www.metal-archives.com/bands/Cineres/3...   \n",
       "128313  https://www.metal-archives.com/bands/Dark_Triu...   \n",
       "128314  https://www.metal-archives.com/bands/Contemptu...   \n",
       "\n",
       "                                                    genre  \\\n",
       "index                                                       \n",
       "2                                   Heavy Metal/Hard Rock   \n",
       "3       Progressive Rock (early); Heavy Metal/Hard Roc...   \n",
       "4                            NWOBHM/Heavy Metal/Hard Rock   \n",
       "5                                   Heavy Metal/Hard Rock   \n",
       "7       Psychedelic Pop/Rock (early); Heavy Metal/Hard...   \n",
       "...                                                   ...   \n",
       "128309                                        Black Metal   \n",
       "128310                               Black Metal, Ambient   \n",
       "128312                                Melodic Black Metal   \n",
       "128313                              Symphonic Black Metal   \n",
       "128314                                 Brutal Death Metal   \n",
       "\n",
       "                                                    theme  \\\n",
       "index                                                       \n",
       "2       ['Life', ' Society', ' Love', ' Sex', ' Inner ...   \n",
       "3                     ['Adventure', ' Fantasy', ' Women']   \n",
       "4             ['Life', ' Feelings', ' Love', ' Thoughts']   \n",
       "5       [\"Rock 'n' Roll\", ' Love', ' Relationships', '...   \n",
       "7                                                     NaN   \n",
       "...                                                   ...   \n",
       "128309                   ['History / Indigenous history']   \n",
       "128310                                                NaN   \n",
       "128312                 ['Philosophy', ' Abstract themes']   \n",
       "128313                   ['Agony', ' Darkness', ' Death']   \n",
       "128314                                                NaN   \n",
       "\n",
       "                       label         country  \\\n",
       "index                                          \n",
       "2                        NaN         Germany   \n",
       "3                        NaN         Germany   \n",
       "4                        NaN  United Kingdom   \n",
       "5                        NaN  United Kingdom   \n",
       "7                        NaN       Australia   \n",
       "...                      ...             ...   \n",
       "128309  Unsigned/independent   United States   \n",
       "128310  Unsigned/independent          Russia   \n",
       "128312  Unsigned/independent        Slovakia   \n",
       "128313  Unsigned/independent          Brazil   \n",
       "128314  Unsigned/independent  United Kingdom   \n",
       "\n",
       "                                   location        status    date  \\\n",
       "index                                                               \n",
       "2                    Hannover, Lower Saxony        Active  1964.0   \n",
       "3            Witten, North Rhine-Westphalia  Changed name  1967.0   \n",
       "4       Mansfield, Nottinghamshire, England      Split-up  1967.0   \n",
       "5          Hertford, Hertfordshire, England        Active  1968.0   \n",
       "7                       Melbourne, Victoria      Split-up  1968.0   \n",
       "...                                     ...           ...     ...   \n",
       "128309                       Columbus, Ohio        Active  2022.0   \n",
       "128310                    Tver, Tver Oblast        Active  2022.0   \n",
       "128312                         Nitra, Nitra        Active  2022.0   \n",
       "128313         Belo Horizonte, Minas Gerais        Active  2022.0   \n",
       "128314      Macclesfield, Cheshire, England        Active  2022.0   \n",
       "\n",
       "                                          years            city        lat  \\\n",
       "index                                                                        \n",
       "2                                  1964-present        hannover  53.183333   \n",
       "3       1966-1967 (as),1967-1986,1986-1993 (as)          witten  51.433333   \n",
       "4                                   1967-?,1997       mansfield  53.133333   \n",
       "5         1967-1968 (as),1968-1976,1984-present        hertford  51.800000   \n",
       "7                                     1968-1972       melbourne -37.813938   \n",
       "...                                         ...             ...        ...   \n",
       "128309                             2022-present        columbus  33.758056   \n",
       "128310                 ?-2022 (as),2022-present            tver  56.860491   \n",
       "128312                             2022-present           nitra  48.316667   \n",
       "128313                             2022-present  belo horizonte  -9.450000   \n",
       "128314                             2022-present    macclesfield  53.250000   \n",
       "\n",
       "               lon  \n",
       "index               \n",
       "2         8.516667  \n",
       "3         7.333333  \n",
       "4        -1.200000  \n",
       "5        -0.066667  \n",
       "7       144.963425  \n",
       "...            ...  \n",
       "128309  -86.753333  \n",
       "128310   35.876027  \n",
       "128312   19.783333  \n",
       "128313  -37.266667  \n",
       "128314   -2.116667  \n",
       "\n",
       "[107180 rows x 13 columns]"
      ]
     },
     "execution_count": 32,
     "metadata": {},
     "output_type": "execute_result"
    }
   ],
   "source": [
    "bands_st = bands_st.reset_index().merge(cities, on=['country', 'city'], how='left').set_index('index')\n",
    "bands_st = bands_st.dropna(subset=['lat', 'lon'])\n",
    "bands_st.to_csv('data/ma_bands_st.csv')\n",
    "bands_st"
   ]
  },
  {
   "cell_type": "markdown",
   "id": "5f1c5db0",
   "metadata": {},
   "source": [
    "## Locations of all the metal bands"
   ]
  },
  {
   "cell_type": "code",
   "execution_count": 33,
   "id": "a8e215f6",
   "metadata": {},
   "outputs": [
    {
     "data": {
      "image/png": "[encoded data removed]",
      "text/plain": [
       "<Figure size 640x480 with 1 Axes>"
      ]
     },
     "metadata": {},
     "output_type": "display_data"
    }
   ],
   "source": [
    "import cartopy.crs as ccrs\n",
    "import cartopy.feature as cf\n",
    "proj = ccrs.PlateCarree()\n",
    "ax = plt.axes(projection=proj)\n",
    "\n",
    "ax.scatter(bands_st.loc[:, 'lon'], bands_st.loc[:, 'lat'], marker='o', s=10, color=\"r\", alpha=0.01,\n",
    "           transform=proj)\n",
    "ax.coastlines()\n",
    "ax.set_extent([-180, 180, -90, 90])\n",
    "ax.gridlines(draw_labels=True);"
   ]
  }
 ],
 "metadata": {
  "kernelspec": {
   "display_name": "Python 3 (ipykernel)",
   "language": "python",
   "name": "python3"
  },
  "language_info": {
   "codemirror_mode": {
    "name": "ipython",
    "version": 3
   },
   "file_extension": ".py",
   "mimetype": "text/x-python",
   "name": "python",
   "nbconvert_exporter": "python",
   "pygments_lexer": "ipython3",
   "version": "3.10.7"
  }
 },
 "nbformat": 4,
 "nbformat_minor": 5
}
