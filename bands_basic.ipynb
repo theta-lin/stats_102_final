{
 "cells": [
  {
   "cell_type": "code",
   "execution_count": 1,
   "id": "4e1c25e7",
   "metadata": {},
   "outputs": [],
   "source": [
    "%matplotlib inline\n",
    "import matplotlib.pyplot as plt\n",
    "import pandas as pd\n",
    "\n",
    "bands_data = pd.read_csv('data/ma_bands_data.csv', index_col=0)"
   ]
  },
  {
   "cell_type": "code",
   "execution_count": 2,
   "id": "b8f36b4d",
   "metadata": {},
   "outputs": [
    {
     "name": "stdout",
     "output_type": "stream",
     "text": [
      "<class 'pandas.core.frame.DataFrame'>\n",
      "Int64Index: 129471 entries, 0 to 129470\n",
      "Data columns (total 10 columns):\n",
      " #   Column    Non-Null Count   Dtype  \n",
      "---  ------    --------------   -----  \n",
      " 0   name      129471 non-null  object \n",
      " 1   url       129471 non-null  object \n",
      " 2   genre     129471 non-null  object \n",
      " 3   theme     71530 non-null   object \n",
      " 4   label     79606 non-null   object \n",
      " 5   country   129471 non-null  object \n",
      " 6   location  125465 non-null  object \n",
      " 7   status    129471 non-null  object \n",
      " 8   date      128315 non-null  float64\n",
      " 9   years     128414 non-null  object \n",
      "dtypes: float64(1), object(9)\n",
      "memory usage: 10.9+ MB\n"
     ]
    }
   ],
   "source": [
    "bands_data.info()"
   ]
  },
  {
   "cell_type": "code",
   "execution_count": 3,
   "id": "f7d1ffdf",
   "metadata": {},
   "outputs": [
    {
     "data": {
      "text/plain": [
       "status\n",
       "Active          70708\n",
       "Changed name     6011\n",
       "Disputed           29\n",
       "On hold          3363\n",
       "Split-up        39811\n",
       "Unknown          9549\n",
       "dtype: int64"
      ]
     },
     "execution_count": 3,
     "metadata": {},
     "output_type": "execute_result"
    }
   ],
   "source": [
    "bands_data.groupby('status').size()"
   ]
  },
  {
   "cell_type": "code",
   "execution_count": 4,
   "id": "5c78609d",
   "metadata": {},
   "outputs": [
    {
     "data": {
      "text/plain": [
       "153"
      ]
     },
     "execution_count": 4,
     "metadata": {},
     "output_type": "execute_result"
    }
   ],
   "source": [
    "bands_data['country'].nunique()"
   ]
  },
  {
   "cell_type": "code",
   "execution_count": 5,
   "id": "095529ad",
   "metadata": {},
   "outputs": [
    {
     "data": {
      "text/plain": [
       "country\n",
       "United States     25390\n",
       "Germany           10447\n",
       "Brazil             6615\n",
       "Italy              6546\n",
       "United Kingdom     5169\n",
       "France             5015\n",
       "Sweden             4418\n",
       "Russia             4217\n",
       "Canada             4016\n",
       "Spain              3972\n",
       "Finland            3794\n",
       "Poland             3501\n",
       "Mexico             3279\n",
       "Chile              2574\n",
       "Argentina          2566\n",
       "Australia          2539\n",
       "Netherlands        2274\n",
       "Japan              2141\n",
       "Greece             1980\n",
       "Colombia           1894\n",
       "dtype: int64"
      ]
     },
     "execution_count": 5,
     "metadata": {},
     "output_type": "execute_result"
    }
   ],
   "source": [
    "bands_data.groupby('country').size().nlargest(20)"
   ]
  },
  {
   "cell_type": "code",
   "execution_count": 6,
   "id": "e465bd5c",
   "metadata": {},
   "outputs": [
    {
     "data": {
      "text/plain": [
       "Finland             684.745463\n",
       "Iceland             426.388915\n",
       "Sweden              418.793694\n",
       "Liechtenstein       406.845170\n",
       "Norway              308.226293\n",
       "Falkland Islands    264.550265\n",
       "Faroe Islands       263.703146\n",
       "Guernsey            205.368004\n",
       "Greece              190.660138\n",
       "Gibraltar           183.772857\n",
       "Estonia             169.675324\n",
       "Denmark             156.062439\n",
       "Malta               148.138147\n",
       "Austria             140.162604\n",
       "Luxembourg          137.430725\n",
       "Monaco              137.102745\n",
       "Slovenia            133.500390\n",
       "Chile               131.301523\n",
       "Netherlands         129.469266\n",
       "Germany             125.309100\n",
       "Croatia             119.592354\n",
       "Portugal            118.685232\n",
       "Switzerland         114.753528\n",
       "Italy               110.878728\n",
       "Belgium             108.614242\n",
       "Hungary             106.949640\n",
       "Greenland           106.258634\n",
       "Slovakia            105.609101\n",
       "Canada              104.435581\n",
       "Australia            96.992014\n",
       "dtype: float64"
      ]
     },
     "execution_count": 6,
     "metadata": {},
     "output_type": "execute_result"
    }
   ],
   "source": [
    "population = pd.read_csv('data/world_population.csv')\n",
    "pop_2022 = population.set_index('Country')['2022 Population']\n",
    "bands_country = bands_data.groupby('country').size()\n",
    "bands_per_million = bands_country / (pop_2022 / 1e6)\n",
    "bands_per_million.nlargest(30)"
   ]
  },
  {
   "cell_type": "code",
   "execution_count": 7,
   "id": "fbe77a3d",
   "metadata": {},
   "outputs": [
    {
     "data": {
      "text/plain": [
       "Ethiopia        0.008105\n",
       "Afghanistan     0.024314\n",
       "Mozambique      0.060662\n",
       "Uganda          0.063493\n",
       "Kenya           0.092545\n",
       "Myanmar         0.129201\n",
       "Zimbabwe        0.183817\n",
       "India           0.189814\n",
       "Palestine       0.190474\n",
       "Pakistan        0.212022\n",
       "Angola          0.224789\n",
       "Uzbekistan      0.231029\n",
       "Cambodia        0.238552\n",
       "China           0.251072\n",
       "Iraq            0.269686\n",
       "Tajikistan      0.301423\n",
       "Turkmenistan    0.311005\n",
       "Saudi Arabia    0.384522\n",
       "Egypt           0.423461\n",
       "Oman            0.437034\n",
       "Bangladesh      0.473169\n",
       "Vietnam         0.499048\n",
       "Madagascar      0.574097\n",
       "Algeria         0.645833\n",
       "Laos            0.664057\n",
       "Morocco         0.747504\n",
       "Namibia         0.779116\n",
       "Libya           0.880755\n",
       "Jamaica         1.061054\n",
       "Nepal           1.080282\n",
       "dtype: float64"
      ]
     },
     "execution_count": 7,
     "metadata": {},
     "output_type": "execute_result"
    }
   ],
   "source": [
    "bands_per_million.nsmallest(30)"
   ]
  },
  {
   "cell_type": "code",
   "execution_count": 8,
   "id": "0992b161",
   "metadata": {},
   "outputs": [
    {
     "data": {
      "text/plain": [
       "0.25107172965938196"
      ]
     },
     "execution_count": 8,
     "metadata": {},
     "output_type": "execute_result"
    }
   ],
   "source": [
    "bands_per_million['China']"
   ]
  },
  {
   "cell_type": "code",
   "execution_count": 9,
   "id": "76b74987",
   "metadata": {},
   "outputs": [
    {
     "data": {
      "text/plain": [
       "Bahrain                   10.188605\n",
       "Lebanon                   10.383007\n",
       "Reunion                   11.293032\n",
       "Belize                    12.337393\n",
       "Moldova                   13.137810\n",
       "Maldives                  15.273384\n",
       "Malaysia                  16.323778\n",
       "Venezuela                 16.712779\n",
       "New Caledonia             17.244352\n",
       "Japan                     17.272858\n",
       "Peru                      18.296844\n",
       "Panama                    19.280580\n",
       "Romania                   21.821770\n",
       "Bolivia                   23.396386\n",
       "Isle of Man               23.663318\n",
       "Montenegro                23.920317\n",
       "Mexico                    25.716815\n",
       "El Salvador               26.355693\n",
       "Ukraine                   27.479905\n",
       "Guam                      29.108014\n",
       "Russia                    29.140373\n",
       "Paraguay                  29.937718\n",
       "Ecuador                   30.498306\n",
       "Brazil                    30.722644\n",
       "Israel                    31.089886\n",
       "Bosnia and Herzegovina    36.183411\n",
       "Colombia                  36.511530\n",
       "Belarus                   41.950910\n",
       "Singapore                 43.509627\n",
       "North Macedonia           48.242285\n",
       "dtype: float64"
      ]
     },
     "execution_count": 9,
     "metadata": {},
     "output_type": "execute_result"
    }
   ],
   "source": [
    "bands_per_million[bands_per_million > 10].nsmallest(30)"
   ]
  },
  {
   "cell_type": "code",
   "execution_count": 10,
   "id": "6eff3784",
   "metadata": {},
   "outputs": [
    {
     "data": {
      "text/html": [
       "<div>\n",
       "<style scoped>\n",
       "    .dataframe tbody tr th:only-of-type {\n",
       "        vertical-align: middle;\n",
       "    }\n",
       "\n",
       "    .dataframe tbody tr th {\n",
       "        vertical-align: top;\n",
       "    }\n",
       "\n",
       "    .dataframe thead th {\n",
       "        text-align: right;\n",
       "    }\n",
       "</style>\n",
       "<table border=\"1\" class=\"dataframe\">\n",
       "  <thead>\n",
       "    <tr style=\"text-align: right;\">\n",
       "      <th></th>\n",
       "      <th>name</th>\n",
       "      <th>url</th>\n",
       "      <th>genre</th>\n",
       "      <th>theme</th>\n",
       "      <th>label</th>\n",
       "      <th>country</th>\n",
       "      <th>location</th>\n",
       "      <th>status</th>\n",
       "      <th>date</th>\n",
       "      <th>years</th>\n",
       "    </tr>\n",
       "  </thead>\n",
       "  <tbody>\n",
       "    <tr>\n",
       "      <th>16551</th>\n",
       "      <td>Bloodrust</td>\n",
       "      <td>https://www.metal-archives.com/bands/Bloodrust...</td>\n",
       "      <td>Death Metal</td>\n",
       "      <td>['War', ' Death', ' Oppression', ' Madness', '...</td>\n",
       "      <td>NaN</td>\n",
       "      <td>Falkland Islands</td>\n",
       "      <td>NaN</td>\n",
       "      <td>Active</td>\n",
       "      <td>2010.0</td>\n",
       "      <td>2010-present</td>\n",
       "    </tr>\n",
       "  </tbody>\n",
       "</table>\n",
       "</div>"
      ],
      "text/plain": [
       "            name                                                url  \\\n",
       "16551  Bloodrust  https://www.metal-archives.com/bands/Bloodrust...   \n",
       "\n",
       "             genre                                              theme label  \\\n",
       "16551  Death Metal  ['War', ' Death', ' Oppression', ' Madness', '...   NaN   \n",
       "\n",
       "                country location  status    date         years  \n",
       "16551  Falkland Islands      NaN  Active  2010.0  2010-present  "
      ]
     },
     "execution_count": 10,
     "metadata": {},
     "output_type": "execute_result"
    }
   ],
   "source": [
    "bands_data[bands_data['country'] == 'Falkland Islands']"
   ]
  },
  {
   "cell_type": "code",
   "execution_count": 11,
   "id": "eef18ed4",
   "metadata": {},
   "outputs": [
    {
     "data": {
      "text/plain": [
       "Monaco            2500.000000\n",
       "Gibraltar          857.142857\n",
       "Singapore          375.180375\n",
       "Malta              250.000000\n",
       "Guernsey           166.666667\n",
       "Liechtenstein      100.000000\n",
       "Jersey              60.344828\n",
       "Netherlands         54.760873\n",
       "Belgium             41.470126\n",
       "Hong Kong           35.714286\n",
       "Luxembourg          34.416087\n",
       "San Marino          32.786885\n",
       "Germany             29.261584\n",
       "Maldives            26.666667\n",
       "Switzerland         24.291596\n",
       "Bahrain             22.556391\n",
       "Italy               21.730903\n",
       "Denmark             21.302269\n",
       "United Kingdom      21.113471\n",
       "Greece              15.006821\n",
       "Austria             14.939788\n",
       "Slovenia            13.959453\n",
       "Israel              13.529129\n",
       "Portugal            13.193926\n",
       "Slovakia            12.201863\n",
       "Puerto Rico         11.675127\n",
       "Hungary             11.458669\n",
       "Finland             11.220039\n",
       "Poland              11.196572\n",
       "Faroe Islands       10.007148\n",
       "dtype: float64"
      ]
     },
     "execution_count": 11,
     "metadata": {},
     "output_type": "execute_result"
    }
   ],
   "source": [
    "countries = pd.read_csv('data/countries of the world.csv')\n",
    "countries['Country'] = countries['Country'].str.strip()\n",
    "area = countries.set_index('Country')['Area (sq. mi.)']\n",
    "bands_per_thousand_sq_mi = bands_country / (area / 1e3)\n",
    "bands_per_thousand_sq_mi.nlargest(30)"
   ]
  },
  {
   "cell_type": "code",
   "execution_count": 12,
   "id": "f9553c0c",
   "metadata": {},
   "outputs": [
    {
     "data": {
      "text/plain": [
       "Ethiopia        0.000887\n",
       "Afghanistan     0.001544\n",
       "Namibia         0.002423\n",
       "Mozambique      0.002495\n",
       "Greenland       0.002770\n",
       "Libya           0.003410\n",
       "Mongolia        0.003836\n",
       "Turkmenistan    0.004098\n",
       "Angola          0.006417\n",
       "Saudi Arabia    0.007141\n",
       "Zimbabwe        0.007681\n",
       "Kenya           0.008581\n",
       "Oman            0.009414\n",
       "Botswana        0.011659\n",
       "Algeria         0.012176\n",
       "Suriname        0.012250\n",
       "Uganda          0.012710\n",
       "Uzbekistan      0.017881\n",
       "Tajikistan      0.020964\n",
       "Kazakhstan      0.020977\n",
       "Laos            0.021115\n",
       "Cambodia        0.022095\n",
       "Guyana          0.023259\n",
       "Iraq            0.027455\n",
       "Madagascar      0.028959\n",
       "China           0.037303\n",
       "Kyrgyzstan      0.045340\n",
       "Egypt           0.046932\n",
       "Pakistan        0.062194\n",
       "Morocco         0.062703\n",
       "dtype: float64"
      ]
     },
     "execution_count": 12,
     "metadata": {},
     "output_type": "execute_result"
    }
   ],
   "source": [
    "bands_per_thousand_sq_mi.nsmallest(30)"
   ]
  },
  {
   "cell_type": "code",
   "execution_count": 13,
   "id": "ca7b16c8",
   "metadata": {},
   "outputs": [
    {
     "data": {
      "text/html": [
       "<div>\n",
       "<style scoped>\n",
       "    .dataframe tbody tr th:only-of-type {\n",
       "        vertical-align: middle;\n",
       "    }\n",
       "\n",
       "    .dataframe tbody tr th {\n",
       "        vertical-align: top;\n",
       "    }\n",
       "\n",
       "    .dataframe thead th {\n",
       "        text-align: right;\n",
       "    }\n",
       "</style>\n",
       "<table border=\"1\" class=\"dataframe\">\n",
       "  <thead>\n",
       "    <tr style=\"text-align: right;\">\n",
       "      <th></th>\n",
       "      <th>name</th>\n",
       "      <th>url</th>\n",
       "      <th>genre</th>\n",
       "      <th>theme</th>\n",
       "      <th>label</th>\n",
       "      <th>country</th>\n",
       "      <th>location</th>\n",
       "      <th>status</th>\n",
       "      <th>date</th>\n",
       "      <th>years</th>\n",
       "    </tr>\n",
       "  </thead>\n",
       "  <tbody>\n",
       "    <tr>\n",
       "      <th>6139</th>\n",
       "      <td>Angelwings</td>\n",
       "      <td>https://www.metal-archives.com/bands/Angelwing...</td>\n",
       "      <td>Symphonic Metal</td>\n",
       "      <td>['Mystical fantasy']</td>\n",
       "      <td>NaN</td>\n",
       "      <td>Gibraltar</td>\n",
       "      <td>Gibraltar</td>\n",
       "      <td>Active</td>\n",
       "      <td>2013.0</td>\n",
       "      <td>2013-present</td>\n",
       "    </tr>\n",
       "    <tr>\n",
       "      <th>28627</th>\n",
       "      <td>Days of Our Lives</td>\n",
       "      <td>https://www.metal-archives.com/bands/Days_of_O...</td>\n",
       "      <td>Depressive Black Metal</td>\n",
       "      <td>['Depression', ' Loneliness', ' Suicide']</td>\n",
       "      <td>NaN</td>\n",
       "      <td>Gibraltar</td>\n",
       "      <td>Gibraltar</td>\n",
       "      <td>Split-up</td>\n",
       "      <td>2010.0</td>\n",
       "      <td>2010-?</td>\n",
       "    </tr>\n",
       "    <tr>\n",
       "      <th>49807</th>\n",
       "      <td>Gomorrah's Ruin</td>\n",
       "      <td>https://www.metal-archives.com/bands/Gomorrah%...</td>\n",
       "      <td>Black/Death Metal</td>\n",
       "      <td>['Satanism', ' Blasphemy', ' Perversion']</td>\n",
       "      <td>Unsigned/independent</td>\n",
       "      <td>Gibraltar</td>\n",
       "      <td>Gibraltar</td>\n",
       "      <td>Unknown</td>\n",
       "      <td>2020.0</td>\n",
       "      <td>2020-?</td>\n",
       "    </tr>\n",
       "    <tr>\n",
       "      <th>73076</th>\n",
       "      <td>Meta-Stasis</td>\n",
       "      <td>https://www.metal-archives.com/bands/Meta-Stas...</td>\n",
       "      <td>Death/Nu-Metal</td>\n",
       "      <td>['Insanity', ' Murder', ' Death']</td>\n",
       "      <td>NaN</td>\n",
       "      <td>Gibraltar</td>\n",
       "      <td>Gibraltar (early); London, England, United Kin...</td>\n",
       "      <td>Active</td>\n",
       "      <td>2004.0</td>\n",
       "      <td>2004-2008 (as),2008-present</td>\n",
       "    </tr>\n",
       "    <tr>\n",
       "      <th>85114</th>\n",
       "      <td>Oracle</td>\n",
       "      <td>https://www.metal-archives.com/bands/Oracle/80417</td>\n",
       "      <td>Melodic Heavy Metal</td>\n",
       "      <td>['Dreams', ' Death', ' Life situations']</td>\n",
       "      <td>NaN</td>\n",
       "      <td>Gibraltar</td>\n",
       "      <td>Gibraltar</td>\n",
       "      <td>Split-up</td>\n",
       "      <td>1987.0</td>\n",
       "      <td>1987-1989</td>\n",
       "    </tr>\n",
       "    <tr>\n",
       "      <th>102370</th>\n",
       "      <td>Sinister Sacrament</td>\n",
       "      <td>https://www.metal-archives.com/bands/Sinister_...</td>\n",
       "      <td>Blackened Doom/Death Metal</td>\n",
       "      <td>['Horror', ' Occult', ' Death', ' Mental illne...</td>\n",
       "      <td>Unsigned/independent</td>\n",
       "      <td>Gibraltar</td>\n",
       "      <td>Gibraltar</td>\n",
       "      <td>Active</td>\n",
       "      <td>2021.0</td>\n",
       "      <td>2014-2021 (as),2021-present</td>\n",
       "    </tr>\n",
       "  </tbody>\n",
       "</table>\n",
       "</div>"
      ],
      "text/plain": [
       "                      name                                                url  \\\n",
       "6139            Angelwings  https://www.metal-archives.com/bands/Angelwing...   \n",
       "28627    Days of Our Lives  https://www.metal-archives.com/bands/Days_of_O...   \n",
       "49807      Gomorrah's Ruin  https://www.metal-archives.com/bands/Gomorrah%...   \n",
       "73076          Meta-Stasis  https://www.metal-archives.com/bands/Meta-Stas...   \n",
       "85114               Oracle  https://www.metal-archives.com/bands/Oracle/80417   \n",
       "102370  Sinister Sacrament  https://www.metal-archives.com/bands/Sinister_...   \n",
       "\n",
       "                             genre  \\\n",
       "6139               Symphonic Metal   \n",
       "28627       Depressive Black Metal   \n",
       "49807            Black/Death Metal   \n",
       "73076               Death/Nu-Metal   \n",
       "85114          Melodic Heavy Metal   \n",
       "102370  Blackened Doom/Death Metal   \n",
       "\n",
       "                                                    theme  \\\n",
       "6139                                 ['Mystical fantasy']   \n",
       "28627           ['Depression', ' Loneliness', ' Suicide']   \n",
       "49807           ['Satanism', ' Blasphemy', ' Perversion']   \n",
       "73076                   ['Insanity', ' Murder', ' Death']   \n",
       "85114            ['Dreams', ' Death', ' Life situations']   \n",
       "102370  ['Horror', ' Occult', ' Death', ' Mental illne...   \n",
       "\n",
       "                       label    country  \\\n",
       "6139                     NaN  Gibraltar   \n",
       "28627                    NaN  Gibraltar   \n",
       "49807   Unsigned/independent  Gibraltar   \n",
       "73076                    NaN  Gibraltar   \n",
       "85114                    NaN  Gibraltar   \n",
       "102370  Unsigned/independent  Gibraltar   \n",
       "\n",
       "                                                 location    status    date  \\\n",
       "6139                                            Gibraltar    Active  2013.0   \n",
       "28627                                           Gibraltar  Split-up  2010.0   \n",
       "49807                                           Gibraltar   Unknown  2020.0   \n",
       "73076   Gibraltar (early); London, England, United Kin...    Active  2004.0   \n",
       "85114                                           Gibraltar  Split-up  1987.0   \n",
       "102370                                          Gibraltar    Active  2021.0   \n",
       "\n",
       "                              years  \n",
       "6139                   2013-present  \n",
       "28627                        2010-?  \n",
       "49807                        2020-?  \n",
       "73076   2004-2008 (as),2008-present  \n",
       "85114                     1987-1989  \n",
       "102370  2014-2021 (as),2021-present  "
      ]
     },
     "execution_count": 13,
     "metadata": {},
     "output_type": "execute_result"
    }
   ],
   "source": [
    "bands_data[bands_data['country'] == 'Gibraltar']"
   ]
  },
  {
   "cell_type": "code",
   "execution_count": 14,
   "id": "6c768680",
   "metadata": {},
   "outputs": [
    {
     "data": {
      "text/plain": [
       "location\n",
       "Santiago                       1039\n",
       "Athens, Attica                  983\n",
       "Moscow                          976\n",
       "São Paulo, São Paulo            938\n",
       "Tokyo                           836\n",
       "Los Angeles, California         828\n",
       "Buenos Aires                    817\n",
       "Mexico City                     806\n",
       "Bogota                          692\n",
       "London, England                 670\n",
       "Chicago, Illinois               649\n",
       "Stockholm                       637\n",
       "Melbourne, Victoria             602\n",
       "Paris, Île-de-France            596\n",
       "Helsinki, Uusimaa               559\n",
       "Montréal, Quebec                512\n",
       "Rome, Lazio                     506\n",
       "New York, New York              503\n",
       "Madrid, Community of Madrid     488\n",
       "Portland, Oregon                464\n",
       "dtype: int64"
      ]
     },
     "execution_count": 14,
     "metadata": {},
     "output_type": "execute_result"
    }
   ],
   "source": [
    "bands_data.groupby('location').size().nlargest(20)"
   ]
  },
  {
   "cell_type": "code",
   "execution_count": 15,
   "id": "e5ec4bb8",
   "metadata": {},
   "outputs": [
    {
     "data": {
      "text/plain": [
       "Death                14699\n",
       "War                   7168\n",
       "Darkness              5391\n",
       "Gore                  4370\n",
       "Satanism              4202\n",
       "Life                  3909\n",
       "Violence              3645\n",
       "Nature                3123\n",
       "Society               3111\n",
       "Fantasy               3041\n",
       "Anti-Christianity     2847\n",
       "Occultism             2792\n",
       "Hate                  2752\n",
       "Misanthropy           2615\n",
       "Depression            2515\n",
       "Politics              2253\n",
       "Evil                  2178\n",
       "Horror                2132\n",
       "Anti-religion         1818\n",
       "Blasphemy             1770\n",
       "Philosophy            1713\n",
       "Christianity          1710\n",
       "Instrumental          1688\n",
       "Love                  1663\n",
       "Paganism              1648\n",
       "Religion              1612\n",
       "Hatred                1553\n",
       "History               1456\n",
       "Mythology             1443\n",
       "Satan                 1369\n",
       "Name: theme, dtype: int64"
      ]
     },
     "execution_count": 15,
     "metadata": {},
     "output_type": "execute_result"
    }
   ],
   "source": [
    "bands_data['theme'].str.findall('[0-9A-Za-z][0-9A-Za-z/\\-\\s]*').explode().str.strip().value_counts().nlargest(30)"
   ]
  },
  {
   "cell_type": "code",
   "execution_count": 16,
   "id": "4a46d404",
   "metadata": {},
   "outputs": [
    {
     "data": {
      "text/plain": [
       "33"
      ]
     },
     "execution_count": 16,
     "metadata": {},
     "output_type": "execute_result"
    }
   ],
   "source": [
    "bands_data['theme'].str.findall('[0-9A-Za-z][0-9A-Za-z/\\-\\s]*').explode().str.strip().value_counts()['Peace']"
   ]
  },
  {
   "cell_type": "code",
   "execution_count": 17,
   "id": "13d86aa3",
   "metadata": {},
   "outputs": [
    {
     "data": {
      "text/plain": [
       "29"
      ]
     },
     "execution_count": 17,
     "metadata": {},
     "output_type": "execute_result"
    }
   ],
   "source": [
    "bands_data['theme'].str.findall('[0-9A-Za-z][0-9A-Za-z/\\-\\s]*').explode().str.strip().value_counts()['Light']"
   ]
  },
  {
   "cell_type": "code",
   "execution_count": 18,
   "id": "f0fbc482",
   "metadata": {},
   "outputs": [],
   "source": [
    "year_ranges = bands_data['years'].str.findall('\\d\\d\\d\\d-\\d\\d\\d\\d|\\d\\d\\d\\d-present').explode()\n",
    "year_ranges = year_ranges.str.replace('present', '2022').str.split('-').dropna()\n",
    "\n",
    "count = dict()\n",
    "for begin, end in year_ranges:\n",
    "    for y in range(int(begin), int(end) + 1):\n",
    "        count[y] = count.get(y, 0) + 1\n",
    "count = {k : v for k, v in sorted(count.items())}"
   ]
  },
  {
   "cell_type": "code",
   "execution_count": 19,
   "id": "39d56219",
   "metadata": {},
   "outputs": [
    {
     "data": {
      "text/plain": [
       "[<matplotlib.lines.Line2D at 0x7fe004c924d0>]"
      ]
     },
     "execution_count": 19,
     "metadata": {},
     "output_type": "execute_result"
    },
    {
     "data": {
      "image/png": "[encoded data removed]",
      "text/plain": [
       "<Figure size 640x480 with 1 Axes>"
      ]
     },
     "metadata": {},
     "output_type": "display_data"
    }
   ],
   "source": [
    "plt.plot(count.keys(), count.values())"
   ]
  }
 ],
 "metadata": {
  "kernelspec": {
   "display_name": "Python 3 (ipykernel)",
   "language": "python",
   "name": "python3"
  },
  "language_info": {
   "codemirror_mode": {
    "name": "ipython",
    "version": 3
   },
   "file_extension": ".py",
   "mimetype": "text/x-python",
   "name": "python",
   "nbconvert_exporter": "python",
   "pygments_lexer": "ipython3",
   "version": "3.10.7"
  }
 },
 "nbformat": 4,
 "nbformat_minor": 5
}
