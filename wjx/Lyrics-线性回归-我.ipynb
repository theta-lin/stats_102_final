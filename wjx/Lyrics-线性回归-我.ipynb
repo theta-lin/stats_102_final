{
 "cells": [
  {
   "cell_type": "markdown",
   "id": "04d13c9a",
   "metadata": {},
   "source": [
    "\n",
    "import numpy as np \n",
    "import pandas as pd\n",
    "import matplotlib.pyplot as plt\n",
    "\n",
    "df=pd.read_csv('KeyWords2(wjx).csv',header=None)\n",
    "df=df.drop([0],axis=1)   #删除0、1列（都是序号）\n",
    "df=df.drop([1],axis=0)\n",
    "df.columns=range(df.shape[1])     \n",
    "display(df)"
   ]
  },
  {
   "cell_type": "code",
   "execution_count": null,
   "id": "abb142b6",
   "metadata": {},
   "outputs": [],
   "source": []
  },
  {
   "cell_type": "code",
   "execution_count": 15,
   "id": "e4e3e58b",
   "metadata": {},
   "outputs": [
    {
     "name": "stdout",
     "output_type": "stream",
     "text": [
      "159234 / 238852 \n",
      "\n"
     ]
    }
   ],
   "source": [
    "# train和test的分界位置：前2/3用作训练，后1/3用作测试\n",
    "M=np.int32(df.shape[0]*2/3)\n",
    "IVarCnt=df.shape[1]-2          #自变量个数: 注意最后两列是歌曲名称、歌曲类型\n",
    "print(M,'/',df.shape[0],'\\n')"
   ]
  },
  {
   "cell_type": "code",
   "execution_count": 38,
   "id": "e7ed5ae9",
   "metadata": {},
   "outputs": [
    {
     "name": "stdout",
     "output_type": "stream",
     "text": [
      "\n",
      "x_train (159232, 23)\n",
      "[[0 0 0 ... 5 2 2]\n",
      " [0 0 0 ... 3 1 1]\n",
      " [1 0 0 ... 2 1 0]\n",
      " ...\n",
      " [0 0 0 ... 1 2 1]\n",
      " [0 0 0 ... 2 1 3]\n",
      " [2 0 0 ... 2 1 0]]\n",
      "\n",
      "x_test (79618, 23)\n",
      "[[0 0 0 ... 1 0 1]\n",
      " [0 0 0 ... 3 2 0]\n",
      " [0 1 1 ... 3 1 0]\n",
      " ...\n",
      " [0 2 0 ... 0 0 1]\n",
      " [0 0 0 ... 0 1 0]\n",
      " [0 0 0 ... 2 0 0]]\n"
     ]
    }
   ],
   "source": [
    "# 自变量\n",
    "ColSet=range(2,IVarCnt+2) #自变量在数据集中的位置（列）\n",
    "x=df.iloc[:,ColSet].values\n",
    "x_train=df.iloc[2:M,ColSet].values   \n",
    "x_test= df.iloc[M:, ColSet].values   \n",
    "\n",
    "print('\\nx_train',x_train.shape)\n",
    "print(x_train)\n",
    "print('\\nx_test',x_test.shape)\n",
    "print(x_test)"
   ]
  },
  {
   "cell_type": "code",
   "execution_count": 17,
   "id": "f22478b3",
   "metadata": {},
   "outputs": [
    {
     "name": "stdout",
     "output_type": "stream",
     "text": [
      "\n",
      "Y_train (159232,)\n",
      "['Melodic Death/Power/Black Metal' 'Melodic Death/Power/Black Metal'\n",
      " 'Melodic Death/Power/Black Metal' ... 'Death/Thrash Metal'\n",
      " 'Death/Thrash Metal' 'Death/Thrash Metal']\n",
      "\n",
      "Y_test (79618,)\n",
      "['Death/Thrash Metal' 'Death/Thrash Metal' 'Death/Thrash Metal' ...\n",
      " 'Melodic Black/Folk Metal (early); Melodic Death/Folk Metal (later)'\n",
      " 'Melodic Black/Folk Metal (early); Melodic Death/Folk Metal (later)'\n",
      " 'Melodic Black/Folk Metal (early); Melodic Death/Folk Metal (later)']\n",
      "\n",
      "Y (238852,)\n",
      "['genre' 'Black Metal' 'Melodic Death/Power/Black Metal' ...\n",
      " 'Melodic Black/Folk Metal (early); Melodic Death/Folk Metal (later)'\n",
      " 'Melodic Black/Folk Metal (early); Melodic Death/Folk Metal (later)'\n",
      " 'Melodic Black/Folk Metal (early); Melodic Death/Folk Metal (later)']\n"
     ]
    }
   ],
   "source": [
    "# 为因变量准备原始数据\n",
    "Y=df.iloc[:,1].values     #第1列，即：歌曲类型\n",
    "Y_train=Y[2:M]\n",
    "Y_test= Y[M:]\n",
    "\n",
    "print('\\nY_train',Y_train.shape)\n",
    "print(Y_train)\n",
    "print('\\nY_test',Y_test.shape)\n",
    "print(Y_test)\n",
    "\n",
    "print('\\nY',Y.shape)\n",
    "print(Y)"
   ]
  },
  {
   "cell_type": "code",
   "execution_count": 49,
   "id": "1d48c1c2",
   "metadata": {},
   "outputs": [
    {
     "data": {
      "text/html": [
       "<div>\n",
       "<style scoped>\n",
       "    .dataframe tbody tr th:only-of-type {\n",
       "        vertical-align: middle;\n",
       "    }\n",
       "\n",
       "    .dataframe tbody tr th {\n",
       "        vertical-align: top;\n",
       "    }\n",
       "\n",
       "    .dataframe thead th {\n",
       "        text-align: right;\n",
       "    }\n",
       "</style>\n",
       "<table border=\"1\" class=\"dataframe\">\n",
       "  <thead>\n",
       "    <tr style=\"text-align: right;\">\n",
       "      <th></th>\n",
       "      <th>type</th>\n",
       "      <th>numbers</th>\n",
       "    </tr>\n",
       "  </thead>\n",
       "  <tbody>\n",
       "    <tr>\n",
       "      <th>0</th>\n",
       "      <td>Black</td>\n",
       "      <td>177416</td>\n",
       "    </tr>\n",
       "    <tr>\n",
       "      <th>1</th>\n",
       "      <td>Melodic Black</td>\n",
       "      <td>9132</td>\n",
       "    </tr>\n",
       "    <tr>\n",
       "      <th>2</th>\n",
       "      <td>Symphonic Black</td>\n",
       "      <td>6911</td>\n",
       "    </tr>\n",
       "    <tr>\n",
       "      <th>3</th>\n",
       "      <td>Blackened</td>\n",
       "      <td>6493</td>\n",
       "    </tr>\n",
       "    <tr>\n",
       "      <th>4</th>\n",
       "      <td>Atmospheric Black</td>\n",
       "      <td>4715</td>\n",
       "    </tr>\n",
       "    <tr>\n",
       "      <th>...</th>\n",
       "      <td>...</td>\n",
       "      <td>...</td>\n",
       "    </tr>\n",
       "    <tr>\n",
       "      <th>141</th>\n",
       "      <td>Industrial Blackened Death</td>\n",
       "      <td>1</td>\n",
       "    </tr>\n",
       "    <tr>\n",
       "      <th>142</th>\n",
       "      <td>Blackened Technical Death</td>\n",
       "      <td>1</td>\n",
       "    </tr>\n",
       "    <tr>\n",
       "      <th>143</th>\n",
       "      <td>Blackened Heavy Metal with Folk influences</td>\n",
       "      <td>1</td>\n",
       "    </tr>\n",
       "    <tr>\n",
       "      <th>144</th>\n",
       "      <td>Technical Progressive Black</td>\n",
       "      <td>1</td>\n",
       "    </tr>\n",
       "    <tr>\n",
       "      <th>145</th>\n",
       "      <td>Thrash  Epic Black</td>\n",
       "      <td>0</td>\n",
       "    </tr>\n",
       "  </tbody>\n",
       "</table>\n",
       "<p>146 rows × 2 columns</p>\n",
       "</div>"
      ],
      "text/plain": [
       "                                           type  numbers\n",
       "0                                         Black   177416\n",
       "1                                 Melodic Black     9132\n",
       "2                               Symphonic Black     6911\n",
       "3                                     Blackened     6493\n",
       "4                             Atmospheric Black     4715\n",
       "..                                          ...      ...\n",
       "141                  Industrial Blackened Death        1\n",
       "142                   Blackened Technical Death        1\n",
       "143  Blackened Heavy Metal with Folk influences        1\n",
       "144                 Technical Progressive Black        1\n",
       "145                          Thrash  Epic Black        0\n",
       "\n",
       "[146 rows x 2 columns]"
      ]
     },
     "metadata": {},
     "output_type": "display_data"
    }
   ],
   "source": [
    "import pandas as pd\n",
    "BlackType=pd.read_csv('Black Metal Types.csv').reset_index()\n",
    "BlackType=BlackType.drop(['index'],axis=1)\n",
    "BlackType.columns=['type','numbers']\n",
    "display(BlackType)\n",
    "\n",
    "T00=BlackType[BlackType['numbers']<=500]['type'].values\n",
    "T00=T00.tolist()\n",
    "\n",
    "T01=['Pagan Black Metal','Industrial Black Metal','Epic Black Metal']\n",
    "T02=['Blackened Thrash Metal','Blackened Death Metal','Blackened Metal']\n",
    "T03=['Progressive Black Metal','Experimental Black Metal','Avant-garde Black Metal']\n",
    "T04=['Post-Black Metal']\n",
    "T05=['Depressive Black Metal']\n",
    "T06=['Raw Black Metal']\n",
    "T07=['Atmospheric Black Metal']\n",
    "T08=['Symphonic Black Metal']\n",
    "T09=['Melodic Black Metal']\n",
    "T10=['Black Metal']\n",
    "T11=['Black']\n",
    "\n",
    "SongType=[T00,T01,T02,T03,T04,T05,T06,T07,T08,T09,T10,T11]"
   ]
  },
  {
   "cell_type": "code",
   "execution_count": 29,
   "id": "3bf3ce3a",
   "metadata": {},
   "outputs": [
    {
     "data": {
      "text/plain": [
       "['Ambient Black',\n",
       " \"Black 'n' Roll\",\n",
       " 'Folk Black',\n",
       " 'Blackened Doom',\n",
       " 'Blackened Heavy',\n",
       " 'Black Metal with Folk',\n",
       " 'Black Metal with Folk influences',\n",
       " 'Blackened Sludge',\n",
       " 'Experimental Post-Black',\n",
       " 'Technical Black',\n",
       " 'Raw Symphonic Black',\n",
       " 'Blackened Melodic Death',\n",
       " 'Blackened Speed',\n",
       " 'Atmospheric Post-Black',\n",
       " 'Viking Black',\n",
       " 'Blackened Gothic',\n",
       " 'Black Metal with Industrial influences',\n",
       " 'Neoclassical Black',\n",
       " 'Symphonic Blackened Death',\n",
       " 'Blackened Grindcore',\n",
       " 'Melodic Blackened Death',\n",
       " 'Blackened Industrial',\n",
       " 'Psychedelic Black',\n",
       " 'Melodic Black Metal with Power Metal influences',\n",
       " 'Gothic Black',\n",
       " 'Blackened Progressive',\n",
       " 'Epic Atmospheric Black',\n",
       " 'Blackened Folk',\n",
       " 'Heavy Metal with Black Metal influences',\n",
       " 'Black Metal with Punk',\n",
       " 'Progressive Post-Black',\n",
       " 'Blackened Post-Metal',\n",
       " 'Blackened Deathcore',\n",
       " 'Blackened Death Metal with Thrash elements',\n",
       " 'Symphonic Progressive Black',\n",
       " 'Epic Black Metal with Folk influences',\n",
       " 'Black Metal with Doom influences',\n",
       " 'Blackened Funeral Doom',\n",
       " 'Symphonic Melodic Black',\n",
       " 'Blackened Brutal Death',\n",
       " 'Blackened Pagan',\n",
       " 'Epic Symphonic Black',\n",
       " 'Blackened Crust',\n",
       " 'Atmospheric Avant-garde Black',\n",
       " 'Atmospheric Pagan Black',\n",
       " 'Blackened Metalcore',\n",
       " 'Industrial Post-Black',\n",
       " 'Blackened Power',\n",
       " 'Black Metal with Hardcore influences',\n",
       " 'Black Metal with Punk influences',\n",
       " 'Death Metal with Black',\n",
       " 'Progressive Symphonic Black',\n",
       " 'Electronic Black',\n",
       " 'Melodic Pagan Black',\n",
       " 'Atmospheric Depressive Black',\n",
       " 'Blackened Stoner',\n",
       " 'Industrial Blackened Gothic',\n",
       " 'Raw Depressive Black',\n",
       " 'Progressive Blackened Death',\n",
       " 'Blackened Symphonic',\n",
       " 'Blackened Progressive Sludge',\n",
       " 'Blackened Epic Heavy',\n",
       " 'Black Metal with Celtic folk influences',\n",
       " 'Blackened Crossover',\n",
       " 'Blackened Melodic Thrash',\n",
       " 'Blackened Goregrind',\n",
       " 'Experimental Depressive Black',\n",
       " 'Epic Pagan Black',\n",
       " 'Black Metal with Post-Rock influences',\n",
       " 'Experimental Symphonic Black',\n",
       " 'Avant-garde Symphonic Black',\n",
       " 'Blackened Symphonic Pagan',\n",
       " 'Raw Atmospheric Black',\n",
       " 'Viking Metal with Black Metal influences',\n",
       " 'Blackened Post-Punk',\n",
       " 'Technical Blackened Death',\n",
       " 'Death Metal with Black Metal influences',\n",
       " 'Black Metal with RAC',\n",
       " 'Experimental Ambient Black',\n",
       " 'Blackened Progressive Death',\n",
       " 'Black Metal with Medieval influences',\n",
       " 'Melodic Post-Black',\n",
       " 'Black Metal with Grindcore influences',\n",
       " 'Black Metal with Symphonic elements',\n",
       " 'Melodic Epic Black',\n",
       " 'Doom Metal with Black influences',\n",
       " 'Symphonic Black Metal with classical influences',\n",
       " \"Depressive Black 'n' Roll\",\n",
       " 'Symphonic Black Metal with Folk influences',\n",
       " 'Blackened Epic Doom',\n",
       " 'Symphonic Metal with Black Metal influences',\n",
       " 'Epic Folk Black',\n",
       " 'Speed Metal with Black Metal elements',\n",
       " 'Atmospheric Melodic Black',\n",
       " 'Blackened Progressive Rock',\n",
       " 'Black Metal with Crust',\n",
       " 'Progressive Avant-garde Black',\n",
       " 'Black Metal with Middle Eastern Folk influences',\n",
       " 'Brutal Blackened Death',\n",
       " 'Depressive Post-Black',\n",
       " \"Black 'n' roll\",\n",
       " 'Black Metal with Ambient',\n",
       " 'Black Metal with Crust influences',\n",
       " 'Melodic Black Metal with Folk influences',\n",
       " 'Black Metal with Psychobilly influences',\n",
       " 'Black Noise',\n",
       " 'Atmospheric Blackened Sludge',\n",
       " 'Progressive Blackened Doom',\n",
       " 'Raw Pagan Black',\n",
       " 'Medieval Black',\n",
       " 'Black Metal with Folk and Doom Metal influences',\n",
       " 'Black Metal with Drone',\n",
       " 'Black Metal with Heavy Metal influences',\n",
       " 'Blackened Atmospheric Death',\n",
       " 'Symphonic Black Metal with Industrial influences',\n",
       " 'Symphonic Pagan Black',\n",
       " 'Experimental Psychedelic Black',\n",
       " 'Atmospheric Progressive Black',\n",
       " 'Black Folk',\n",
       " 'Black Thrash',\n",
       " 'Blackened Experimental',\n",
       " 'Blackened Hardcore',\n",
       " 'Symphonic Black Metal with Doom elements',\n",
       " 'Blackened Psychedelic Rock',\n",
       " 'Blackened Shoegaze',\n",
       " 'Industrial Blackened Death',\n",
       " 'Blackened Technical Death',\n",
       " 'Blackened Heavy Metal with Folk influences',\n",
       " 'Technical Progressive Black',\n",
       " 'Thrash  Epic Black']"
      ]
     },
     "execution_count": 29,
     "metadata": {},
     "output_type": "execute_result"
    }
   ],
   "source": [
    "T00"
   ]
  },
  {
   "cell_type": "code",
   "execution_count": 46,
   "id": "fadedbf6",
   "metadata": {},
   "outputs": [
    {
     "data": {
      "text/plain": [
       "True"
      ]
     },
     "execution_count": 46,
     "metadata": {},
     "output_type": "execute_result"
    }
   ],
   "source": [
    "IsBandType('Black Metal',10)"
   ]
  },
  {
   "cell_type": "code",
   "execution_count": 50,
   "id": "75456403",
   "metadata": {},
   "outputs": [],
   "source": [
    "def IsBandType(song,typeidx):\n",
    "    s=song\n",
    "    Arr=[]\n",
    "    while True:\n",
    "        p=s.find('/')\n",
    "        if(p>0):\n",
    "            Arr.append(s[0:p])\n",
    "            s=s[p+1:]\n",
    "        else:\n",
    "            Arr.append(s)\n",
    "            break\n",
    "    b=False\n",
    "    for s in Arr:\n",
    "        for t in SongType[typeidx]:\n",
    "            if s==t:\n",
    "                b=True\n",
    "                break\n",
    "        if b:\n",
    "            break       \n",
    "    return b\n",
    "\n",
    "\n",
    "# 回归模型精度\n",
    "def accuracy(X, y, w, b):\n",
    "    result = predict(X, w, b)\n",
    "    return np.sum(np.where(result==y,1,0))/len(y)    \n",
    " \n",
    "# 回归模型预测值   \n",
    "\n",
    "def predict(X, w, b):\n",
    "    v=np.dot(X,w)+b\n",
    "    result =np.where(v>=0.5, 1, 0)                      \n",
    "    return result"
   ]
  },
  {
   "cell_type": "code",
   "execution_count": 57,
   "id": "41ab1893",
   "metadata": {
    "scrolled": true
   },
   "outputs": [
    {
     "name": "stdout",
     "output_type": "stream",
     "text": [
      "\n",
      "------------------- 0 Ambient Black --------------------\n",
      "\n",
      "y= [0. 0. 0. ... 0. 0. 0.]\n",
      "count= 866.0\n",
      "y_train: [0. 0. 0. ... 0. 0. 0.]\n",
      "length: 159232\n",
      "\n",
      "\n",
      "y_test: [0. 0. 0. ... 0. 0. 0.]\n",
      "length: 79618\n",
      "Accuracy=99.49%\n",
      "w= [-3.21196574e+08 -9.05851030e+05  2.91122124e-05  7.70557672e-04\n",
      " -3.15493855e+08  9.05851030e+05 -4.15876508e-04 -1.52736902e-04\n",
      "  2.53562815e-04 -3.61241400e-05  6.36690429e+08  7.14220107e-04\n",
      " -2.22805887e-04 -1.69062987e-04 -1.92640349e-04 -1.33598223e-04\n",
      " -4.87081707e-06 -1.81470066e-04 -1.17713585e-04 -2.11823732e-04\n",
      "  2.46077776e-04 -1.59347430e-04  1.20209530e-04]\n",
      "b= 0.003684685164335887\n",
      "\n",
      "------------------- 1 Pagan Black Metal --------------------\n",
      "\n",
      "y= [0. 0. 0. ... 0. 0. 0.]\n",
      "count= 951.0\n",
      "y_train: [0. 0. 0. ... 0. 0. 0.]\n",
      "length: 159232\n",
      "\n",
      "\n",
      "y_test: [0. 0. 0. ... 0. 0. 0.]\n",
      "length: 79618\n",
      "Accuracy=99.53%\n",
      "w= [ 9.72745692e+07  2.74337510e+05  1.57866860e-04  1.59846619e-04\n",
      "  9.55474971e+07 -2.74337511e+05 -3.25996429e-04 -3.97513621e-04\n",
      " -6.61456026e-04  1.35237817e-04 -1.92822066e+08 -1.44646270e-04\n",
      "  3.36159952e-04 -1.30638946e-04  2.94005033e-04  2.95579433e-04\n",
      " -3.97006050e-04  8.97794962e-06 -7.64303841e-05 -1.72425061e-05\n",
      "  2.14411877e-04 -2.11545266e-05  3.85114457e-04]\n",
      "b= 0.0038804654401711786\n",
      "\n",
      "------------------- 2 Blackened Thrash Metal --------------------\n",
      "\n",
      "y= [0. 0. 0. ... 0. 0. 0.]\n",
      "count= 2074.0\n",
      "y_train: [0. 0. 0. ... 0. 0. 0.]\n",
      "length: 159232\n",
      "\n",
      "\n",
      "y_test: [0. 0. 0. ... 0. 0. 0.]\n",
      "length: 79618\n",
      "Accuracy=99.33%\n",
      "w= [-4.55148422e+08 -1.28362722e+06 -1.12546608e-04 -7.94842839e-04\n",
      " -4.47067439e+08  1.28362722e+06 -5.70015050e-04 -1.02382153e-04\n",
      " -1.24847516e-04 -2.50078738e-05  9.02215861e+08  1.04765221e-03\n",
      " -4.09051776e-04 -1.92735344e-04 -3.93973663e-04  7.14499503e-04\n",
      " -8.01578164e-04 -4.96212393e-04 -4.20089811e-04 -7.66851008e-05\n",
      "  2.47079879e-04 -8.13461840e-04  1.07776374e-04]\n",
      "b= 0.012430544259578123\n",
      "\n",
      "------------------- 3 Progressive Black Metal --------------------\n",
      "\n",
      "y= [0. 0. 0. ... 0. 0. 0.]\n",
      "count= 714.0\n",
      "y_train: [0. 0. 0. ... 0. 0. 0.]\n",
      "length: 159232\n",
      "\n",
      "\n",
      "y_test: [0. 0. 0. ... 0. 0. 0.]\n",
      "length: 79618\n",
      "Accuracy=99.67%\n",
      "w= [-8.54028408e+07 -2.40856402e+05  6.25413144e-04  2.49946490e-04\n",
      " -8.38865467e+07  2.40856402e+05 -9.69949178e-06 -3.17635015e-04\n",
      " -3.21286963e-04 -7.11891800e-04  1.69289387e+08  3.41256848e-04\n",
      " -2.36622989e-04  2.27759127e-04  2.54212879e-04  2.70296354e-04\n",
      "  8.96444544e-06  1.58016803e-04 -1.93926040e-04 -2.35717744e-06\n",
      " -1.87901780e-04  4.79468610e-04 -1.67343765e-04]\n",
      "b= 0.0037139945326510335\n",
      "\n",
      "------------------- 4 Post-Black Metal --------------------\n",
      "\n",
      "y= [0. 0. 0. ... 0. 0. 0.]\n",
      "count= 617.0\n",
      "y_train: [0. 0. 0. ... 0. 0. 0.]\n",
      "length: 159232\n",
      "\n",
      "\n",
      "y_test: [0. 0. 0. ... 0. 0. 0.]\n",
      "length: 79618\n",
      "Accuracy=99.67%\n",
      "w= [-3.14501245e+08 -8.86968601e+05 -1.53461471e-04 -1.79478899e-04\n",
      " -3.08917398e+08  8.86968602e+05 -1.67042017e-05 -1.78944319e-04\n",
      " -7.52378255e-05 -2.30185688e-05  6.23418642e+08  3.72431241e-05\n",
      " -2.53580511e-04 -2.79396772e-04 -5.54118305e-04 -1.70510262e-04\n",
      "  2.57097185e-04  3.87160107e-05  9.03122127e-05 -4.09223139e-06\n",
      "  1.24767423e-04 -3.29965726e-04  3.15755606e-05]\n",
      "b= 0.00382683738280613\n",
      "\n",
      "------------------- 5 Depressive Black Metal --------------------\n",
      "\n",
      "y= [0. 0. 0. ... 0. 0. 0.]\n",
      "count= 1476.0\n",
      "y_train: [0. 0. 0. ... 0. 0. 0.]\n",
      "length: 159232\n",
      "\n",
      "\n",
      "y_test: [0. 0. 0. ... 0. 0. 0.]\n",
      "length: 79618\n",
      "Accuracy=99.37%\n",
      "w= [-1.45546996e+09 -4.10477279e+06 -8.83303583e-04 -5.84125519e-05\n",
      " -1.42962865e+09  4.10477279e+06  2.57927924e-04  5.90682030e-04\n",
      " -2.66801566e-04 -3.86536121e-04  2.88509861e+09  1.73803419e-04\n",
      " -8.02889466e-04 -8.05020332e-04 -5.31658530e-04 -7.61970878e-04\n",
      "  1.24186277e-04 -8.62628222e-05 -5.18068671e-04 -1.30623579e-04\n",
      "  1.47968531e-04 -1.95570290e-04  3.93860042e-04]\n",
      "b= 0.008950385725777185\n",
      "\n",
      "------------------- 6 Raw Black Metal --------------------\n",
      "\n",
      "y= [0. 0. 0. ... 0. 0. 0.]\n",
      "count= 2325.0\n",
      "y_train: [0. 0. 0. ... 0. 0. 0.]\n",
      "length: 159232\n",
      "\n",
      "\n",
      "y_test: [0. 0. 0. ... 0. 0. 0.]\n",
      "length: 79618\n",
      "Accuracy=98.88%\n",
      "w= [-9.62153830e+08 -2.71350353e+06  3.86808068e-04  9.48458910e-05\n",
      " -9.45071164e+08  2.71350353e+06 -6.24997541e-04 -9.60484147e-04\n",
      " -8.70190561e-04  9.98377800e-05  1.90722499e+09  1.34818628e-03\n",
      "  2.62990594e-04  2.71908939e-04 -2.75570899e-04  5.22866845e-04\n",
      " -3.39031219e-04 -1.23865902e-04 -5.17003238e-04 -5.35801053e-04\n",
      " -6.83009624e-04  3.43643129e-04  9.24635679e-04]\n",
      "b= 0.01257451553024214\n",
      "\n",
      "------------------- 7 Atmospheric Black Metal --------------------\n",
      "\n",
      "y= [0. 0. 0. ... 0. 0. 0.]\n",
      "count= 1523.0\n",
      "y_train: [0. 0. 0. ... 0. 0. 0.]\n",
      "length: 159232\n",
      "\n",
      "\n",
      "y_test: [0. 0. 0. ... 0. 0. 0.]\n",
      "length: 79618\n",
      "Accuracy=99.35%\n",
      "w= [-1.02137825e+08 -2.88053054e+05  9.92510468e-04 -4.95109707e-05\n",
      " -1.00324408e+08  2.88053055e+05 -1.92994718e-04 -7.89220445e-04\n",
      " -5.84988855e-04  7.74143264e-05  2.02462234e+08  1.69518637e-04\n",
      "  1.20291486e-04  5.70063014e-04 -1.36020128e-04 -8.68812203e-05\n",
      "  5.35682775e-04  5.51935285e-04 -3.12464312e-04 -3.15953046e-04\n",
      "  2.61873938e-04 -6.40116166e-04 -6.17695972e-04]\n",
      "b= 0.0072791654991589795\n",
      "\n",
      "------------------- 8 Symphonic Black Metal --------------------\n",
      "\n",
      "y= [0. 0. 0. ... 0. 0. 0.]\n",
      "count= 1917.0\n",
      "y_train: [0. 0. 0. ... 0. 0. 0.]\n",
      "length: 159232\n",
      "\n",
      "\n",
      "y_test: [0. 0. 0. ... 0. 0. 0.]\n",
      "length: 79618\n",
      "Accuracy=99.50%\n",
      "w= [-7.68168419e+08 -2.16641835e+06  7.79479742e-05  4.66383994e-04\n",
      " -7.54529888e+08  2.16641835e+06  3.04196030e-04  5.12003899e-05\n",
      "  4.55521047e-04  6.05024397e-05  1.52269831e+09 -6.49243593e-04\n",
      " -6.30185008e-04 -9.38959420e-05 -1.67880207e-04  7.15717673e-04\n",
      "  2.01672316e-04  1.27341598e-04 -1.20006502e-04  6.99520111e-04\n",
      "  6.39513135e-04 -6.92203641e-04  5.40211797e-04]\n",
      "b= 0.007269799808493009\n",
      "\n",
      "------------------- 9 Melodic Black Metal --------------------\n",
      "\n",
      "y= [0. 0. 0. ... 0. 0. 0.]\n",
      "count= 2605.0\n",
      "y_train: [0. 0. 0. ... 0. 0. 0.]\n",
      "length: 159232\n",
      "\n",
      "\n",
      "y_test: [0. 0. 0. ... 0. 0. 0.]\n",
      "length: 79618\n",
      "Accuracy=99.14%\n",
      "w= [-9.70518756e+08 -2.73709462e+06  2.68663839e-03  1.07043236e-03\n",
      " -9.53287574e+08  2.73709462e+06 -1.86529756e-03 -7.74137676e-04\n",
      " -3.82356346e-04 -5.15192747e-04  1.92380633e+09  2.33139843e-04\n",
      " -2.38865614e-05  2.19152495e-03 -4.53639776e-04  8.44717026e-04\n",
      "  1.30605698e-03  3.62154096e-04 -1.38755888e-04 -6.80796802e-04\n",
      "  5.28365374e-04  3.86308879e-04 -7.21011311e-04]\n",
      "b= 0.009630236862555978\n",
      "\n",
      "------------------- 10 Black Metal --------------------\n",
      "\n",
      "y= [0. 1. 1. ... 0. 0. 0.]\n",
      "count= 57688.0\n",
      "y_train: [1. 1. 1. ... 0. 0. 0.]\n",
      "length: 159232\n",
      "\n",
      "\n",
      "y_test: [0. 0. 0. ... 0. 0. 0.]\n",
      "length: 79618\n",
      "Accuracy=76.51%\n",
      "w= [ 6.33656963e+10  1.78706393e+08  1.58114433e-02  1.46603584e-02\n",
      "  6.22406631e+10 -1.78706393e+08 -1.16761923e-02 -1.50079727e-02\n",
      " -5.65457344e-03 -8.41498375e-03 -1.25606359e+11  6.12735748e-05\n",
      "  5.14698029e-03  2.10421085e-02 -1.26791000e-03  1.28521919e-02\n",
      " -4.46128845e-03  3.35288048e-03 -1.07688904e-02 -9.34934616e-03\n",
      " -3.89099121e-04 -1.17111206e-03  4.61125374e-03]\n",
      "b= 0.26068979941182724\n",
      "\n",
      "------------------- 11 Black --------------------\n",
      "\n",
      "y= [0. 0. 0. ... 0. 0. 0.]\n",
      "count= 19918.0\n",
      "y_train: [0. 0. 0. ... 0. 0. 0.]\n",
      "length: 159232\n",
      "\n",
      "\n",
      "y_test: [0. 0. 0. ... 0. 0. 0.]\n",
      "length: 79618\n",
      "Accuracy=92.04%\n",
      "w= [-7.43739440e+09 -2.09752280e+07  2.80395150e-03  1.30075216e-03\n",
      " -7.30534636e+09  2.09752280e+07 -7.32108951e-04 -4.10485268e-03\n",
      "  1.63900852e-03 -2.42123008e-03  1.47427408e+10 -1.55717134e-04\n",
      "  5.42402267e-06  7.84119964e-03  1.27613544e-04  2.39104033e-03\n",
      " -4.71299887e-03 -1.31097436e-03 -5.29229641e-03 -3.80218029e-03\n",
      " -5.44905663e-04 -1.22067332e-03  7.41600990e-04]\n",
      "b= 0.09940779686271335\n",
      "\n",
      "=====================================================================\n",
      "\n",
      "Total Corect Ratio=62.49%\n",
      "\n",
      "=====================================================================\n",
      "\n",
      "\n"
     ]
    },
    {
     "data": {
      "image/png": "[encoded data removed]",
      "text/plain": [
       "<Figure size 432x288 with 2 Axes>"
      ]
     },
     "metadata": {
      "needs_background": "light"
     },
     "output_type": "display_data"
    },
    {
     "data": {
      "image/png": "[encoded data removed]",
      "text/plain": [
       "<Figure size 432x288 with 2 Axes>"
      ]
     },
     "metadata": {
      "needs_background": "light"
     },
     "output_type": "display_data"
    },
    {
     "data": {
      "image/png": "[encoded data removed]",
      "text/plain": [
       "<Figure size 432x288 with 2 Axes>"
      ]
     },
     "metadata": {
      "needs_background": "light"
     },
     "output_type": "display_data"
    },
    {
     "data": {
      "image/png": "[encoded data removed]",
      "text/plain": [
       "<Figure size 432x288 with 2 Axes>"
      ]
     },
     "metadata": {
      "needs_background": "light"
     },
     "output_type": "display_data"
    },
    {
     "data": {
      "image/png": "[encoded data removed]",
      "text/plain": [
       "<Figure size 432x288 with 2 Axes>"
      ]
     },
     "metadata": {
      "needs_background": "light"
     },
     "output_type": "display_data"
    },
    {
     "data": {
      "image/png": "[encoded data removed]",
      "text/plain": [
       "<Figure size 432x288 with 2 Axes>"
      ]
     },
     "metadata": {
      "needs_background": "light"
     },
     "output_type": "display_data"
    },
    {
     "data": {
      "image/png": "[encoded data removed]",
      "text/plain": [
       "<Figure size 432x288 with 2 Axes>"
      ]
     },
     "metadata": {
      "needs_background": "light"
     },
     "output_type": "display_data"
    },
    {
     "data": {
      "image/png": "[encoded data removed]",
      "text/plain": [
       "<Figure size 432x288 with 2 Axes>"
      ]
     },
     "metadata": {
      "needs_background": "light"
     },
     "output_type": "display_data"
    },
    {
     "data": {
      "image/png": "[encoded data removed]",
      "text/plain": [
       "<Figure size 432x288 with 2 Axes>"
      ]
     },
     "metadata": {
      "needs_background": "light"
     },
     "output_type": "display_data"
    },
    {
     "data": {
      "image/png": "[encoded data removed]",
      "text/plain": [
       "<Figure size 432x288 with 2 Axes>"
      ]
     },
     "metadata": {
      "needs_background": "light"
     },
     "output_type": "display_data"
    },
    {
     "data": {
      "image/png": "[encoded data removed]",
      "text/plain": [
       "<Figure size 432x288 with 2 Axes>"
      ]
     },
     "metadata": {
      "needs_background": "light"
     },
     "output_type": "display_data"
    },
    {
     "data": {
      "image/png": "[encoded data removed]",
      "text/plain": [
       "<Figure size 432x288 with 2 Axes>"
      ]
     },
     "metadata": {
      "needs_background": "light"
     },
     "output_type": "display_data"
    }
   ],
   "source": [
    "from sklearn.linear_model import LinearRegression\n",
    "from sklearn.metrics import matthews_corrcoef, confusion_matrix, ConfusionMatrixDisplay, RocCurveDisplay\n",
    "\n",
    "for m in range(len(SongType)):\n",
    "    print('\\n-------------------',m,SongType[m][0],'--------------------\\n')\n",
    "    \n",
    "    # 将Y中的歌曲类型转化为数值0-1: 根据是否为第m个歌曲类型，\n",
    "    # 然后把转化后的y作为因变量\n",
    "    y=np.zeros(df.shape[0]) # 用于转化为数值0-1，代表是否是第m类歌曲 \n",
    "\n",
    "    for i in range(len(Y)):\n",
    "        if IsBandType(Y[i],m):\n",
    "            y[i]=1     # 转化为数值0-1\n",
    "        else:\n",
    "            y[i]=0\n",
    "    print('y=',y)\n",
    "    print('count=',np.sum(y)) \n",
    "\n",
    "    # 确定训练用的因变量、测试用的因变量\n",
    "    y_train=y[2:M]                          \n",
    "    y_test= y[M:]\n",
    "    \n",
    "    print('y_train:',y_train)\n",
    "    print('length:',len(y_train))\n",
    "    print('\\n')\n",
    "    print('y_test:',y_test)\n",
    "    print('length:',len(y_test))\n",
    "    \n",
    "    # 初试化w和b，都取0.1\n",
    "    #weights=np.ones(IVarCnt)/10 \n",
    "    #bias=np.ones(1)/10\n",
    "    \n",
    "    ## model选择：\n",
    "    \n",
    "     ##建立模型：\n",
    "    model = LinearRegression()\n",
    "    model = model.fit(x_train, y_train)  \n",
    "    \n",
    "    weights=model.coef_    \n",
    "    bias=model.intercept_\n",
    " \n",
    "    \n",
    "    pre=predict(x_test, weights, bias)\n",
    "    #print('my prediction:',predict(x_train, weights, bias))\n",
    "    #print('my accuracy:',accuracy(x_train, y_train, weights, bias))\n",
    "    \n",
    "    \n",
    "    \n",
    "     # 打印模型准确度\n",
    "    print('Accuracy=%.2f%%' % (100*accuracy(x_test, y_test, weights, bias)))\n",
    "        \n",
    "        \n",
    "    cm = confusion_matrix(y_test, y_pred)\n",
    "    disp = ConfusionMatrixDisplay(cm)\n",
    "    disp.plot()\n",
    "    # 打印模型的系数\n",
    "    print('w=',weights)\n",
    "    print('b=',bias)\n",
    "    \n",
    "                                                    # 预测值（歌曲是否第m类）\n",
    "    if m==0:      \n",
    "        pre=pre.reshape(-1,1)\n",
    "        PreArr=pre                                  # 保存预测值（歌曲是否第m类）\n",
    "        y_test=y_test.reshape(-1,1)\n",
    "        ActArr=y_test                               # 保存实际值（歌曲是否第m类） \n",
    "    else:    \n",
    "        PreArr=np.insert(PreArr,m,pre,axis=1)       # 保存预测值（歌曲是否第m类）  \n",
    "        ActArr=np.insert(ActArr,m,y_test,axis=1)    # 保存实际值（歌曲是否第m类）\n",
    "\n",
    "ErrArr=np.where(PreArr!=ActArr, 1, 0).sum(axis=1)   # 对每首歌曲统计预测错误（各列加起来）\n",
    "ErrArr=np.where(ErrArr>0, 1, 0)                     # 每首歌曲是否有预测错误：1=是 0-否\n",
    "CorectRatio=1-ErrArr.sum()/len(y_test)              # 正确率\n",
    "\n",
    "print('\\n=====================================================================\\n')\n",
    "print('Total Corect Ratio=%.2f%%' % (100*CorectRatio))\n",
    "print('\\n=====================================================================\\n\\n')"
   ]
  },
  {
   "cell_type": "code",
   "execution_count": null,
   "id": "37d54c5b",
   "metadata": {},
   "outputs": [],
   "source": []
  }
 ],
 "metadata": {
  "kernelspec": {
   "display_name": "Python 3 (ipykernel)",
   "language": "python",
   "name": "python3"
  },
  "language_info": {
   "codemirror_mode": {
    "name": "ipython",
    "version": 3
   },
   "file_extension": ".py",
   "mimetype": "text/x-python",
   "name": "python",
   "nbconvert_exporter": "python",
   "pygments_lexer": "ipython3",
   "version": "3.10.7"
  }
 },
 "nbformat": 4,
 "nbformat_minor": 5
}
