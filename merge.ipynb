{
 "cells": [
  {
   "cell_type": "code",
   "execution_count": null,
   "id": "6bc14e86",
   "metadata": {},
   "outputs": [],
   "source": [
    "import pandas as pd\n",
    "import csv"
   ]
  },
  {
   "cell_type": "code",
   "execution_count": null,
   "id": "78c6fea2",
   "metadata": {},
   "outputs": [],
   "source": [
    "bands_data_parts = [pd.read_csv('data/bands_data/ma_bands_data_' + str(i) + '.csv', index_col=0) for i in range(0, 20)]\n",
    "bands_data = pd.concat(bands_data_parts, ignore_index=True)\n",
    "bands_data = bands_data.dropna(subset='name').drop_duplicates().reset_index(drop=True)\n",
    "bands_data.to_csv('data/ma_bands_data.csv')"
   ]
  },
  {
   "cell_type": "code",
   "execution_count": null,
   "id": "81ac26dc",
   "metadata": {},
   "outputs": [],
   "source": [
    "songs_parts = [pd.read_csv('data/songs/ma_songs_' + str(i) + '.csv', index_col=0) for i in range(0, 20)]\n",
    "songs = pd.concat(songs_parts, ignore_index=True)\n",
    "songs = songs.dropna(subset='song_name').drop_duplicates().reset_index(drop=True)\n",
    "songs.to_csv('data/ma_songs.csv')"
   ]
  },
  {
   "cell_type": "code",
   "execution_count": null,
   "id": "39648d23",
   "metadata": {},
   "outputs": [],
   "source": [
    "lyrics_parts = [pd.read_csv('data/lyrics/ma_lyrics_' + str(i) + '.csv', index_col=0) for i in range(0, 10)]\n",
    "lyrics = pd.concat(lyrics_parts, verify_integrity=True).rename({'0': 'lyrics'}, axis=1)\n",
    "songs = pd.read_csv('data/ma_songs_essential.csv', index_col=0)\n",
    "pd.concat((songs, lyrics), axis=1, verify_integrity=True).to_csv('data/ma_songs_lyrics.csv', quoting=csv.QUOTE_NONNUMERIC)"
   ]
  }
 ],
 "metadata": {
  "kernelspec": {
   "display_name": "Python 3 (ipykernel)",
   "language": "python",
   "name": "python3"
  },
  "language_info": {
   "codemirror_mode": {
    "name": "ipython",
    "version": 3
   },
   "file_extension": ".py",
   "mimetype": "text/x-python",
   "name": "python",
   "nbconvert_exporter": "python",
   "pygments_lexer": "ipython3",
   "version": "3.10.7"
  }
 },
 "nbformat": 4,
 "nbformat_minor": 5
}
