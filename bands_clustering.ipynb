{
 "cells": [
  {
   "cell_type": "markdown",
   "id": "1a36ae70",
   "metadata": {},
   "source": [
    "Bands are sorted by their founding date, so it would be easier to find the origins of certain genres or themes."
   ]
  },
  {
   "cell_type": "code",
   "execution_count": 1,
   "id": "805da0ab",
   "metadata": {},
   "outputs": [],
   "source": [
    "%matplotlib inline\n",
    "import matplotlib.pyplot as plt\n",
    "import pandas as pd\n",
    "import numpy as np\n",
    "\n",
    "bands = pd.read_csv('data/ma_bands_data.csv', index_col=0).sort_values('date').reset_index(drop=True)"
   ]
  },
  {
   "cell_type": "code",
   "execution_count": 2,
   "id": "227a0f94",
   "metadata": {},
   "outputs": [],
   "source": [
    "bands['theme'] = bands['theme'].fillna('')"
   ]
  },
  {
   "cell_type": "code",
   "execution_count": 3,
   "id": "818c4172",
   "metadata": {
    "scrolled": true
   },
   "outputs": [
    {
     "data": {
      "text/html": [
       "<div>\n",
       "<style scoped>\n",
       "    .dataframe tbody tr th:only-of-type {\n",
       "        vertical-align: middle;\n",
       "    }\n",
       "\n",
       "    .dataframe tbody tr th {\n",
       "        vertical-align: top;\n",
       "    }\n",
       "\n",
       "    .dataframe thead th {\n",
       "        text-align: right;\n",
       "    }\n",
       "</style>\n",
       "<table border=\"1\" class=\"dataframe\">\n",
       "  <thead>\n",
       "    <tr style=\"text-align: right;\">\n",
       "      <th></th>\n",
       "      <th>name</th>\n",
       "      <th>url</th>\n",
       "      <th>genre</th>\n",
       "      <th>theme</th>\n",
       "      <th>label</th>\n",
       "      <th>country</th>\n",
       "      <th>location</th>\n",
       "      <th>status</th>\n",
       "      <th>date</th>\n",
       "      <th>years</th>\n",
       "    </tr>\n",
       "  </thead>\n",
       "  <tbody>\n",
       "    <tr>\n",
       "      <th>0</th>\n",
       "      <td>Olympic</td>\n",
       "      <td>https://www.metal-archives.com/bands/Olympic/3...</td>\n",
       "      <td>Pop Rock; Heavy Metal/Hard Rock (mid)</td>\n",
       "      <td></td>\n",
       "      <td>NaN</td>\n",
       "      <td>Czechia</td>\n",
       "      <td>Prague</td>\n",
       "      <td>Active</td>\n",
       "      <td>1962.0</td>\n",
       "      <td>1962-present</td>\n",
       "    </tr>\n",
       "    <tr>\n",
       "      <th>1</th>\n",
       "      <td>Orient</td>\n",
       "      <td>https://www.metal-archives.com/bands/Orient/51156</td>\n",
       "      <td>Hard Rock (early); Heavy Metal (later)</td>\n",
       "      <td>['Sex', ' Evil']</td>\n",
       "      <td>Unsigned/independent</td>\n",
       "      <td>Czechia</td>\n",
       "      <td>Prague</td>\n",
       "      <td>Active</td>\n",
       "      <td>1964.0</td>\n",
       "      <td>1964-1990,1998-present</td>\n",
       "    </tr>\n",
       "    <tr>\n",
       "      <th>2</th>\n",
       "      <td>Scorpions</td>\n",
       "      <td>https://www.metal-archives.com/bands/Scorpions...</td>\n",
       "      <td>Heavy Metal/Hard Rock</td>\n",
       "      <td>['Life', ' Society', ' Love', ' Sex', ' Inner ...</td>\n",
       "      <td>NaN</td>\n",
       "      <td>Germany</td>\n",
       "      <td>Hannover, Lower Saxony</td>\n",
       "      <td>Active</td>\n",
       "      <td>1964.0</td>\n",
       "      <td>1964-present</td>\n",
       "    </tr>\n",
       "    <tr>\n",
       "      <th>3</th>\n",
       "      <td>Faithful Breath</td>\n",
       "      <td>https://www.metal-archives.com/bands/Faithful_...</td>\n",
       "      <td>Progressive Rock (early); Heavy Metal/Hard Roc...</td>\n",
       "      <td>['Adventure', ' Fantasy', ' Women']</td>\n",
       "      <td>NaN</td>\n",
       "      <td>Germany</td>\n",
       "      <td>Witten, North Rhine-Westphalia</td>\n",
       "      <td>Changed name</td>\n",
       "      <td>1967.0</td>\n",
       "      <td>1966-1967 (as),1967-1986,1986-1993 (as)</td>\n",
       "    </tr>\n",
       "    <tr>\n",
       "      <th>4</th>\n",
       "      <td>Limelight</td>\n",
       "      <td>https://www.metal-archives.com/bands/Limelight...</td>\n",
       "      <td>NWOBHM/Heavy Metal/Hard Rock</td>\n",
       "      <td>['Life', ' Feelings', ' Love', ' Thoughts']</td>\n",
       "      <td>NaN</td>\n",
       "      <td>United Kingdom</td>\n",
       "      <td>Mansfield, Nottinghamshire, England</td>\n",
       "      <td>Split-up</td>\n",
       "      <td>1967.0</td>\n",
       "      <td>1967-?,1997</td>\n",
       "    </tr>\n",
       "    <tr>\n",
       "      <th>...</th>\n",
       "      <td>...</td>\n",
       "      <td>...</td>\n",
       "      <td>...</td>\n",
       "      <td>...</td>\n",
       "      <td>...</td>\n",
       "      <td>...</td>\n",
       "      <td>...</td>\n",
       "      <td>...</td>\n",
       "      <td>...</td>\n",
       "      <td>...</td>\n",
       "    </tr>\n",
       "    <tr>\n",
       "      <th>129466</th>\n",
       "      <td>כף הקלע</td>\n",
       "      <td>https://www.metal-archives.com/bands/%D7%9B%D7...</td>\n",
       "      <td>Black/Death Metal/Crust Punk</td>\n",
       "      <td></td>\n",
       "      <td>Unsigned/independent</td>\n",
       "      <td>Israel</td>\n",
       "      <td>Haifa, Haifa</td>\n",
       "      <td>Active</td>\n",
       "      <td>NaN</td>\n",
       "      <td>NaN</td>\n",
       "    </tr>\n",
       "    <tr>\n",
       "      <th>129467</th>\n",
       "      <td>ᛋᚢᚱᛏᚱ ᚹᛟᚢᚾᛞᛋ</td>\n",
       "      <td>https://www.metal-archives.com/bands/%E1%9B%8B...</td>\n",
       "      <td>Raw Black Metal, Dark Ambient</td>\n",
       "      <td></td>\n",
       "      <td>NaN</td>\n",
       "      <td>United Kingdom</td>\n",
       "      <td>NaN</td>\n",
       "      <td>Active</td>\n",
       "      <td>NaN</td>\n",
       "      <td>NaN</td>\n",
       "    </tr>\n",
       "    <tr>\n",
       "      <th>129468</th>\n",
       "      <td>こくまろみるく</td>\n",
       "      <td>https://www.metal-archives.com/bands/%E3%81%93...</td>\n",
       "      <td>Experimental Power Metal</td>\n",
       "      <td>['The bizarre', ' Macabre']</td>\n",
       "      <td>Unsigned/independent</td>\n",
       "      <td>Japan</td>\n",
       "      <td>NaN</td>\n",
       "      <td>Active</td>\n",
       "      <td>NaN</td>\n",
       "      <td>NaN</td>\n",
       "    </tr>\n",
       "    <tr>\n",
       "      <th>129469</th>\n",
       "      <td>ノストラダムス</td>\n",
       "      <td>https://www.metal-archives.com/bands/%E3%83%8E...</td>\n",
       "      <td>Progressive Metal</td>\n",
       "      <td></td>\n",
       "      <td>NaN</td>\n",
       "      <td>Japan</td>\n",
       "      <td>NaN</td>\n",
       "      <td>Split-up</td>\n",
       "      <td>NaN</td>\n",
       "      <td>NaN</td>\n",
       "    </tr>\n",
       "    <tr>\n",
       "      <th>129470</th>\n",
       "      <td>鐵男</td>\n",
       "      <td>https://www.metal-archives.com/bands/%E9%90%B5...</td>\n",
       "      <td>Sludge Metal/Grindcore/Noise</td>\n",
       "      <td></td>\n",
       "      <td>NaN</td>\n",
       "      <td>Japan</td>\n",
       "      <td>NaN</td>\n",
       "      <td>Split-up</td>\n",
       "      <td>NaN</td>\n",
       "      <td>NaN</td>\n",
       "    </tr>\n",
       "  </tbody>\n",
       "</table>\n",
       "<p>129471 rows × 10 columns</p>\n",
       "</div>"
      ],
      "text/plain": [
       "                   name                                                url  \\\n",
       "0               Olympic  https://www.metal-archives.com/bands/Olympic/3...   \n",
       "1                Orient  https://www.metal-archives.com/bands/Orient/51156   \n",
       "2             Scorpions  https://www.metal-archives.com/bands/Scorpions...   \n",
       "3       Faithful Breath  https://www.metal-archives.com/bands/Faithful_...   \n",
       "4             Limelight  https://www.metal-archives.com/bands/Limelight...   \n",
       "...                 ...                                                ...   \n",
       "129466          כף הקלע  https://www.metal-archives.com/bands/%D7%9B%D7...   \n",
       "129467     ᛋᚢᚱᛏᚱ ᚹᛟᚢᚾᛞᛋ  https://www.metal-archives.com/bands/%E1%9B%8B...   \n",
       "129468          こくまろみるく  https://www.metal-archives.com/bands/%E3%81%93...   \n",
       "129469          ノストラダムス  https://www.metal-archives.com/bands/%E3%83%8E...   \n",
       "129470               鐵男  https://www.metal-archives.com/bands/%E9%90%B5...   \n",
       "\n",
       "                                                    genre  \\\n",
       "0                   Pop Rock; Heavy Metal/Hard Rock (mid)   \n",
       "1                  Hard Rock (early); Heavy Metal (later)   \n",
       "2                                   Heavy Metal/Hard Rock   \n",
       "3       Progressive Rock (early); Heavy Metal/Hard Roc...   \n",
       "4                            NWOBHM/Heavy Metal/Hard Rock   \n",
       "...                                                   ...   \n",
       "129466                       Black/Death Metal/Crust Punk   \n",
       "129467                      Raw Black Metal, Dark Ambient   \n",
       "129468                           Experimental Power Metal   \n",
       "129469                                  Progressive Metal   \n",
       "129470                       Sludge Metal/Grindcore/Noise   \n",
       "\n",
       "                                                    theme  \\\n",
       "0                                                           \n",
       "1                                        ['Sex', ' Evil']   \n",
       "2       ['Life', ' Society', ' Love', ' Sex', ' Inner ...   \n",
       "3                     ['Adventure', ' Fantasy', ' Women']   \n",
       "4             ['Life', ' Feelings', ' Love', ' Thoughts']   \n",
       "...                                                   ...   \n",
       "129466                                                      \n",
       "129467                                                      \n",
       "129468                        ['The bizarre', ' Macabre']   \n",
       "129469                                                      \n",
       "129470                                                      \n",
       "\n",
       "                       label         country  \\\n",
       "0                        NaN         Czechia   \n",
       "1       Unsigned/independent         Czechia   \n",
       "2                        NaN         Germany   \n",
       "3                        NaN         Germany   \n",
       "4                        NaN  United Kingdom   \n",
       "...                      ...             ...   \n",
       "129466  Unsigned/independent          Israel   \n",
       "129467                   NaN  United Kingdom   \n",
       "129468  Unsigned/independent           Japan   \n",
       "129469                   NaN           Japan   \n",
       "129470                   NaN           Japan   \n",
       "\n",
       "                                   location        status    date  \\\n",
       "0                                    Prague        Active  1962.0   \n",
       "1                                    Prague        Active  1964.0   \n",
       "2                    Hannover, Lower Saxony        Active  1964.0   \n",
       "3            Witten, North Rhine-Westphalia  Changed name  1967.0   \n",
       "4       Mansfield, Nottinghamshire, England      Split-up  1967.0   \n",
       "...                                     ...           ...     ...   \n",
       "129466                         Haifa, Haifa        Active     NaN   \n",
       "129467                                  NaN        Active     NaN   \n",
       "129468                                  NaN        Active     NaN   \n",
       "129469                                  NaN      Split-up     NaN   \n",
       "129470                                  NaN      Split-up     NaN   \n",
       "\n",
       "                                          years  \n",
       "0                                  1962-present  \n",
       "1                        1964-1990,1998-present  \n",
       "2                                  1964-present  \n",
       "3       1966-1967 (as),1967-1986,1986-1993 (as)  \n",
       "4                                   1967-?,1997  \n",
       "...                                         ...  \n",
       "129466                                      NaN  \n",
       "129467                                      NaN  \n",
       "129468                                      NaN  \n",
       "129469                                      NaN  \n",
       "129470                                      NaN  \n",
       "\n",
       "[129471 rows x 10 columns]"
      ]
     },
     "execution_count": 3,
     "metadata": {},
     "output_type": "execute_result"
    }
   ],
   "source": [
    "bands"
   ]
  },
  {
   "cell_type": "markdown",
   "id": "797f9ded",
   "metadata": {},
   "source": [
    "# Vectorization"
   ]
  },
  {
   "cell_type": "markdown",
   "id": "ca2afa7a",
   "metadata": {},
   "source": [
    "First of all, I need to vectorize the genres that each band belongs to, with 0 or 1 denoting whether a band belongs to a specific genre.\n",
    "\n",
    "A band that belongs to both black metal and death metal would often be labelled as \"Black/Death Metal\", so I decided to drop the words \"Metal\" and \"Rock\", and \"/\" would be considered a separator. Since there are also metal genres fused together like \"Industrial Black Metal\", I consider such bands belonging to both \"Industrial\" and \"Black\" genres as they exhibit traits from both. Some bands changed genres as they developed, and I consider them to belong in all the genres they have ever been in. Labels like \"(early)\", \"(mid)\", or \"(later)\" would be dropped. Bands labelled as \"with X influences\" would be simply considered as belonging in \"X\" genre.\n",
    "\n",
    "There have been some very specific labelled that occurred very few times, which I consider as errors. I dropped words that occurred less than 10 times. Since identifying bands belonging in niche genres is something that interests us, the threshold is kept small."
   ]
  },
  {
   "cell_type": "code",
   "execution_count": 4,
   "id": "b56a9e54",
   "metadata": {},
   "outputs": [],
   "source": [
    "from sklearn.feature_extraction.text import CountVectorizer"
   ]
  },
  {
   "cell_type": "code",
   "execution_count": 5,
   "id": "61c53264",
   "metadata": {
    "scrolled": true
   },
   "outputs": [
    {
     "name": "stdout",
     "output_type": "stream",
     "text": [
      "['acoustic' 'alternative' 'ambient' 'aor' 'atmospheric' 'avant-garde'\n",
      " 'black' 'blackened' 'blues' 'brutal' 'celtic' 'classical' 'crossover'\n",
      " 'crust' 'crustcore' 'cybergrind' 'd-beat' 'dark' 'darkwave' 'death'\n",
      " 'deathcore' 'depressive' 'djent' 'doom' 'drone' 'dungeon' 'electronic'\n",
      " 'electronica' 'epic' 'experimental' 'extreme' 'folk' 'funeral' 'funk'\n",
      " 'fusion' 'glam' 'goregrind' 'gothic' 'grind' 'grindcore' 'groove'\n",
      " 'grunge' 'hard' 'hardcore' 'heavy' 'industrial' 'jazz' 'mathcore'\n",
      " 'medieval' 'melodic' 'metalcore' 'middle eastern' 'neoclassical'\n",
      " 'neofolk' 'noise' 'noisecore' 'noisegrind' 'nu-metal' 'nwobhm' 'oi'\n",
      " 'operatic' 'pagan' 'pop' 'post-black' 'post-hardcore' 'post-metal'\n",
      " 'post-punk' 'post-rock' 'power' 'powerviolence' 'progressive'\n",
      " 'psychedelic' 'punk' 'rac' 'raw' 'shoegaze' 'shred' 'slam' 'sludge'\n",
      " 'southern' 'speed' 'stoner' 'symphonic' 'synth' 'technical' 'thrash'\n",
      " 'viking']\n"
     ]
    }
   ],
   "source": [
    "vectorizer = CountVectorizer(binary=True, token_pattern=\"middle eastern|[0-9a-z'\\-]+\", min_df=10,\n",
    "                             stop_words=['metal', 'rock', \"'n'\", 'roll', 'early', 'mid', 'later',\n",
    "                                         'and', 'elements', 'influences', 'various', 'with'])\n",
    "genre_mat = vectorizer.fit_transform(bands['genre'])\n",
    "genre_names = vectorizer.get_feature_names_out()\n",
    "print(genre_names)"
   ]
  },
  {
   "cell_type": "markdown",
   "id": "24efd268",
   "metadata": {},
   "source": [
    "A special case would be bands belonging in \"Middle Eastern Folk\" genres, as \"Middle Eastern\" is two words, which could lead to confusion between \"Middle Eastern\" and \"Eastern\". So I treated it differently in the regex."
   ]
  },
  {
   "cell_type": "code",
   "execution_count": 6,
   "id": "1518b1e9",
   "metadata": {
    "scrolled": true
   },
   "outputs": [
    {
     "data": {
      "text/html": [
       "<div>\n",
       "<style scoped>\n",
       "    .dataframe tbody tr th:only-of-type {\n",
       "        vertical-align: middle;\n",
       "    }\n",
       "\n",
       "    .dataframe tbody tr th {\n",
       "        vertical-align: top;\n",
       "    }\n",
       "\n",
       "    .dataframe thead th {\n",
       "        text-align: right;\n",
       "    }\n",
       "</style>\n",
       "<table border=\"1\" class=\"dataframe\">\n",
       "  <thead>\n",
       "    <tr style=\"text-align: right;\">\n",
       "      <th></th>\n",
       "      <th>name</th>\n",
       "      <th>url</th>\n",
       "      <th>genre</th>\n",
       "      <th>theme</th>\n",
       "      <th>label</th>\n",
       "      <th>country</th>\n",
       "      <th>location</th>\n",
       "      <th>status</th>\n",
       "      <th>date</th>\n",
       "      <th>years</th>\n",
       "    </tr>\n",
       "  </thead>\n",
       "  <tbody>\n",
       "    <tr>\n",
       "      <th>5825</th>\n",
       "      <td>Pentagram</td>\n",
       "      <td>https://www.metal-archives.com/bands/Pentagram...</td>\n",
       "      <td>Thrash Metal (early); Heavy/Middle Eastern Fol...</td>\n",
       "      <td>['Metal', ' War', ' Misery (early); Suicide', ...</td>\n",
       "      <td>NaN</td>\n",
       "      <td>Türkiye</td>\n",
       "      <td>Istanbul</td>\n",
       "      <td>Active</td>\n",
       "      <td>1987.0</td>\n",
       "      <td>1987-present,2001-present (as)</td>\n",
       "    </tr>\n",
       "    <tr>\n",
       "      <th>13991</th>\n",
       "      <td>Orphaned Land</td>\n",
       "      <td>https://www.metal-archives.com/bands/Orphaned_...</td>\n",
       "      <td>Doom/Death/Middle Eastern Folk Metal (early); ...</td>\n",
       "      <td>['Abrahamic religions', ' Unity', ' Peace']</td>\n",
       "      <td>NaN</td>\n",
       "      <td>Israel</td>\n",
       "      <td>Bat Yam, Tel Aviv / Petah Tikva, Central</td>\n",
       "      <td>Active</td>\n",
       "      <td>1992.0</td>\n",
       "      <td>1991-1992 (as),1992-1997,2001-present</td>\n",
       "    </tr>\n",
       "    <tr>\n",
       "      <th>16744</th>\n",
       "      <td>Melechesh</td>\n",
       "      <td>https://www.metal-archives.com/bands/Melechesh...</td>\n",
       "      <td>Black/Death/Middle Eastern Folk Metal</td>\n",
       "      <td>['Mesopotamian mythology']</td>\n",
       "      <td>NaN</td>\n",
       "      <td>International</td>\n",
       "      <td>Jerusalem/Bethlehem (early); Netherlands/Franc...</td>\n",
       "      <td>Active</td>\n",
       "      <td>1993.0</td>\n",
       "      <td>1993-present</td>\n",
       "    </tr>\n",
       "    <tr>\n",
       "      <th>21990</th>\n",
       "      <td>Blaakyum</td>\n",
       "      <td>https://www.metal-archives.com/bands/Blaakyum/...</td>\n",
       "      <td>Thrash/Heavy/Middle Eastern Folk Metal</td>\n",
       "      <td>['Conceptual (thematic)', ' Symbolic', ' Socia...</td>\n",
       "      <td>Unsigned/independent</td>\n",
       "      <td>Lebanon</td>\n",
       "      <td>Beirut / Antelias, Matn</td>\n",
       "      <td>Active</td>\n",
       "      <td>1995.0</td>\n",
       "      <td>1995-2001,2007-present</td>\n",
       "    </tr>\n",
       "    <tr>\n",
       "      <th>24727</th>\n",
       "      <td>Distorted</td>\n",
       "      <td>https://www.metal-archives.com/bands/Distorted...</td>\n",
       "      <td>Gothic/Melodic Death Metal with Middle Eastern...</td>\n",
       "      <td>['Depression', ' Romance', ' Hypocrisy']</td>\n",
       "      <td>NaN</td>\n",
       "      <td>Israel</td>\n",
       "      <td>Bat Yam, Tel Aviv</td>\n",
       "      <td>Active</td>\n",
       "      <td>1996.0</td>\n",
       "      <td>1996-2010,2022-present</td>\n",
       "    </tr>\n",
       "  </tbody>\n",
       "</table>\n",
       "</div>"
      ],
      "text/plain": [
       "                name                                                url  \\\n",
       "5825       Pentagram  https://www.metal-archives.com/bands/Pentagram...   \n",
       "13991  Orphaned Land  https://www.metal-archives.com/bands/Orphaned_...   \n",
       "16744      Melechesh  https://www.metal-archives.com/bands/Melechesh...   \n",
       "21990       Blaakyum  https://www.metal-archives.com/bands/Blaakyum/...   \n",
       "24727      Distorted  https://www.metal-archives.com/bands/Distorted...   \n",
       "\n",
       "                                                   genre  \\\n",
       "5825   Thrash Metal (early); Heavy/Middle Eastern Fol...   \n",
       "13991  Doom/Death/Middle Eastern Folk Metal (early); ...   \n",
       "16744              Black/Death/Middle Eastern Folk Metal   \n",
       "21990             Thrash/Heavy/Middle Eastern Folk Metal   \n",
       "24727  Gothic/Melodic Death Metal with Middle Eastern...   \n",
       "\n",
       "                                                   theme  \\\n",
       "5825   ['Metal', ' War', ' Misery (early); Suicide', ...   \n",
       "13991        ['Abrahamic religions', ' Unity', ' Peace']   \n",
       "16744                         ['Mesopotamian mythology']   \n",
       "21990  ['Conceptual (thematic)', ' Symbolic', ' Socia...   \n",
       "24727           ['Depression', ' Romance', ' Hypocrisy']   \n",
       "\n",
       "                      label        country  \\\n",
       "5825                    NaN        Türkiye   \n",
       "13991                   NaN         Israel   \n",
       "16744                   NaN  International   \n",
       "21990  Unsigned/independent        Lebanon   \n",
       "24727                   NaN         Israel   \n",
       "\n",
       "                                                location  status    date  \\\n",
       "5825                                            Istanbul  Active  1987.0   \n",
       "13991           Bat Yam, Tel Aviv / Petah Tikva, Central  Active  1992.0   \n",
       "16744  Jerusalem/Bethlehem (early); Netherlands/Franc...  Active  1993.0   \n",
       "21990                            Beirut / Antelias, Matn  Active  1995.0   \n",
       "24727                                  Bat Yam, Tel Aviv  Active  1996.0   \n",
       "\n",
       "                                       years  \n",
       "5825          1987-present,2001-present (as)  \n",
       "13991  1991-1992 (as),1992-1997,2001-present  \n",
       "16744                           1993-present  \n",
       "21990                 1995-2001,2007-present  \n",
       "24727                 1996-2010,2022-present  "
      ]
     },
     "execution_count": 6,
     "metadata": {},
     "output_type": "execute_result"
    }
   ],
   "source": [
    "bands[bands['genre'].str.lower().str.contains('eastern')].head()"
   ]
  },
  {
   "cell_type": "markdown",
   "id": "c3e140b2",
   "metadata": {},
   "source": [
    "The vectorization of themes are different in a way that each quoted or parenthesized is treated as a token. Though labels like \"(early)\", \"(mid)\", or \"(later)\" would be dropped."
   ]
  },
  {
   "cell_type": "code",
   "execution_count": 7,
   "id": "6e01a082",
   "metadata": {},
   "outputs": [
    {
     "name": "stdout",
     "output_type": "stream",
     "text": [
      "['abandonment' 'aberrations' 'abortion' ... 'youth' 'zombie' 'zombies']\n"
     ]
    }
   ],
   "source": [
    "vectorizer = CountVectorizer(binary=True, token_pattern=\"[0-9a-z][0-9a-z'\\-/\\s]*[0-9a-z]\", min_df=10,\n",
    "                             stop_words=['early', 'mid', 'later'])\n",
    "theme_mat = vectorizer.fit_transform(bands['theme'])\n",
    "theme_names = vectorizer.get_feature_names_out()\n",
    "print(theme_names)"
   ]
  },
  {
   "cell_type": "code",
   "execution_count": 8,
   "id": "334d7cda",
   "metadata": {
    "scrolled": true
   },
   "outputs": [
    {
     "data": {
      "text/html": [
       "<div>\n",
       "<style scoped>\n",
       "    .dataframe tbody tr th:only-of-type {\n",
       "        vertical-align: middle;\n",
       "    }\n",
       "\n",
       "    .dataframe tbody tr th {\n",
       "        vertical-align: top;\n",
       "    }\n",
       "\n",
       "    .dataframe thead th {\n",
       "        text-align: right;\n",
       "    }\n",
       "</style>\n",
       "<table border=\"1\" class=\"dataframe\">\n",
       "  <thead>\n",
       "    <tr style=\"text-align: right;\">\n",
       "      <th></th>\n",
       "      <th>name</th>\n",
       "      <th>url</th>\n",
       "      <th>genre</th>\n",
       "      <th>theme</th>\n",
       "      <th>label</th>\n",
       "      <th>country</th>\n",
       "      <th>location</th>\n",
       "      <th>status</th>\n",
       "      <th>date</th>\n",
       "      <th>years</th>\n",
       "    </tr>\n",
       "  </thead>\n",
       "  <tbody>\n",
       "    <tr>\n",
       "      <th>9</th>\n",
       "      <td>Sir Lord Baltimore</td>\n",
       "      <td>https://www.metal-archives.com/bands/Sir_Lord_...</td>\n",
       "      <td>Heavy Metal/Hard Rock</td>\n",
       "      <td>['Love', ' Women', ' Life (early); Christianit...</td>\n",
       "      <td>Unsigned/independent</td>\n",
       "      <td>United States</td>\n",
       "      <td>New York, New York</td>\n",
       "      <td>Split-up</td>\n",
       "      <td>1968.0</td>\n",
       "      <td>1968-1972,1977,2005-2006</td>\n",
       "    </tr>\n",
       "    <tr>\n",
       "      <th>72</th>\n",
       "      <td>Rainbow</td>\n",
       "      <td>https://www.metal-archives.com/bands/Rainbow/108</td>\n",
       "      <td>Hard Rock/Heavy Metal</td>\n",
       "      <td>['Fantasy', ' Rock (early); Relationships', ' ...</td>\n",
       "      <td>NaN</td>\n",
       "      <td>United States</td>\n",
       "      <td>Los Angeles, California / Connecticut / New York</td>\n",
       "      <td>Active</td>\n",
       "      <td>1975.0</td>\n",
       "      <td>1975 (as),1976-1984,1994-1997,2015-present</td>\n",
       "    </tr>\n",
       "    <tr>\n",
       "      <th>122</th>\n",
       "      <td>Diamond Head</td>\n",
       "      <td>https://www.metal-archives.com/bands/Diamond_H...</td>\n",
       "      <td>NWOBHM, Heavy Metal/Hard Rock</td>\n",
       "      <td>['Fantasy', ' Fiction', ' Love (early); Societ...</td>\n",
       "      <td>NaN</td>\n",
       "      <td>United Kingdom</td>\n",
       "      <td>Stourbridge, West Midlands, England</td>\n",
       "      <td>Active</td>\n",
       "      <td>1976.0</td>\n",
       "      <td>1976-1985,1991-1994,2000-present</td>\n",
       "    </tr>\n",
       "    <tr>\n",
       "      <th>387</th>\n",
       "      <td>V8</td>\n",
       "      <td>https://www.metal-archives.com/bands/V8/3236</td>\n",
       "      <td>Heavy Metal</td>\n",
       "      <td>['Violence', ' Rebellion', ' Religion', ' Soci...</td>\n",
       "      <td>NaN</td>\n",
       "      <td>Argentina</td>\n",
       "      <td>Buenos Aires</td>\n",
       "      <td>Split-up</td>\n",
       "      <td>1979.0</td>\n",
       "      <td>1979-1987,1996</td>\n",
       "    </tr>\n",
       "    <tr>\n",
       "      <th>404</th>\n",
       "      <td>Nightmare</td>\n",
       "      <td>https://www.metal-archives.com/bands/Nightmare...</td>\n",
       "      <td>Heavy/Power Metal</td>\n",
       "      <td>['Life', ' Rock (early); Fantasy', ' Armageddo...</td>\n",
       "      <td>NaN</td>\n",
       "      <td>France</td>\n",
       "      <td>Grenoble, Auvergne-Rhône-Alpes</td>\n",
       "      <td>Active</td>\n",
       "      <td>1979.0</td>\n",
       "      <td>1979-1988,1999-present</td>\n",
       "    </tr>\n",
       "  </tbody>\n",
       "</table>\n",
       "</div>"
      ],
      "text/plain": [
       "                   name                                                url  \\\n",
       "9    Sir Lord Baltimore  https://www.metal-archives.com/bands/Sir_Lord_...   \n",
       "72              Rainbow   https://www.metal-archives.com/bands/Rainbow/108   \n",
       "122        Diamond Head  https://www.metal-archives.com/bands/Diamond_H...   \n",
       "387                  V8       https://www.metal-archives.com/bands/V8/3236   \n",
       "404           Nightmare  https://www.metal-archives.com/bands/Nightmare...   \n",
       "\n",
       "                             genre  \\\n",
       "9            Heavy Metal/Hard Rock   \n",
       "72           Hard Rock/Heavy Metal   \n",
       "122  NWOBHM, Heavy Metal/Hard Rock   \n",
       "387                    Heavy Metal   \n",
       "404              Heavy/Power Metal   \n",
       "\n",
       "                                                 theme                 label  \\\n",
       "9    ['Love', ' Women', ' Life (early); Christianit...  Unsigned/independent   \n",
       "72   ['Fantasy', ' Rock (early); Relationships', ' ...                   NaN   \n",
       "122  ['Fantasy', ' Fiction', ' Love (early); Societ...                   NaN   \n",
       "387  ['Violence', ' Rebellion', ' Religion', ' Soci...                   NaN   \n",
       "404  ['Life', ' Rock (early); Fantasy', ' Armageddo...                   NaN   \n",
       "\n",
       "            country                                          location  \\\n",
       "9     United States                                New York, New York   \n",
       "72    United States  Los Angeles, California / Connecticut / New York   \n",
       "122  United Kingdom               Stourbridge, West Midlands, England   \n",
       "387       Argentina                                      Buenos Aires   \n",
       "404          France                    Grenoble, Auvergne-Rhône-Alpes   \n",
       "\n",
       "       status    date                                       years  \n",
       "9    Split-up  1968.0                    1968-1972,1977,2005-2006  \n",
       "72     Active  1975.0  1975 (as),1976-1984,1994-1997,2015-present  \n",
       "122    Active  1976.0            1976-1985,1991-1994,2000-present  \n",
       "387  Split-up  1979.0                              1979-1987,1996  \n",
       "404    Active  1979.0                      1979-1988,1999-present  "
      ]
     },
     "execution_count": 8,
     "metadata": {},
     "output_type": "execute_result"
    }
   ],
   "source": [
    "bands[bands['theme'].str.lower().str.contains('early').fillna(False)].head()"
   ]
  },
  {
   "cell_type": "markdown",
   "id": "09fef7c1",
   "metadata": {},
   "source": [
    "As the size of data is quite large, K-means clustering is used. We use silhouette coefficient to benchmark the performance of clustering at different number of clusters."
   ]
  },
  {
   "cell_type": "code",
   "execution_count": 9,
   "id": "2c4ef4d0",
   "metadata": {},
   "outputs": [],
   "source": [
    "from sklearn.cluster import KMeans\n",
    "from sklearn.metrics import silhouette_score\n",
    "\n",
    "def kmeans_benchmark(data, x):\n",
    "    y = list()\n",
    "    \n",
    "    for n in x:\n",
    "        kmeans = KMeans(n_clusters=n, random_state=0)\n",
    "        kmeans.fit(data)\n",
    "        #print('fit', n, end='\\r')\n",
    "        y.append(silhouette_score(data, kmeans.labels_, sample_size=1000, random_state=0))\n",
    "        #print('score', n, end='\\r')\n",
    "\n",
    "    plt.xlabel('Number of clusters')\n",
    "    plt.ylabel('Silhouette Coefficient')\n",
    "    plt.plot(x, y);"
   ]
  },
  {
   "cell_type": "markdown",
   "id": "4b70bcac",
   "metadata": {},
   "source": [
    "# 1. By Genre"
   ]
  },
  {
   "cell_type": "code",
   "execution_count": 10,
   "id": "93359ea8",
   "metadata": {},
   "outputs": [
    {
     "data": {
      "image/png": "[encoded data removed]",
      "text/plain": [
       "<Figure size 640x480 with 1 Axes>"
      ]
     },
     "metadata": {},
     "output_type": "display_data"
    }
   ],
   "source": [
    "kmeans_benchmark(genre_mat, range(50, 550, 50))"
   ]
  },
  {
   "cell_type": "code",
   "execution_count": 11,
   "id": "076a3b41",
   "metadata": {},
   "outputs": [
    {
     "data": {
      "image/png": "[encoded data removed]",
      "text/plain": [
       "<Figure size 640x480 with 1 Axes>"
      ]
     },
     "metadata": {},
     "output_type": "display_data"
    }
   ],
   "source": [
    "kmeans_benchmark(genre_mat, range(200, 2600, 200))"
   ]
  },
  {
   "cell_type": "markdown",
   "id": "67ca581f",
   "metadata": {},
   "source": [
    "Although the theoretical optimal number of clusters would be the point that maximizes the silhouette coefficient, we decided to set the number of clusters to 300 for the sake of simplifying the analysis, as further increase in the number of clusters only result in relatively small improvements.\n",
    "\n",
    "You might be asking that, aren't metal bands already categorized, or clustered together in their respective genres? But as the vectorization part has shown, many metal bands cannot be fit into a single genre. There also exists many subgenres and intersections between genres. These all prove the necessity to cluster metal bands by their genres."
   ]
  },
  {
   "cell_type": "code",
   "execution_count": 14,
   "id": "05bf4d35",
   "metadata": {},
   "outputs": [
    {
     "data": {
      "text/plain": [
       "array([ 5,  5,  5, ...,  6, 14, 29], dtype=int32)"
      ]
     },
     "execution_count": 14,
     "metadata": {},
     "output_type": "execute_result"
    }
   ],
   "source": [
    "from sklearn.cluster import KMeans\n",
    "kmeans = KMeans(n_clusters=300, random_state=0)\n",
    "kmeans.fit(genre_mat)\n",
    "kmeans.labels_"
   ]
  },
  {
   "cell_type": "code",
   "execution_count": 15,
   "id": "ee5429d8",
   "metadata": {
    "scrolled": true
   },
   "outputs": [
    {
     "data": {
      "text/plain": [
       "0       1838\n",
       "1       3690\n",
       "2      10898\n",
       "3        984\n",
       "4      15623\n",
       "       ...  \n",
       "295       30\n",
       "296       36\n",
       "297       20\n",
       "298       26\n",
       "299       18\n",
       "Length: 300, dtype: int64"
      ]
     },
     "execution_count": 15,
     "metadata": {},
     "output_type": "execute_result"
    }
   ],
   "source": [
    "groups = bands.groupby(kmeans.labels_)\n",
    "groups.size()"
   ]
  },
  {
   "cell_type": "markdown",
   "id": "a2dcfc6c",
   "metadata": {},
   "source": [
    "These are the 5 earliest bands within each genre cluster."
   ]
  },
  {
   "cell_type": "code",
   "execution_count": 16,
   "id": "d6273204",
   "metadata": {
    "scrolled": true
   },
   "outputs": [
    {
     "data": {
      "text/html": [
       "<div>\n",
       "<style scoped>\n",
       "    .dataframe tbody tr th:only-of-type {\n",
       "        vertical-align: middle;\n",
       "    }\n",
       "\n",
       "    .dataframe tbody tr th {\n",
       "        vertical-align: top;\n",
       "    }\n",
       "\n",
       "    .dataframe thead th {\n",
       "        text-align: right;\n",
       "    }\n",
       "</style>\n",
       "<table border=\"1\" class=\"dataframe\">\n",
       "  <thead>\n",
       "    <tr style=\"text-align: right;\">\n",
       "      <th></th>\n",
       "      <th>0</th>\n",
       "      <th>1</th>\n",
       "      <th>2</th>\n",
       "      <th>3</th>\n",
       "      <th>4</th>\n",
       "    </tr>\n",
       "  </thead>\n",
       "  <tbody>\n",
       "    <tr>\n",
       "      <th>0</th>\n",
       "      <td>Turbo</td>\n",
       "      <td>Witch Slayer</td>\n",
       "      <td>Wrathchild America</td>\n",
       "      <td>Warlock Texas</td>\n",
       "      <td>Raw</td>\n",
       "    </tr>\n",
       "    <tr>\n",
       "      <th>1</th>\n",
       "      <td>Rax</td>\n",
       "      <td>Alucard</td>\n",
       "      <td>Benefits Forgot</td>\n",
       "      <td>Cenotaph</td>\n",
       "      <td>Hypocrite</td>\n",
       "    </tr>\n",
       "    <tr>\n",
       "      <th>2</th>\n",
       "      <td>Graf Spee</td>\n",
       "      <td>Necrophagia</td>\n",
       "      <td>Imperator</td>\n",
       "      <td>Аясын Салхи</td>\n",
       "      <td>Belial</td>\n",
       "    </tr>\n",
       "    <tr>\n",
       "      <th>3</th>\n",
       "      <td>Nifleheim</td>\n",
       "      <td>Fiendish Nymph</td>\n",
       "      <td>Ancient Wisdom</td>\n",
       "      <td>Bran</td>\n",
       "      <td>Thy Repentance</td>\n",
       "    </tr>\n",
       "    <tr>\n",
       "      <th>4</th>\n",
       "      <td>Skull Face</td>\n",
       "      <td>Veneno Maldito</td>\n",
       "      <td>Mayhem</td>\n",
       "      <td>Sacred Hades</td>\n",
       "      <td>Fantom</td>\n",
       "    </tr>\n",
       "    <tr>\n",
       "      <th>...</th>\n",
       "      <td>...</td>\n",
       "      <td>...</td>\n",
       "      <td>...</td>\n",
       "      <td>...</td>\n",
       "      <td>...</td>\n",
       "    </tr>\n",
       "    <tr>\n",
       "      <th>295</th>\n",
       "      <td>Black Messiah</td>\n",
       "      <td>Inchiuvatu</td>\n",
       "      <td>Nokturnal Mortum</td>\n",
       "      <td>Ashen Light</td>\n",
       "      <td>Munruthel</td>\n",
       "    </tr>\n",
       "    <tr>\n",
       "      <th>296</th>\n",
       "      <td>Infernal Poetry</td>\n",
       "      <td>Serenity in Silence</td>\n",
       "      <td>Spire</td>\n",
       "      <td>Incoming Cerebral Overdrive</td>\n",
       "      <td>Abyss</td>\n",
       "    </tr>\n",
       "    <tr>\n",
       "      <th>297</th>\n",
       "      <td>Manilla Road</td>\n",
       "      <td>Полигон</td>\n",
       "      <td>Enchanter</td>\n",
       "      <td>Ageless Wisdom</td>\n",
       "      <td>Marauder</td>\n",
       "    </tr>\n",
       "    <tr>\n",
       "      <th>298</th>\n",
       "      <td>Aethra</td>\n",
       "      <td>Skylark</td>\n",
       "      <td>伝承歌劇団～エウロパの軌跡～</td>\n",
       "      <td>Eddy Antonini</td>\n",
       "      <td>Orion Riders</td>\n",
       "    </tr>\n",
       "    <tr>\n",
       "      <th>299</th>\n",
       "      <td>Der Tod</td>\n",
       "      <td>Mytra</td>\n",
       "      <td>Transe</td>\n",
       "      <td>Qwestion</td>\n",
       "      <td>Metatronik</td>\n",
       "    </tr>\n",
       "  </tbody>\n",
       "</table>\n",
       "<p>300 rows × 5 columns</p>\n",
       "</div>"
      ],
      "text/plain": [
       "                   0                    1                   2  \\\n",
       "0              Turbo         Witch Slayer  Wrathchild America   \n",
       "1                Rax              Alucard     Benefits Forgot   \n",
       "2          Graf Spee          Necrophagia           Imperator   \n",
       "3          Nifleheim       Fiendish Nymph      Ancient Wisdom   \n",
       "4         Skull Face       Veneno Maldito              Mayhem   \n",
       "..               ...                  ...                 ...   \n",
       "295    Black Messiah           Inchiuvatu    Nokturnal Mortum   \n",
       "296  Infernal Poetry  Serenity in Silence               Spire   \n",
       "297     Manilla Road              Полигон           Enchanter   \n",
       "298           Aethra              Skylark      伝承歌劇団～エウロパの軌跡～   \n",
       "299          Der Tod                Mytra              Transe   \n",
       "\n",
       "                               3               4  \n",
       "0                  Warlock Texas             Raw  \n",
       "1                       Cenotaph       Hypocrite  \n",
       "2                    Аясын Салхи          Belial  \n",
       "3                           Bran  Thy Repentance  \n",
       "4                   Sacred Hades          Fantom  \n",
       "..                           ...             ...  \n",
       "295                  Ashen Light       Munruthel  \n",
       "296  Incoming Cerebral Overdrive           Abyss  \n",
       "297               Ageless Wisdom        Marauder  \n",
       "298                Eddy Antonini    Orion Riders  \n",
       "299                     Qwestion      Metatronik  \n",
       "\n",
       "[300 rows x 5 columns]"
      ]
     },
     "execution_count": 16,
     "metadata": {},
     "output_type": "execute_result"
    }
   ],
   "source": [
    "groups['name'].apply(lambda x: x.iloc[: 5].reset_index(drop=True)).unstack()"
   ]
  },
  {
   "cell_type": "markdown",
   "id": "4a4162bd",
   "metadata": {},
   "source": [
    "These are the most important genres sorted descending according to the average of the genre weights."
   ]
  },
  {
   "cell_type": "code",
   "execution_count": 17,
   "id": "ec5c70ee",
   "metadata": {},
   "outputs": [
    {
     "data": {
      "text/plain": [
       "array([['heavy', 'thrash', 'melodic', 'black', 'crossover'],\n",
       "       ['melodic', 'death', 'heavy', 'viking', 'epic'],\n",
       "       ['death', 'heavy', 'avant-garde', 'power', 'stoner'],\n",
       "       ...,\n",
       "       ['heavy', 'power', 'epic', 'black', 'folk'],\n",
       "       ['symphonic', 'melodic', 'power', 'hard', 'gothic'],\n",
       "       ['industrial', 'progressive', 'electronic', 'psychedelic',\n",
       "        'experimental']], dtype=object)"
      ]
     },
     "execution_count": 17,
     "metadata": {},
     "output_type": "execute_result"
    }
   ],
   "source": [
    "top_pos = np.argsort(kmeans.cluster_centers_)[:, -1 : -6 : -1]\n",
    "genre_names[top_pos]"
   ]
  },
  {
   "cell_type": "markdown",
   "id": "1bea76db",
   "metadata": {},
   "source": [
    "These are the average weights of the most important genres."
   ]
  },
  {
   "cell_type": "code",
   "execution_count": 18,
   "id": "e4d98b7d",
   "metadata": {
    "scrolled": true
   },
   "outputs": [
    {
     "data": {
      "text/plain": [
       "array([[1.  , 1.  , 0.02, 0.01, 0.01],\n",
       "       [1.  , 1.  , 0.01, 0.01, 0.  ],\n",
       "       [1.  , 0.  , 0.  , 0.  , 0.  ],\n",
       "       ...,\n",
       "       [1.  , 1.  , 1.  , 0.1 , 0.05],\n",
       "       [1.  , 1.  , 1.  , 0.04, 0.04],\n",
       "       [1.  , 1.  , 0.11, 0.06, 0.06]])"
      ]
     },
     "execution_count": 18,
     "metadata": {},
     "output_type": "execute_result"
    }
   ],
   "source": [
    "top = np.sort(kmeans.cluster_centers_)[:, -1 : -6 : -1]\n",
    "np.round(top, 2)"
   ]
  },
  {
   "cell_type": "markdown",
   "id": "faa6bd62",
   "metadata": {},
   "source": [
    "The following is to discover whether each genre cluster has the tendency towards certain themes. This is done by a matrix multiplication, which averages the theme vectors of the bands belonging to each cluster."
   ]
  },
  {
   "cell_type": "code",
   "execution_count": 19,
   "id": "32db3ac5",
   "metadata": {},
   "outputs": [],
   "source": [
    "from scipy.sparse import csr_matrix\n",
    "\n",
    "selector = csr_matrix((np.ones(genre_mat.shape[0]), (kmeans.labels_, np.arange(genre_mat.shape[0]))),\n",
    "                      (kmeans.cluster_centers_.shape[0], genre_mat.shape[0]))\n",
    "theme_by_genre = selector / selector.sum(axis=1) * theme_mat"
   ]
  },
  {
   "cell_type": "markdown",
   "id": "fa085b41",
   "metadata": {},
   "source": [
    "These are the most important themes sorted descending according to the average of the theme weights."
   ]
  },
  {
   "cell_type": "code",
   "execution_count": 20,
   "id": "98582cdb",
   "metadata": {},
   "outputs": [
    {
     "data": {
      "text/plain": [
       "array([['war', 'death', 'society', 'life', 'politics'],\n",
       "       ['death', 'war', 'life', 'society', 'darkness'],\n",
       "       ['death', 'gore', 'war', 'violence', 'horror'],\n",
       "       ...,\n",
       "       ['fantasy', 'history', 'battles', 'metal', 'war'],\n",
       "       ['fantasy', 'love', 'nature', 'dreams', 'wizards'],\n",
       "       ['instrumental', 'science fiction', 'mythology', 'feelings',\n",
       "        'romanticism']], dtype=object)"
      ]
     },
     "execution_count": 20,
     "metadata": {},
     "output_type": "execute_result"
    }
   ],
   "source": [
    "top_pos = np.argsort(theme_by_genre)[:, -1 : -6 : -1]\n",
    "theme_names[top_pos]"
   ]
  },
  {
   "cell_type": "markdown",
   "id": "25a639fb",
   "metadata": {},
   "source": [
    "These are the average weights of the most important themes."
   ]
  },
  {
   "cell_type": "code",
   "execution_count": 21,
   "id": "2fc8ee69",
   "metadata": {},
   "outputs": [
    {
     "data": {
      "text/plain": [
       "array([[0.05, 0.05, 0.04, 0.04, 0.03],\n",
       "       [0.11, 0.04, 0.04, 0.03, 0.03],\n",
       "       [0.25, 0.11, 0.06, 0.05, 0.04],\n",
       "       ...,\n",
       "       [0.45, 0.2 , 0.1 , 0.1 , 0.1 ],\n",
       "       [0.31, 0.19, 0.08, 0.08, 0.04],\n",
       "       [0.17, 0.11, 0.06, 0.06, 0.06]])"
      ]
     },
     "execution_count": 21,
     "metadata": {},
     "output_type": "execute_result"
    }
   ],
   "source": [
    "top = np.sort(theme_by_genre)[:, -1 : -6 : -1]\n",
    "np.round(top, 2)"
   ]
  },
  {
   "cell_type": "markdown",
   "id": "adb64e70",
   "metadata": {},
   "source": [
    "# 2. By Theme"
   ]
  },
  {
   "cell_type": "code",
   "execution_count": 13,
   "id": "b83a7766",
   "metadata": {},
   "outputs": [
    {
     "data": {
      "image/png": "[encoded data removed]",
      "text/plain": [
       "<Figure size 640x480 with 1 Axes>"
      ]
     },
     "metadata": {},
     "output_type": "display_data"
    }
   ],
   "source": [
    "kmeans_benchmark(genre_mat, range(100, 800, 50))"
   ]
  },
  {
   "cell_type": "code",
   "execution_count": 12,
   "id": "f9a372d9",
   "metadata": {},
   "outputs": [
    {
     "data": {
      "image/png": "[encoded data removed]",
      "text/plain": [
       "<Figure size 640x480 with 1 Axes>"
      ]
     },
     "metadata": {},
     "output_type": "display_data"
    }
   ],
   "source": [
    "kmeans_benchmark(genre_mat, range(100, 2000, 100))"
   ]
  },
  {
   "cell_type": "markdown",
   "id": "af222248",
   "metadata": {},
   "source": [
    "The number of clusters according to themes is set at 700, also for the ease of analysis. "
   ]
  },
  {
   "cell_type": "code",
   "execution_count": 22,
   "id": "f1c0140d",
   "metadata": {},
   "outputs": [
    {
     "data": {
      "text/plain": [
       "array([  1, 234, 175, ...,   1,   1,   1], dtype=int32)"
      ]
     },
     "execution_count": 22,
     "metadata": {},
     "output_type": "execute_result"
    }
   ],
   "source": [
    "from sklearn.cluster import KMeans\n",
    "kmeans = KMeans(n_clusters=700, random_state=0)\n",
    "kmeans.fit(theme_mat)\n",
    "kmeans.labels_"
   ]
  },
  {
   "cell_type": "code",
   "execution_count": 23,
   "id": "70b674a6",
   "metadata": {},
   "outputs": [
    {
     "data": {
      "text/plain": [
       "0         22\n",
       "1      65028\n",
       "2        344\n",
       "3         39\n",
       "4        268\n",
       "       ...  \n",
       "695       73\n",
       "696        1\n",
       "697        1\n",
       "698       21\n",
       "699       80\n",
       "Length: 700, dtype: int64"
      ]
     },
     "execution_count": 23,
     "metadata": {},
     "output_type": "execute_result"
    }
   ],
   "source": [
    "groups = bands.groupby(kmeans.labels_)\n",
    "groups.size()"
   ]
  },
  {
   "cell_type": "markdown",
   "id": "c6c129f9",
   "metadata": {},
   "source": [
    "These are the 5 earliest bands within each theme cluster."
   ]
  },
  {
   "cell_type": "code",
   "execution_count": 24,
   "id": "cce591d6",
   "metadata": {
    "scrolled": true
   },
   "outputs": [
    {
     "data": {
      "text/html": [
       "<div>\n",
       "<style scoped>\n",
       "    .dataframe tbody tr th:only-of-type {\n",
       "        vertical-align: middle;\n",
       "    }\n",
       "\n",
       "    .dataframe tbody tr th {\n",
       "        vertical-align: top;\n",
       "    }\n",
       "\n",
       "    .dataframe thead th {\n",
       "        text-align: right;\n",
       "    }\n",
       "</style>\n",
       "<table border=\"1\" class=\"dataframe\">\n",
       "  <thead>\n",
       "    <tr style=\"text-align: right;\">\n",
       "      <th></th>\n",
       "      <th>0</th>\n",
       "      <th>1</th>\n",
       "      <th>2</th>\n",
       "      <th>3</th>\n",
       "      <th>4</th>\n",
       "    </tr>\n",
       "  </thead>\n",
       "  <tbody>\n",
       "    <tr>\n",
       "      <th>0</th>\n",
       "      <td>Noplacetohide</td>\n",
       "      <td>Never Say Never</td>\n",
       "      <td>Six Flying Putanas</td>\n",
       "      <td>Procaos</td>\n",
       "      <td>SkyFall</td>\n",
       "    </tr>\n",
       "    <tr>\n",
       "      <th>1</th>\n",
       "      <td>Olympic</td>\n",
       "      <td>Cool Feet</td>\n",
       "      <td>Ash</td>\n",
       "      <td>Flower Travellin' Band</td>\n",
       "      <td>Back Out</td>\n",
       "    </tr>\n",
       "    <tr>\n",
       "      <th>2</th>\n",
       "      <td>Törr</td>\n",
       "      <td>Sabbrabells</td>\n",
       "      <td>Black Shepherd</td>\n",
       "      <td>Deliverance</td>\n",
       "      <td>Root</td>\n",
       "    </tr>\n",
       "    <tr>\n",
       "      <th>3</th>\n",
       "      <td>Diabolic Possession</td>\n",
       "      <td>Krabathor</td>\n",
       "      <td>Abhorrent</td>\n",
       "      <td>Bludgeon</td>\n",
       "      <td>Interior Soul</td>\n",
       "    </tr>\n",
       "    <tr>\n",
       "      <th>4</th>\n",
       "      <td>Argus</td>\n",
       "      <td>Leatherwolf</td>\n",
       "      <td>H. Kristal</td>\n",
       "      <td>Creepin' Death</td>\n",
       "      <td>Sanity</td>\n",
       "    </tr>\n",
       "    <tr>\n",
       "      <th>...</th>\n",
       "      <td>...</td>\n",
       "      <td>...</td>\n",
       "      <td>...</td>\n",
       "      <td>...</td>\n",
       "      <td>...</td>\n",
       "    </tr>\n",
       "    <tr>\n",
       "      <th>695</th>\n",
       "      <td>Crazy Lazy</td>\n",
       "      <td>Overlord</td>\n",
       "      <td>Rampage</td>\n",
       "      <td>Valium</td>\n",
       "      <td>Liquid Mirror</td>\n",
       "    </tr>\n",
       "    <tr>\n",
       "      <th>696</th>\n",
       "      <td>Rage</td>\n",
       "      <td>NaN</td>\n",
       "      <td>NaN</td>\n",
       "      <td>NaN</td>\n",
       "      <td>NaN</td>\n",
       "    </tr>\n",
       "    <tr>\n",
       "      <th>697</th>\n",
       "      <td>Noctysmal</td>\n",
       "      <td>NaN</td>\n",
       "      <td>NaN</td>\n",
       "      <td>NaN</td>\n",
       "      <td>NaN</td>\n",
       "    </tr>\n",
       "    <tr>\n",
       "      <th>698</th>\n",
       "      <td>Turbo</td>\n",
       "      <td>Manowar</td>\n",
       "      <td>Panther</td>\n",
       "      <td>Kalabouço</td>\n",
       "      <td>Rosae Crucis</td>\n",
       "    </tr>\n",
       "    <tr>\n",
       "      <th>699</th>\n",
       "      <td>Storm of Hate</td>\n",
       "      <td>Absolution</td>\n",
       "      <td>Hollow Ground</td>\n",
       "      <td>Corpus Mortale</td>\n",
       "      <td>Vampira</td>\n",
       "    </tr>\n",
       "  </tbody>\n",
       "</table>\n",
       "<p>700 rows × 5 columns</p>\n",
       "</div>"
      ],
      "text/plain": [
       "                       0                1                   2  \\\n",
       "0          Noplacetohide  Never Say Never  Six Flying Putanas   \n",
       "1                Olympic        Cool Feet                 Ash   \n",
       "2                   Törr      Sabbrabells      Black Shepherd   \n",
       "3    Diabolic Possession        Krabathor           Abhorrent   \n",
       "4                  Argus      Leatherwolf          H. Kristal   \n",
       "..                   ...              ...                 ...   \n",
       "695           Crazy Lazy         Overlord             Rampage   \n",
       "696                 Rage              NaN                 NaN   \n",
       "697            Noctysmal              NaN                 NaN   \n",
       "698                Turbo          Manowar             Panther   \n",
       "699        Storm of Hate       Absolution       Hollow Ground   \n",
       "\n",
       "                          3              4  \n",
       "0                   Procaos        SkyFall  \n",
       "1    Flower Travellin' Band       Back Out  \n",
       "2               Deliverance           Root  \n",
       "3                  Bludgeon  Interior Soul  \n",
       "4            Creepin' Death         Sanity  \n",
       "..                      ...            ...  \n",
       "695                  Valium  Liquid Mirror  \n",
       "696                     NaN            NaN  \n",
       "697                     NaN            NaN  \n",
       "698               Kalabouço   Rosae Crucis  \n",
       "699          Corpus Mortale        Vampira  \n",
       "\n",
       "[700 rows x 5 columns]"
      ]
     },
     "execution_count": 24,
     "metadata": {},
     "output_type": "execute_result"
    }
   ],
   "source": [
    "groups['name'].apply(lambda x: x.iloc[: 5].reset_index(drop=True)).unstack()"
   ]
  },
  {
   "cell_type": "markdown",
   "id": "2a2ae737",
   "metadata": {},
   "source": [
    "These are the most important genres sorted descending according to the average of the theme weights."
   ]
  },
  {
   "cell_type": "code",
   "execution_count": 25,
   "id": "9791b915",
   "metadata": {},
   "outputs": [
    {
     "data": {
      "text/plain": [
       "array([['politics', 'hate', 'war', 'anger', 'social'],\n",
       "       ['folklore', 'freedom', 'beer', 'corruption', 'zombies'],\n",
       "       ['occultism', 'satanism', 'war', 'paganism', 'evil'],\n",
       "       ...,\n",
       "       ['individualism', 'paranormal', 'occult', 'self-reflection',\n",
       "        'cosmos'],\n",
       "       ['war', 'glory', 'honour', 'pride', 'battles'],\n",
       "       ['serial killers', 'gore', 'murder', 'perversions', 'necrophilia']],\n",
       "      dtype=object)"
      ]
     },
     "execution_count": 25,
     "metadata": {},
     "output_type": "execute_result"
    }
   ],
   "source": [
    "top_pos = np.argsort(kmeans.cluster_centers_)[:, -1 : -6 : -1]\n",
    "theme_names[top_pos]"
   ]
  },
  {
   "cell_type": "markdown",
   "id": "beaebe6d",
   "metadata": {},
   "source": [
    "These are the average weights of the most important themes."
   ]
  },
  {
   "cell_type": "code",
   "execution_count": 26,
   "id": "c2ef89df",
   "metadata": {
    "scrolled": true
   },
   "outputs": [
    {
     "data": {
      "text/plain": [
       "array([[1.  , 1.  , 0.18, 0.09, 0.09],\n",
       "       [0.  , 0.  , 0.  , 0.  , 0.  ],\n",
       "       [1.  , 1.  , 0.06, 0.05, 0.04],\n",
       "       ...,\n",
       "       [1.  , 1.  , 1.  , 1.  , 1.  ],\n",
       "       [1.  , 0.9 , 0.52, 0.14, 0.14],\n",
       "       [1.  , 0.25, 0.2 , 0.04, 0.04]])"
      ]
     },
     "execution_count": 26,
     "metadata": {},
     "output_type": "execute_result"
    }
   ],
   "source": [
    "top = np.sort(kmeans.cluster_centers_)[:, -1 : -6 : -1]\n",
    "np.round(top, 2)"
   ]
  },
  {
   "cell_type": "code",
   "execution_count": 27,
   "id": "478ba6fd",
   "metadata": {},
   "outputs": [],
   "source": [
    "from scipy.sparse import csr_matrix\n",
    "\n",
    "selector = csr_matrix((np.ones(theme_mat.shape[0]), (kmeans.labels_, np.arange(theme_mat.shape[0]))),\n",
    "                      (kmeans.cluster_centers_.shape[0], theme_mat.shape[0]))\n",
    "genre_by_theme = selector / selector.sum(axis=1) * genre_mat"
   ]
  },
  {
   "cell_type": "markdown",
   "id": "42b1597b",
   "metadata": {},
   "source": [
    "These are the most important themes sorted descending according to the average of the genre weights."
   ]
  },
  {
   "cell_type": "code",
   "execution_count": 28,
   "id": "69c3c687",
   "metadata": {},
   "outputs": [
    {
     "data": {
      "text/plain": [
       "array([['death', 'thrash', 'melodic', 'grindcore', 'metalcore'],\n",
       "       ['death', 'thrash', 'heavy', 'black', 'melodic'],\n",
       "       ['black', 'death', 'thrash', 'doom', 'raw'],\n",
       "       ...,\n",
       "       ['atmospheric', 'black', 'viking', 'funeral', 'drone'],\n",
       "       ['heavy', 'power', 'thrash', 'black', 'folk'],\n",
       "       ['death', 'brutal', 'grindcore', 'thrash', 'doom']], dtype=object)"
      ]
     },
     "execution_count": 28,
     "metadata": {},
     "output_type": "execute_result"
    }
   ],
   "source": [
    "top_pos = np.argsort(genre_by_theme)[:, -1 : -6 : -1]\n",
    "genre_names[top_pos]"
   ]
  },
  {
   "cell_type": "markdown",
   "id": "e059ae09",
   "metadata": {},
   "source": [
    "These are the average weights of the most important themes."
   ]
  },
  {
   "cell_type": "code",
   "execution_count": 29,
   "id": "af8b8a3e",
   "metadata": {},
   "outputs": [
    {
     "data": {
      "text/plain": [
       "array([[0.55, 0.45, 0.36, 0.14, 0.09],\n",
       "       [0.33, 0.23, 0.19, 0.17, 0.11],\n",
       "       [0.87, 0.16, 0.07, 0.05, 0.03],\n",
       "       ...,\n",
       "       [1.  , 1.  , 0.  , 0.  , 0.  ],\n",
       "       [0.52, 0.24, 0.19, 0.19, 0.14],\n",
       "       [0.74, 0.24, 0.21, 0.15, 0.09]])"
      ]
     },
     "execution_count": 29,
     "metadata": {},
     "output_type": "execute_result"
    }
   ],
   "source": [
    "top = np.sort(genre_by_theme)[:, -1 : -6 : -1]\n",
    "np.round(top, 2)"
   ]
  },
  {
   "cell_type": "markdown",
   "id": "2d0a65be",
   "metadata": {},
   "source": [
    "# 3. By Location and Date"
   ]
  },
  {
   "cell_type": "code",
   "execution_count": 33,
   "id": "453b8402",
   "metadata": {},
   "outputs": [
    {
     "data": {
      "text/html": [
       "<div>\n",
       "<style scoped>\n",
       "    .dataframe tbody tr th:only-of-type {\n",
       "        vertical-align: middle;\n",
       "    }\n",
       "\n",
       "    .dataframe tbody tr th {\n",
       "        vertical-align: top;\n",
       "    }\n",
       "\n",
       "    .dataframe thead th {\n",
       "        text-align: right;\n",
       "    }\n",
       "</style>\n",
       "<table border=\"1\" class=\"dataframe\">\n",
       "  <thead>\n",
       "    <tr style=\"text-align: right;\">\n",
       "      <th></th>\n",
       "      <th>name</th>\n",
       "      <th>url</th>\n",
       "      <th>genre</th>\n",
       "      <th>theme</th>\n",
       "      <th>label</th>\n",
       "      <th>country</th>\n",
       "      <th>location</th>\n",
       "      <th>status</th>\n",
       "      <th>date</th>\n",
       "      <th>years</th>\n",
       "      <th>city</th>\n",
       "      <th>lat</th>\n",
       "      <th>lon</th>\n",
       "    </tr>\n",
       "  </thead>\n",
       "  <tbody>\n",
       "    <tr>\n",
       "      <th>0</th>\n",
       "      <td>Scorpions</td>\n",
       "      <td>https://www.metal-archives.com/bands/Scorpions...</td>\n",
       "      <td>Heavy Metal/Hard Rock</td>\n",
       "      <td>['Life', ' Society', ' Love', ' Sex', ' Inner ...</td>\n",
       "      <td>NaN</td>\n",
       "      <td>Germany</td>\n",
       "      <td>Hannover, Lower Saxony</td>\n",
       "      <td>Active</td>\n",
       "      <td>1964.0</td>\n",
       "      <td>1964-present</td>\n",
       "      <td>hannover</td>\n",
       "      <td>53.183333</td>\n",
       "      <td>8.516667</td>\n",
       "    </tr>\n",
       "    <tr>\n",
       "      <th>1</th>\n",
       "      <td>Limelight</td>\n",
       "      <td>https://www.metal-archives.com/bands/Limelight...</td>\n",
       "      <td>NWOBHM/Heavy Metal/Hard Rock</td>\n",
       "      <td>['Life', ' Feelings', ' Love', ' Thoughts']</td>\n",
       "      <td>NaN</td>\n",
       "      <td>United Kingdom</td>\n",
       "      <td>Mansfield, Nottinghamshire, England</td>\n",
       "      <td>Split-up</td>\n",
       "      <td>1967.0</td>\n",
       "      <td>1967-?,1997</td>\n",
       "      <td>mansfield</td>\n",
       "      <td>53.133333</td>\n",
       "      <td>-1.200000</td>\n",
       "    </tr>\n",
       "    <tr>\n",
       "      <th>2</th>\n",
       "      <td>Faithful Breath</td>\n",
       "      <td>https://www.metal-archives.com/bands/Faithful_...</td>\n",
       "      <td>Progressive Rock (early); Heavy Metal/Hard Roc...</td>\n",
       "      <td>['Adventure', ' Fantasy', ' Women']</td>\n",
       "      <td>NaN</td>\n",
       "      <td>Germany</td>\n",
       "      <td>Witten, North Rhine-Westphalia</td>\n",
       "      <td>Changed name</td>\n",
       "      <td>1967.0</td>\n",
       "      <td>1966-1967 (as),1967-1986,1986-1993 (as)</td>\n",
       "      <td>witten</td>\n",
       "      <td>51.433333</td>\n",
       "      <td>7.333333</td>\n",
       "    </tr>\n",
       "    <tr>\n",
       "      <th>3</th>\n",
       "      <td>Deep Purple</td>\n",
       "      <td>https://www.metal-archives.com/bands/Deep_Purp...</td>\n",
       "      <td>Heavy Metal/Hard Rock</td>\n",
       "      <td>[\"Rock 'n' Roll\", ' Love', ' Relationships', '...</td>\n",
       "      <td>NaN</td>\n",
       "      <td>United Kingdom</td>\n",
       "      <td>Hertford, Hertfordshire, England</td>\n",
       "      <td>Active</td>\n",
       "      <td>1968.0</td>\n",
       "      <td>1967-1968 (as),1968-1976,1984-present</td>\n",
       "      <td>hertford</td>\n",
       "      <td>51.800000</td>\n",
       "      <td>-0.066667</td>\n",
       "    </tr>\n",
       "    <tr>\n",
       "      <th>4</th>\n",
       "      <td>Ash</td>\n",
       "      <td>https://www.metal-archives.com/bands/Ash/35404...</td>\n",
       "      <td>Psychedelic Pop/Rock (early); Heavy Metal/Hard...</td>\n",
       "      <td>NaN</td>\n",
       "      <td>NaN</td>\n",
       "      <td>Australia</td>\n",
       "      <td>Melbourne, Victoria</td>\n",
       "      <td>Split-up</td>\n",
       "      <td>1968.0</td>\n",
       "      <td>1968-1972</td>\n",
       "      <td>melbourne</td>\n",
       "      <td>-37.813938</td>\n",
       "      <td>144.963425</td>\n",
       "    </tr>\n",
       "    <tr>\n",
       "      <th>...</th>\n",
       "      <td>...</td>\n",
       "      <td>...</td>\n",
       "      <td>...</td>\n",
       "      <td>...</td>\n",
       "      <td>...</td>\n",
       "      <td>...</td>\n",
       "      <td>...</td>\n",
       "      <td>...</td>\n",
       "      <td>...</td>\n",
       "      <td>...</td>\n",
       "      <td>...</td>\n",
       "      <td>...</td>\n",
       "      <td>...</td>\n",
       "    </tr>\n",
       "    <tr>\n",
       "      <th>107175</th>\n",
       "      <td>Stars Seedling</td>\n",
       "      <td>https://www.metal-archives.com/bands/Stars_See...</td>\n",
       "      <td>Symphonic Metal</td>\n",
       "      <td>NaN</td>\n",
       "      <td>Unsigned/independent</td>\n",
       "      <td>China</td>\n",
       "      <td>Guangzhou</td>\n",
       "      <td>Active</td>\n",
       "      <td>2022.0</td>\n",
       "      <td>2018-2022 (as),2022-present</td>\n",
       "      <td>guangzhou</td>\n",
       "      <td>27.381639</td>\n",
       "      <td>114.134262</td>\n",
       "    </tr>\n",
       "    <tr>\n",
       "      <th>107176</th>\n",
       "      <td>Blasted Forest</td>\n",
       "      <td>https://www.metal-archives.com/bands/Blasted_F...</td>\n",
       "      <td>Funeral Doom Metal</td>\n",
       "      <td>['Instrumental']</td>\n",
       "      <td>Unsigned/independent</td>\n",
       "      <td>Spain</td>\n",
       "      <td>León, Castile and León</td>\n",
       "      <td>Active</td>\n",
       "      <td>2022.0</td>\n",
       "      <td>2022,2022-present</td>\n",
       "      <td>leon</td>\n",
       "      <td>42.600031</td>\n",
       "      <td>-5.570316</td>\n",
       "    </tr>\n",
       "    <tr>\n",
       "      <th>107177</th>\n",
       "      <td>Contemptuous Infestation</td>\n",
       "      <td>https://www.metal-archives.com/bands/Contemptu...</td>\n",
       "      <td>Brutal Death Metal</td>\n",
       "      <td>NaN</td>\n",
       "      <td>Unsigned/independent</td>\n",
       "      <td>United Kingdom</td>\n",
       "      <td>Macclesfield, Cheshire, England</td>\n",
       "      <td>Active</td>\n",
       "      <td>2022.0</td>\n",
       "      <td>2022-present</td>\n",
       "      <td>macclesfield</td>\n",
       "      <td>53.250000</td>\n",
       "      <td>-2.116667</td>\n",
       "    </tr>\n",
       "    <tr>\n",
       "      <th>107178</th>\n",
       "      <td>Evil Witchery</td>\n",
       "      <td>https://www.metal-archives.com/bands/Evil_Witc...</td>\n",
       "      <td>Blackened Thrash Metal</td>\n",
       "      <td>['Horror', ' Bloodshed']</td>\n",
       "      <td>Unsigned/independent</td>\n",
       "      <td>Australia</td>\n",
       "      <td>Adelaide, South Australia</td>\n",
       "      <td>Active</td>\n",
       "      <td>2022.0</td>\n",
       "      <td>2022-present</td>\n",
       "      <td>adelaide</td>\n",
       "      <td>-34.928661</td>\n",
       "      <td>138.598633</td>\n",
       "    </tr>\n",
       "    <tr>\n",
       "      <th>107179</th>\n",
       "      <td>Under the Sky</td>\n",
       "      <td>https://www.metal-archives.com/bands/Under_the...</td>\n",
       "      <td>Melodic Death Metal/Deathcore</td>\n",
       "      <td>['Misery', ' Suicide', ' Depression']</td>\n",
       "      <td>Unsigned/independent</td>\n",
       "      <td>United Kingdom</td>\n",
       "      <td>Southampton, Hampshire, England</td>\n",
       "      <td>Active</td>\n",
       "      <td>2022.0</td>\n",
       "      <td>2022-present</td>\n",
       "      <td>southampton</td>\n",
       "      <td>50.900000</td>\n",
       "      <td>-1.400000</td>\n",
       "    </tr>\n",
       "  </tbody>\n",
       "</table>\n",
       "<p>107180 rows × 13 columns</p>\n",
       "</div>"
      ],
      "text/plain": [
       "                            name  \\\n",
       "0                      Scorpions   \n",
       "1                      Limelight   \n",
       "2                Faithful Breath   \n",
       "3                    Deep Purple   \n",
       "4                            Ash   \n",
       "...                          ...   \n",
       "107175            Stars Seedling   \n",
       "107176            Blasted Forest   \n",
       "107177  Contemptuous Infestation   \n",
       "107178             Evil Witchery   \n",
       "107179             Under the Sky   \n",
       "\n",
       "                                                      url  \\\n",
       "0       https://www.metal-archives.com/bands/Scorpions...   \n",
       "1       https://www.metal-archives.com/bands/Limelight...   \n",
       "2       https://www.metal-archives.com/bands/Faithful_...   \n",
       "3       https://www.metal-archives.com/bands/Deep_Purp...   \n",
       "4       https://www.metal-archives.com/bands/Ash/35404...   \n",
       "...                                                   ...   \n",
       "107175  https://www.metal-archives.com/bands/Stars_See...   \n",
       "107176  https://www.metal-archives.com/bands/Blasted_F...   \n",
       "107177  https://www.metal-archives.com/bands/Contemptu...   \n",
       "107178  https://www.metal-archives.com/bands/Evil_Witc...   \n",
       "107179  https://www.metal-archives.com/bands/Under_the...   \n",
       "\n",
       "                                                    genre  \\\n",
       "0                                   Heavy Metal/Hard Rock   \n",
       "1                            NWOBHM/Heavy Metal/Hard Rock   \n",
       "2       Progressive Rock (early); Heavy Metal/Hard Roc...   \n",
       "3                                   Heavy Metal/Hard Rock   \n",
       "4       Psychedelic Pop/Rock (early); Heavy Metal/Hard...   \n",
       "...                                                   ...   \n",
       "107175                                    Symphonic Metal   \n",
       "107176                                 Funeral Doom Metal   \n",
       "107177                                 Brutal Death Metal   \n",
       "107178                             Blackened Thrash Metal   \n",
       "107179                      Melodic Death Metal/Deathcore   \n",
       "\n",
       "                                                    theme  \\\n",
       "0       ['Life', ' Society', ' Love', ' Sex', ' Inner ...   \n",
       "1             ['Life', ' Feelings', ' Love', ' Thoughts']   \n",
       "2                     ['Adventure', ' Fantasy', ' Women']   \n",
       "3       [\"Rock 'n' Roll\", ' Love', ' Relationships', '...   \n",
       "4                                                     NaN   \n",
       "...                                                   ...   \n",
       "107175                                                NaN   \n",
       "107176                                   ['Instrumental']   \n",
       "107177                                                NaN   \n",
       "107178                           ['Horror', ' Bloodshed']   \n",
       "107179              ['Misery', ' Suicide', ' Depression']   \n",
       "\n",
       "                       label         country  \\\n",
       "0                        NaN         Germany   \n",
       "1                        NaN  United Kingdom   \n",
       "2                        NaN         Germany   \n",
       "3                        NaN  United Kingdom   \n",
       "4                        NaN       Australia   \n",
       "...                      ...             ...   \n",
       "107175  Unsigned/independent           China   \n",
       "107176  Unsigned/independent           Spain   \n",
       "107177  Unsigned/independent  United Kingdom   \n",
       "107178  Unsigned/independent       Australia   \n",
       "107179  Unsigned/independent  United Kingdom   \n",
       "\n",
       "                                   location        status    date  \\\n",
       "0                    Hannover, Lower Saxony        Active  1964.0   \n",
       "1       Mansfield, Nottinghamshire, England      Split-up  1967.0   \n",
       "2            Witten, North Rhine-Westphalia  Changed name  1967.0   \n",
       "3          Hertford, Hertfordshire, England        Active  1968.0   \n",
       "4                       Melbourne, Victoria      Split-up  1968.0   \n",
       "...                                     ...           ...     ...   \n",
       "107175                            Guangzhou        Active  2022.0   \n",
       "107176               León, Castile and León        Active  2022.0   \n",
       "107177      Macclesfield, Cheshire, England        Active  2022.0   \n",
       "107178            Adelaide, South Australia        Active  2022.0   \n",
       "107179      Southampton, Hampshire, England        Active  2022.0   \n",
       "\n",
       "                                          years          city        lat  \\\n",
       "0                                  1964-present      hannover  53.183333   \n",
       "1                                   1967-?,1997     mansfield  53.133333   \n",
       "2       1966-1967 (as),1967-1986,1986-1993 (as)        witten  51.433333   \n",
       "3         1967-1968 (as),1968-1976,1984-present      hertford  51.800000   \n",
       "4                                     1968-1972     melbourne -37.813938   \n",
       "...                                         ...           ...        ...   \n",
       "107175              2018-2022 (as),2022-present     guangzhou  27.381639   \n",
       "107176                        2022,2022-present          leon  42.600031   \n",
       "107177                             2022-present  macclesfield  53.250000   \n",
       "107178                             2022-present      adelaide -34.928661   \n",
       "107179                             2022-present   southampton  50.900000   \n",
       "\n",
       "               lon  \n",
       "0         8.516667  \n",
       "1        -1.200000  \n",
       "2         7.333333  \n",
       "3        -0.066667  \n",
       "4       144.963425  \n",
       "...            ...  \n",
       "107175  114.134262  \n",
       "107176   -5.570316  \n",
       "107177   -2.116667  \n",
       "107178  138.598633  \n",
       "107179   -1.400000  \n",
       "\n",
       "[107180 rows x 13 columns]"
      ]
     },
     "execution_count": 33,
     "metadata": {},
     "output_type": "execute_result"
    }
   ],
   "source": [
    "bands_st = pd.read_csv('data/ma_bands_st.csv', index_col=0).sort_values('date').reset_index(drop=True)\n",
    "bands_st"
   ]
  }
 ],
 "metadata": {
  "kernelspec": {
   "display_name": "Python 3 (ipykernel)",
   "language": "python",
   "name": "python3"
  },
  "language_info": {
   "codemirror_mode": {
    "name": "ipython",
    "version": 3
   },
   "file_extension": ".py",
   "mimetype": "text/x-python",
   "name": "python",
   "nbconvert_exporter": "python",
   "pygments_lexer": "ipython3",
   "version": "3.10.7"
  }
 },
 "nbformat": 4,
 "nbformat_minor": 5
}
