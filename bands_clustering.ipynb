{
 "cells": [
  {
   "cell_type": "code",
   "execution_count": 1,
   "id": "805da0ab",
   "metadata": {},
   "outputs": [],
   "source": [
    "%matplotlib inline\n",
    "import matplotlib.pyplot as plt\n",
    "import pandas as pd\n",
    "import numpy as np\n",
    "\n",
    "bands = pd.read_csv('data/ma_bands_data.csv', index_col=0).sort_values('date')"
   ]
  },
  {
   "cell_type": "code",
   "execution_count": 2,
   "id": "818c4172",
   "metadata": {},
   "outputs": [
    {
     "data": {
      "text/html": [
       "<div>\n",
       "<style scoped>\n",
       "    .dataframe tbody tr th:only-of-type {\n",
       "        vertical-align: middle;\n",
       "    }\n",
       "\n",
       "    .dataframe tbody tr th {\n",
       "        vertical-align: top;\n",
       "    }\n",
       "\n",
       "    .dataframe thead th {\n",
       "        text-align: right;\n",
       "    }\n",
       "</style>\n",
       "<table border=\"1\" class=\"dataframe\">\n",
       "  <thead>\n",
       "    <tr style=\"text-align: right;\">\n",
       "      <th></th>\n",
       "      <th>name</th>\n",
       "      <th>url</th>\n",
       "      <th>genre</th>\n",
       "      <th>theme</th>\n",
       "      <th>label</th>\n",
       "      <th>country</th>\n",
       "      <th>location</th>\n",
       "      <th>status</th>\n",
       "      <th>date</th>\n",
       "      <th>years</th>\n",
       "    </tr>\n",
       "  </thead>\n",
       "  <tbody>\n",
       "    <tr>\n",
       "      <th>84494</th>\n",
       "      <td>Olympic</td>\n",
       "      <td>https://www.metal-archives.com/bands/Olympic/3...</td>\n",
       "      <td>Pop Rock; Heavy Metal/Hard Rock (mid)</td>\n",
       "      <td>NaN</td>\n",
       "      <td>NaN</td>\n",
       "      <td>Czechia</td>\n",
       "      <td>Prague</td>\n",
       "      <td>Active</td>\n",
       "      <td>1962.0</td>\n",
       "      <td>1962-present</td>\n",
       "    </tr>\n",
       "    <tr>\n",
       "      <th>85413</th>\n",
       "      <td>Orient</td>\n",
       "      <td>https://www.metal-archives.com/bands/Orient/51156</td>\n",
       "      <td>Hard Rock (early); Heavy Metal (later)</td>\n",
       "      <td>['Sex', ' Evil']</td>\n",
       "      <td>Unsigned/independent</td>\n",
       "      <td>Czechia</td>\n",
       "      <td>Prague</td>\n",
       "      <td>Active</td>\n",
       "      <td>1964.0</td>\n",
       "      <td>1964-1990,1998-present</td>\n",
       "    </tr>\n",
       "    <tr>\n",
       "      <th>98592</th>\n",
       "      <td>Scorpions</td>\n",
       "      <td>https://www.metal-archives.com/bands/Scorpions...</td>\n",
       "      <td>Heavy Metal/Hard Rock</td>\n",
       "      <td>['Life', ' Society', ' Love', ' Sex', ' Inner ...</td>\n",
       "      <td>NaN</td>\n",
       "      <td>Germany</td>\n",
       "      <td>Hannover, Lower Saxony</td>\n",
       "      <td>Active</td>\n",
       "      <td>1964.0</td>\n",
       "      <td>1964-present</td>\n",
       "    </tr>\n",
       "    <tr>\n",
       "      <th>43631</th>\n",
       "      <td>Faithful Breath</td>\n",
       "      <td>https://www.metal-archives.com/bands/Faithful_...</td>\n",
       "      <td>Progressive Rock (early); Heavy Metal/Hard Roc...</td>\n",
       "      <td>['Adventure', ' Fantasy', ' Women']</td>\n",
       "      <td>NaN</td>\n",
       "      <td>Germany</td>\n",
       "      <td>Witten, North Rhine-Westphalia</td>\n",
       "      <td>Changed name</td>\n",
       "      <td>1967.0</td>\n",
       "      <td>1966-1967 (as),1967-1986,1986-1993 (as)</td>\n",
       "    </tr>\n",
       "    <tr>\n",
       "      <th>67636</th>\n",
       "      <td>Limelight</td>\n",
       "      <td>https://www.metal-archives.com/bands/Limelight...</td>\n",
       "      <td>NWOBHM/Heavy Metal/Hard Rock</td>\n",
       "      <td>['Life', ' Feelings', ' Love', ' Thoughts']</td>\n",
       "      <td>NaN</td>\n",
       "      <td>United Kingdom</td>\n",
       "      <td>Mansfield, Nottinghamshire, England</td>\n",
       "      <td>Split-up</td>\n",
       "      <td>1967.0</td>\n",
       "      <td>1967-?,1997</td>\n",
       "    </tr>\n",
       "    <tr>\n",
       "      <th>...</th>\n",
       "      <td>...</td>\n",
       "      <td>...</td>\n",
       "      <td>...</td>\n",
       "      <td>...</td>\n",
       "      <td>...</td>\n",
       "      <td>...</td>\n",
       "      <td>...</td>\n",
       "      <td>...</td>\n",
       "      <td>...</td>\n",
       "      <td>...</td>\n",
       "    </tr>\n",
       "    <tr>\n",
       "      <th>129176</th>\n",
       "      <td>כף הקלע</td>\n",
       "      <td>https://www.metal-archives.com/bands/%D7%9B%D7...</td>\n",
       "      <td>Black/Death Metal/Crust Punk</td>\n",
       "      <td>NaN</td>\n",
       "      <td>Unsigned/independent</td>\n",
       "      <td>Israel</td>\n",
       "      <td>Haifa, Haifa</td>\n",
       "      <td>Active</td>\n",
       "      <td>NaN</td>\n",
       "      <td>NaN</td>\n",
       "    </tr>\n",
       "    <tr>\n",
       "      <th>129197</th>\n",
       "      <td>ᛋᚢᚱᛏᚱ ᚹᛟᚢᚾᛞᛋ</td>\n",
       "      <td>https://www.metal-archives.com/bands/%E1%9B%8B...</td>\n",
       "      <td>Raw Black Metal, Dark Ambient</td>\n",
       "      <td>NaN</td>\n",
       "      <td>NaN</td>\n",
       "      <td>United Kingdom</td>\n",
       "      <td>NaN</td>\n",
       "      <td>Active</td>\n",
       "      <td>NaN</td>\n",
       "      <td>NaN</td>\n",
       "    </tr>\n",
       "    <tr>\n",
       "      <th>129208</th>\n",
       "      <td>こくまろみるく</td>\n",
       "      <td>https://www.metal-archives.com/bands/%E3%81%93...</td>\n",
       "      <td>Experimental Power Metal</td>\n",
       "      <td>['The bizarre', ' Macabre']</td>\n",
       "      <td>Unsigned/independent</td>\n",
       "      <td>Japan</td>\n",
       "      <td>NaN</td>\n",
       "      <td>Active</td>\n",
       "      <td>NaN</td>\n",
       "      <td>NaN</td>\n",
       "    </tr>\n",
       "    <tr>\n",
       "      <th>129224</th>\n",
       "      <td>ノストラダムス</td>\n",
       "      <td>https://www.metal-archives.com/bands/%E3%83%8E...</td>\n",
       "      <td>Progressive Metal</td>\n",
       "      <td>NaN</td>\n",
       "      <td>NaN</td>\n",
       "      <td>Japan</td>\n",
       "      <td>NaN</td>\n",
       "      <td>Split-up</td>\n",
       "      <td>NaN</td>\n",
       "      <td>NaN</td>\n",
       "    </tr>\n",
       "    <tr>\n",
       "      <th>129426</th>\n",
       "      <td>鐵男</td>\n",
       "      <td>https://www.metal-archives.com/bands/%E9%90%B5...</td>\n",
       "      <td>Sludge Metal/Grindcore/Noise</td>\n",
       "      <td>NaN</td>\n",
       "      <td>NaN</td>\n",
       "      <td>Japan</td>\n",
       "      <td>NaN</td>\n",
       "      <td>Split-up</td>\n",
       "      <td>NaN</td>\n",
       "      <td>NaN</td>\n",
       "    </tr>\n",
       "  </tbody>\n",
       "</table>\n",
       "<p>129471 rows × 10 columns</p>\n",
       "</div>"
      ],
      "text/plain": [
       "                   name                                                url  \\\n",
       "84494           Olympic  https://www.metal-archives.com/bands/Olympic/3...   \n",
       "85413            Orient  https://www.metal-archives.com/bands/Orient/51156   \n",
       "98592         Scorpions  https://www.metal-archives.com/bands/Scorpions...   \n",
       "43631   Faithful Breath  https://www.metal-archives.com/bands/Faithful_...   \n",
       "67636         Limelight  https://www.metal-archives.com/bands/Limelight...   \n",
       "...                 ...                                                ...   \n",
       "129176          כף הקלע  https://www.metal-archives.com/bands/%D7%9B%D7...   \n",
       "129197     ᛋᚢᚱᛏᚱ ᚹᛟᚢᚾᛞᛋ  https://www.metal-archives.com/bands/%E1%9B%8B...   \n",
       "129208          こくまろみるく  https://www.metal-archives.com/bands/%E3%81%93...   \n",
       "129224          ノストラダムス  https://www.metal-archives.com/bands/%E3%83%8E...   \n",
       "129426               鐵男  https://www.metal-archives.com/bands/%E9%90%B5...   \n",
       "\n",
       "                                                    genre  \\\n",
       "84494               Pop Rock; Heavy Metal/Hard Rock (mid)   \n",
       "85413              Hard Rock (early); Heavy Metal (later)   \n",
       "98592                               Heavy Metal/Hard Rock   \n",
       "43631   Progressive Rock (early); Heavy Metal/Hard Roc...   \n",
       "67636                        NWOBHM/Heavy Metal/Hard Rock   \n",
       "...                                                   ...   \n",
       "129176                       Black/Death Metal/Crust Punk   \n",
       "129197                      Raw Black Metal, Dark Ambient   \n",
       "129208                           Experimental Power Metal   \n",
       "129224                                  Progressive Metal   \n",
       "129426                       Sludge Metal/Grindcore/Noise   \n",
       "\n",
       "                                                    theme  \\\n",
       "84494                                                 NaN   \n",
       "85413                                    ['Sex', ' Evil']   \n",
       "98592   ['Life', ' Society', ' Love', ' Sex', ' Inner ...   \n",
       "43631                 ['Adventure', ' Fantasy', ' Women']   \n",
       "67636         ['Life', ' Feelings', ' Love', ' Thoughts']   \n",
       "...                                                   ...   \n",
       "129176                                                NaN   \n",
       "129197                                                NaN   \n",
       "129208                        ['The bizarre', ' Macabre']   \n",
       "129224                                                NaN   \n",
       "129426                                                NaN   \n",
       "\n",
       "                       label         country  \\\n",
       "84494                    NaN         Czechia   \n",
       "85413   Unsigned/independent         Czechia   \n",
       "98592                    NaN         Germany   \n",
       "43631                    NaN         Germany   \n",
       "67636                    NaN  United Kingdom   \n",
       "...                      ...             ...   \n",
       "129176  Unsigned/independent          Israel   \n",
       "129197                   NaN  United Kingdom   \n",
       "129208  Unsigned/independent           Japan   \n",
       "129224                   NaN           Japan   \n",
       "129426                   NaN           Japan   \n",
       "\n",
       "                                   location        status    date  \\\n",
       "84494                                Prague        Active  1962.0   \n",
       "85413                                Prague        Active  1964.0   \n",
       "98592                Hannover, Lower Saxony        Active  1964.0   \n",
       "43631        Witten, North Rhine-Westphalia  Changed name  1967.0   \n",
       "67636   Mansfield, Nottinghamshire, England      Split-up  1967.0   \n",
       "...                                     ...           ...     ...   \n",
       "129176                         Haifa, Haifa        Active     NaN   \n",
       "129197                                  NaN        Active     NaN   \n",
       "129208                                  NaN        Active     NaN   \n",
       "129224                                  NaN      Split-up     NaN   \n",
       "129426                                  NaN      Split-up     NaN   \n",
       "\n",
       "                                          years  \n",
       "84494                              1962-present  \n",
       "85413                    1964-1990,1998-present  \n",
       "98592                              1964-present  \n",
       "43631   1966-1967 (as),1967-1986,1986-1993 (as)  \n",
       "67636                               1967-?,1997  \n",
       "...                                         ...  \n",
       "129176                                      NaN  \n",
       "129197                                      NaN  \n",
       "129208                                      NaN  \n",
       "129224                                      NaN  \n",
       "129426                                      NaN  \n",
       "\n",
       "[129471 rows x 10 columns]"
      ]
     },
     "execution_count": 2,
     "metadata": {},
     "output_type": "execute_result"
    }
   ],
   "source": [
    "bands"
   ]
  },
  {
   "cell_type": "markdown",
   "id": "7703a410",
   "metadata": {},
   "source": [
    "# 1. By Genre"
   ]
  },
  {
   "cell_type": "code",
   "execution_count": 3,
   "id": "1518b1e9",
   "metadata": {
    "scrolled": false
   },
   "outputs": [
    {
     "data": {
      "text/html": [
       "<div>\n",
       "<style scoped>\n",
       "    .dataframe tbody tr th:only-of-type {\n",
       "        vertical-align: middle;\n",
       "    }\n",
       "\n",
       "    .dataframe tbody tr th {\n",
       "        vertical-align: top;\n",
       "    }\n",
       "\n",
       "    .dataframe thead th {\n",
       "        text-align: right;\n",
       "    }\n",
       "</style>\n",
       "<table border=\"1\" class=\"dataframe\">\n",
       "  <thead>\n",
       "    <tr style=\"text-align: right;\">\n",
       "      <th></th>\n",
       "      <th>name</th>\n",
       "      <th>url</th>\n",
       "      <th>genre</th>\n",
       "      <th>theme</th>\n",
       "      <th>label</th>\n",
       "      <th>country</th>\n",
       "      <th>location</th>\n",
       "      <th>status</th>\n",
       "      <th>date</th>\n",
       "      <th>years</th>\n",
       "    </tr>\n",
       "  </thead>\n",
       "  <tbody>\n",
       "    <tr>\n",
       "      <th>87513</th>\n",
       "      <td>Pentagram</td>\n",
       "      <td>https://www.metal-archives.com/bands/Pentagram...</td>\n",
       "      <td>Thrash Metal (early); Heavy/Middle Eastern Fol...</td>\n",
       "      <td>['Metal', ' War', ' Misery (early); Suicide', ...</td>\n",
       "      <td>NaN</td>\n",
       "      <td>Türkiye</td>\n",
       "      <td>Istanbul</td>\n",
       "      <td>Active</td>\n",
       "      <td>1987.0</td>\n",
       "      <td>1987-present,2001-present (as)</td>\n",
       "    </tr>\n",
       "    <tr>\n",
       "      <th>85566</th>\n",
       "      <td>Orphaned Land</td>\n",
       "      <td>https://www.metal-archives.com/bands/Orphaned_...</td>\n",
       "      <td>Doom/Death/Middle Eastern Folk Metal (early); ...</td>\n",
       "      <td>['Abrahamic religions', ' Unity', ' Peace']</td>\n",
       "      <td>NaN</td>\n",
       "      <td>Israel</td>\n",
       "      <td>Bat Yam, Tel Aviv / Petah Tikva, Central</td>\n",
       "      <td>Active</td>\n",
       "      <td>1992.0</td>\n",
       "      <td>1991-1992 (as),1992-1997,2001-present</td>\n",
       "    </tr>\n",
       "    <tr>\n",
       "      <th>72410</th>\n",
       "      <td>Melechesh</td>\n",
       "      <td>https://www.metal-archives.com/bands/Melechesh...</td>\n",
       "      <td>Black/Death/Middle Eastern Folk Metal</td>\n",
       "      <td>['Mesopotamian mythology']</td>\n",
       "      <td>NaN</td>\n",
       "      <td>International</td>\n",
       "      <td>Jerusalem/Bethlehem (early); Netherlands/Franc...</td>\n",
       "      <td>Active</td>\n",
       "      <td>1993.0</td>\n",
       "      <td>1993-present</td>\n",
       "    </tr>\n",
       "    <tr>\n",
       "      <th>14215</th>\n",
       "      <td>Blaakyum</td>\n",
       "      <td>https://www.metal-archives.com/bands/Blaakyum/...</td>\n",
       "      <td>Thrash/Heavy/Middle Eastern Folk Metal</td>\n",
       "      <td>['Conceptual (thematic)', ' Symbolic', ' Socia...</td>\n",
       "      <td>Unsigned/independent</td>\n",
       "      <td>Lebanon</td>\n",
       "      <td>Beirut / Antelias, Matn</td>\n",
       "      <td>Active</td>\n",
       "      <td>1995.0</td>\n",
       "      <td>1995-2001,2007-present</td>\n",
       "    </tr>\n",
       "    <tr>\n",
       "      <th>34862</th>\n",
       "      <td>Distorted</td>\n",
       "      <td>https://www.metal-archives.com/bands/Distorted...</td>\n",
       "      <td>Gothic/Melodic Death Metal with Middle Eastern...</td>\n",
       "      <td>['Depression', ' Romance', ' Hypocrisy']</td>\n",
       "      <td>NaN</td>\n",
       "      <td>Israel</td>\n",
       "      <td>Bat Yam, Tel Aviv</td>\n",
       "      <td>Active</td>\n",
       "      <td>1996.0</td>\n",
       "      <td>1996-2010,2022-present</td>\n",
       "    </tr>\n",
       "  </tbody>\n",
       "</table>\n",
       "</div>"
      ],
      "text/plain": [
       "                name                                                url  \\\n",
       "87513      Pentagram  https://www.metal-archives.com/bands/Pentagram...   \n",
       "85566  Orphaned Land  https://www.metal-archives.com/bands/Orphaned_...   \n",
       "72410      Melechesh  https://www.metal-archives.com/bands/Melechesh...   \n",
       "14215       Blaakyum  https://www.metal-archives.com/bands/Blaakyum/...   \n",
       "34862      Distorted  https://www.metal-archives.com/bands/Distorted...   \n",
       "\n",
       "                                                   genre  \\\n",
       "87513  Thrash Metal (early); Heavy/Middle Eastern Fol...   \n",
       "85566  Doom/Death/Middle Eastern Folk Metal (early); ...   \n",
       "72410              Black/Death/Middle Eastern Folk Metal   \n",
       "14215             Thrash/Heavy/Middle Eastern Folk Metal   \n",
       "34862  Gothic/Melodic Death Metal with Middle Eastern...   \n",
       "\n",
       "                                                   theme  \\\n",
       "87513  ['Metal', ' War', ' Misery (early); Suicide', ...   \n",
       "85566        ['Abrahamic religions', ' Unity', ' Peace']   \n",
       "72410                         ['Mesopotamian mythology']   \n",
       "14215  ['Conceptual (thematic)', ' Symbolic', ' Socia...   \n",
       "34862           ['Depression', ' Romance', ' Hypocrisy']   \n",
       "\n",
       "                      label        country  \\\n",
       "87513                   NaN        Türkiye   \n",
       "85566                   NaN         Israel   \n",
       "72410                   NaN  International   \n",
       "14215  Unsigned/independent        Lebanon   \n",
       "34862                   NaN         Israel   \n",
       "\n",
       "                                                location  status    date  \\\n",
       "87513                                           Istanbul  Active  1987.0   \n",
       "85566           Bat Yam, Tel Aviv / Petah Tikva, Central  Active  1992.0   \n",
       "72410  Jerusalem/Bethlehem (early); Netherlands/Franc...  Active  1993.0   \n",
       "14215                            Beirut / Antelias, Matn  Active  1995.0   \n",
       "34862                                  Bat Yam, Tel Aviv  Active  1996.0   \n",
       "\n",
       "                                       years  \n",
       "87513         1987-present,2001-present (as)  \n",
       "85566  1991-1992 (as),1992-1997,2001-present  \n",
       "72410                           1993-present  \n",
       "14215                 1995-2001,2007-present  \n",
       "34862                 1996-2010,2022-present  "
      ]
     },
     "execution_count": 3,
     "metadata": {},
     "output_type": "execute_result"
    }
   ],
   "source": [
    "bands[bands['genre'].str.lower().str.contains('eastern')].head()"
   ]
  },
  {
   "cell_type": "code",
   "execution_count": 4,
   "id": "61c53264",
   "metadata": {},
   "outputs": [
    {
     "name": "stdout",
     "output_type": "stream",
     "text": [
      "['acoustic' 'alternative' 'ambient' 'aor' 'atmospheric' 'avant-garde'\n",
      " 'black' 'blackened' 'blues' 'brutal' 'celtic' 'classical' 'crossover'\n",
      " 'crust' 'crustcore' 'cybergrind' 'd-beat' 'dark' 'darkwave' 'death'\n",
      " 'deathcore' 'depressive' 'djent' 'doom' 'drone' 'dungeon' 'electronic'\n",
      " 'electronica' 'epic' 'experimental' 'extreme' 'folk' 'funeral' 'funk'\n",
      " 'fusion' 'glam' 'goregrind' 'gothic' 'grind' 'grindcore' 'groove'\n",
      " 'grunge' 'hard' 'hardcore' 'heavy' 'industrial' 'jazz' 'mathcore'\n",
      " 'medieval' 'melodic' 'metalcore' 'middle eastern' 'neoclassical'\n",
      " 'neofolk' 'noise' 'noisecore' 'noisegrind' 'nu-metal' 'nwobhm' 'oi'\n",
      " 'operatic' 'pagan' 'pop' 'post-black' 'post-hardcore' 'post-metal'\n",
      " 'post-punk' 'post-rock' 'power' 'powerviolence' 'progressive'\n",
      " 'psychedelic' 'punk' 'rac' 'raw' 'shoegaze' 'shred' 'slam' 'sludge'\n",
      " 'southern' 'speed' 'stoner' 'symphonic' 'synth' 'technical' 'thrash'\n",
      " 'viking']\n"
     ]
    }
   ],
   "source": [
    "from sklearn.feature_extraction.text import CountVectorizer\n",
    "\n",
    "vectorizer = CountVectorizer(binary=True, token_pattern=\"middle eastern|[0-9a-z'\\-]+\", min_df=10,\n",
    "                             stop_words=['metal', 'rock', \"'n'\", 'roll', 'early', 'mid', 'later',\n",
    "                                         'and', 'elements', 'influences', 'various', 'with'])\n",
    "X = vectorizer.fit_transform(bands.loc[:, 'genre'])\n",
    "print(vectorizer.get_feature_names_out())\n",
    "#print(X.todense())"
   ]
  },
  {
   "cell_type": "code",
   "execution_count": 5,
   "id": "05bf4d35",
   "metadata": {},
   "outputs": [
    {
     "data": {
      "text/plain": [
       "array([13, 13, 13, ..., 18,  7, 10], dtype=int32)"
      ]
     },
     "execution_count": 5,
     "metadata": {},
     "output_type": "execute_result"
    }
   ],
   "source": [
    "from sklearn.cluster import KMeans\n",
    "kmeans = KMeans(n_clusters=30, n_init=50)\n",
    "kmeans.fit(X)\n",
    "kmeans.labels_"
   ]
  },
  {
   "cell_type": "code",
   "execution_count": 6,
   "id": "556c05d8",
   "metadata": {},
   "outputs": [],
   "source": [
    "groups = bands.loc[:].groupby(kmeans.labels_)"
   ]
  },
  {
   "cell_type": "code",
   "execution_count": 7,
   "id": "ee5429d8",
   "metadata": {
    "scrolled": true
   },
   "outputs": [
    {
     "data": {
      "text/plain": [
       "0      1717\n",
       "1     23692\n",
       "2     14431\n",
       "3     11471\n",
       "4      2304\n",
       "5      6185\n",
       "6      6982\n",
       "7      5465\n",
       "8      1343\n",
       "9      2405\n",
       "10     1325\n",
       "11    10241\n",
       "12     5339\n",
       "13     2553\n",
       "14     1270\n",
       "15     1369\n",
       "16     4045\n",
       "17     1377\n",
       "18     3292\n",
       "19     4175\n",
       "20     1560\n",
       "21      899\n",
       "22     1602\n",
       "23     3606\n",
       "24      337\n",
       "25     1532\n",
       "26     1647\n",
       "27     1945\n",
       "28     1996\n",
       "29     3366\n",
       "dtype: int64"
      ]
     },
     "execution_count": 7,
     "metadata": {},
     "output_type": "execute_result"
    }
   ],
   "source": [
    "groups.size()"
   ]
  },
  {
   "cell_type": "code",
   "execution_count": 8,
   "id": "d6273204",
   "metadata": {
    "scrolled": true
   },
   "outputs": [
    {
     "data": {
      "text/plain": [
       "0     [Pantera, Kreon, Spectrus, White Zombie, Battl...\n",
       "1     [Evil Blood, Skull Face, White Hell, Cerbero, ...\n",
       "2     [Graf Spee, Necrophagia, Imperator, Аясын Салх...\n",
       "3     [Zoetrope, IG-Elit, Blind Illusion, Stone Veng...\n",
       "4     [Trouble, Warhead, Blaster, Valhall, Angel Rot...\n",
       "5     [Vulcano, Parabellum, Toxodeth, Virgin Witch, ...\n",
       "6     [Grinder Heavy Metal, Poison, Master, Mantas, ...\n",
       "7     [Rush, Night Sun, Yargos, Ñu, Annex, Graveston...\n",
       "8     [In Flames, EOS, Don't Deashcore aus Seesen am...\n",
       "9     [El Reloj, Christopher Lee, Fongus, Riot V, Ci...\n",
       "10    [Corrosion of Conformity, Melvins, Neurosis, K...\n",
       "11    [Black Sabbath, Judas Priest, Back Out, La Ban...\n",
       "12    [Rax, Carcass, Alucard, Misanthrope, Threnody,...\n",
       "13    [Olympic, Orient, Scorpions, Faithful Breath, ...\n",
       "14    [Graveyard Rodeo, Eyehategod, Sludgelord, Will...\n",
       "15    [Ragnarok, Corvus Corax, Steve Von Till, Raven...\n",
       "16    [Die Krupps, Ministry, Faith No More, Fall of ...\n",
       "17    [Death, Disharmonic Orchestra, Thormenthor, Al...\n",
       "18    [Yngwie Malmsteen, Projektil, Ocelot, Cérbero,...\n",
       "19    [Malicious Hate, Suffocation, Gorbage, Mortici...\n",
       "20    [Integrity, Starkweather, Rorschach, Merauder,...\n",
       "21    [Raven, Stress, Hell Bound, Rex Inferi, Eryops...\n",
       "22    [The Exploited, Vopo's, Slipknot, Cro-Mags, Wh...\n",
       "23    [Pentagram, Bedemon, Force, Tyrant, The Obsess...\n",
       "24    [Gore Beyond Necropsy, Psychotic Noise, Exulce...\n",
       "25    [Törr, Kat, Bulldozer, Semen of Satan, Blackfi...\n",
       "26    [Overkill, Toxic, United, Anthrax, Overdose, B...\n",
       "27    [Nightmare Visions, Celtic Frost, In the Colon...\n",
       "28    [Mentors, Discharge, Turbo, Witch Slayer, Wrat...\n",
       "29    [Napalm Death, Satan's Holocaust, Extreme Nois...\n",
       "Name: name, dtype: object"
      ]
     },
     "execution_count": 8,
     "metadata": {},
     "output_type": "execute_result"
    }
   ],
   "source": [
    "groups['name'].apply(list)"
   ]
  },
  {
   "cell_type": "code",
   "execution_count": 9,
   "id": "b13e9bbc",
   "metadata": {},
   "outputs": [
    {
     "data": {
      "text/plain": [
       "array([[5.82411182e-04, 1.92195690e-02, 0.00000000e+00, ...,\n",
       "        1.10658125e-02, 0.00000000e+00, 0.00000000e+00],\n",
       "       [6.75333446e-04, 4.22083404e-05, 4.85395914e-02, ...,\n",
       "        2.95458383e-04, 0.00000000e+00, 5.31825089e-03],\n",
       "       [0.00000000e+00, 7.62247938e-04, 6.23657404e-04, ...,\n",
       "        5.75150717e-02, 0.00000000e+00, 1.10872427e-03],\n",
       "       ...,\n",
       "       [0.00000000e+00, 3.59897172e-03, 5.65552699e-03, ...,\n",
       "        1.02827763e-03, 4.11311054e-03, 0.00000000e+00],\n",
       "       [0.00000000e+00, 4.00801603e-03, 0.00000000e+00, ...,\n",
       "        5.01002004e-04, 1.00000000e+00, 0.00000000e+00],\n",
       "       [0.00000000e+00, 5.94177065e-04, 2.97088532e-04, ...,\n",
       "        2.10932858e-02, 0.00000000e+00, 2.97088532e-04]])"
      ]
     },
     "execution_count": 9,
     "metadata": {},
     "output_type": "execute_result"
    }
   ],
   "source": [
    "kmeans.cluster_centers_"
   ]
  },
  {
   "cell_type": "code",
   "execution_count": 10,
   "id": "ec5c70ee",
   "metadata": {},
   "outputs": [
    {
     "data": {
      "text/plain": [
       "array([['groove', 'heavy', 'southern', 'melodic', 'sludge'],\n",
       "       ['black', 'raw', 'atmospheric', 'ambient', 'melodic'],\n",
       "       ['death', 'technical', 'groove', 'blackened', 'deathcore'],\n",
       "       ['thrash', 'speed', 'power', 'progressive', 'metalcore'],\n",
       "       ['stoner', 'doom', 'sludge', 'psychedelic', 'southern'],\n",
       "       ['death', 'black', 'melodic', 'thrash', 'symphonic'],\n",
       "       ['death', 'thrash', 'melodic', 'groove', 'progressive'],\n",
       "       ['progressive', 'power', 'heavy', 'symphonic', 'melodic'],\n",
       "       ['melodic', 'metalcore', 'death', 'thrash', 'groove'],\n",
       "       ['heavy', 'power', 'progressive', 'thrash', 'melodic'],\n",
       "       ['sludge', 'stoner', 'post-metal', 'atmospheric', 'hardcore'],\n",
       "       ['heavy', 'melodic', 'doom', 'nwobhm', 'stoner'],\n",
       "       ['melodic', 'death', 'progressive', 'doom', 'groove'],\n",
       "       ['hard', 'heavy', 'melodic', 'nwobhm', 'progressive'],\n",
       "       ['doom', 'sludge', 'drone', 'death', 'post-metal'],\n",
       "       ['folk', 'black', 'pagan', 'viking', 'symphonic'],\n",
       "       ['gothic', 'symphonic', 'deathcore', 'post-black', 'industrial'],\n",
       "       ['death', 'progressive', 'technical', 'doom', 'deathcore'],\n",
       "       ['power', 'melodic', 'symphonic', 'speed', 'folk'],\n",
       "       ['brutal', 'death', 'grindcore', 'slam', 'technical'],\n",
       "       ['metalcore', 'groove', 'deathcore', 'melodic', 'death'],\n",
       "       ['speed', 'heavy', 'punk', 'thrash', 'melodic'],\n",
       "       ['crossover', 'thrash', 'hardcore', 'punk', 'speed'],\n",
       "       ['doom', 'black', 'gothic', 'funeral', 'drone'],\n",
       "       ['goregrind', 'grindcore', 'black', 'noisecore', 'groove'],\n",
       "       ['black', 'thrash', 'speed', 'punk', 'heavy'],\n",
       "       ['groove', 'thrash', 'metalcore', 'hardcore', 'power'],\n",
       "       ['death', 'doom', 'gothic', 'atmospheric', 'funeral'],\n",
       "       ['thrash', 'heavy', 'groove', 'progressive', 'melodic'],\n",
       "       ['grindcore', 'death', 'crust', 'technical', 'punk']], dtype=object)"
      ]
     },
     "execution_count": 10,
     "metadata": {},
     "output_type": "execute_result"
    }
   ],
   "source": [
    "top_pos = np.argsort(kmeans.cluster_centers_)[:, -1 : -6 : -1]\n",
    "vectorizer.get_feature_names_out()[top_pos]"
   ]
  },
  {
   "cell_type": "code",
   "execution_count": 11,
   "id": "e4d98b7d",
   "metadata": {
    "scrolled": true
   },
   "outputs": [
    {
     "data": {
      "text/plain": [
       "array([[1.  , 0.17, 0.08, 0.06, 0.05],\n",
       "       [1.  , 0.05, 0.05, 0.05, 0.04],\n",
       "       [1.  , 0.06, 0.04, 0.03, 0.02],\n",
       "       [1.  , 0.07, 0.06, 0.04, 0.03],\n",
       "       [1.  , 0.66, 0.1 , 0.07, 0.04],\n",
       "       [1.  , 1.  , 0.14, 0.09, 0.04],\n",
       "       [1.  , 1.  , 0.11, 0.05, 0.03],\n",
       "       [1.  , 0.16, 0.1 , 0.04, 0.04],\n",
       "       [1.  , 1.  , 0.95, 0.08, 0.04],\n",
       "       [1.  , 1.  , 0.09, 0.05, 0.05],\n",
       "       [1.  , 0.3 , 0.18, 0.1 , 0.06],\n",
       "       [1.  , 0.07, 0.03, 0.03, 0.01],\n",
       "       [1.  , 1.  , 0.06, 0.06, 0.04],\n",
       "       [1.  , 0.99, 0.12, 0.03, 0.03],\n",
       "       [1.  , 1.  , 0.09, 0.06, 0.05],\n",
       "       [1.  , 0.42, 0.12, 0.08, 0.07],\n",
       "       [0.34, 0.24, 0.18, 0.13, 0.04],\n",
       "       [1.  , 1.  , 0.11, 0.05, 0.05],\n",
       "       [1.  , 0.16, 0.15, 0.1 , 0.03],\n",
       "       [1.  , 1.  , 0.16, 0.09, 0.07],\n",
       "       [1.  , 0.3 , 0.05, 0.03, 0.03],\n",
       "       [1.  , 0.68, 0.08, 0.08, 0.03],\n",
       "       [1.  , 0.95, 0.13, 0.09, 0.02],\n",
       "       [1.  , 0.28, 0.18, 0.13, 0.06],\n",
       "       [1.  , 0.08, 0.01, 0.01, 0.01],\n",
       "       [1.  , 1.  , 0.06, 0.04, 0.02],\n",
       "       [1.  , 1.  , 0.06, 0.04, 0.02],\n",
       "       [1.  , 1.  , 0.13, 0.07, 0.05],\n",
       "       [1.  , 1.  , 0.05, 0.03, 0.02],\n",
       "       [1.  , 0.78, 0.03, 0.02, 0.01]])"
      ]
     },
     "execution_count": 11,
     "metadata": {},
     "output_type": "execute_result"
    }
   ],
   "source": [
    "top = np.sort(kmeans.cluster_centers_)[:, -1 : -6 : -1]\n",
    "np.round(top, 2)"
   ]
  },
  {
   "cell_type": "markdown",
   "id": "adb64e70",
   "metadata": {},
   "source": [
    "# 2. By Theme"
   ]
  },
  {
   "cell_type": "code",
   "execution_count": 12,
   "id": "c33b8d2b",
   "metadata": {},
   "outputs": [
    {
     "data": {
      "text/html": [
       "<div>\n",
       "<style scoped>\n",
       "    .dataframe tbody tr th:only-of-type {\n",
       "        vertical-align: middle;\n",
       "    }\n",
       "\n",
       "    .dataframe tbody tr th {\n",
       "        vertical-align: top;\n",
       "    }\n",
       "\n",
       "    .dataframe thead th {\n",
       "        text-align: right;\n",
       "    }\n",
       "</style>\n",
       "<table border=\"1\" class=\"dataframe\">\n",
       "  <thead>\n",
       "    <tr style=\"text-align: right;\">\n",
       "      <th></th>\n",
       "      <th>name</th>\n",
       "      <th>url</th>\n",
       "      <th>genre</th>\n",
       "      <th>theme</th>\n",
       "      <th>label</th>\n",
       "      <th>country</th>\n",
       "      <th>location</th>\n",
       "      <th>status</th>\n",
       "      <th>date</th>\n",
       "      <th>years</th>\n",
       "    </tr>\n",
       "  </thead>\n",
       "  <tbody>\n",
       "    <tr>\n",
       "      <th>102499</th>\n",
       "      <td>Sir Lord Baltimore</td>\n",
       "      <td>https://www.metal-archives.com/bands/Sir_Lord_...</td>\n",
       "      <td>Heavy Metal/Hard Rock</td>\n",
       "      <td>['Love', ' Women', ' Life (early); Christianit...</td>\n",
       "      <td>Unsigned/independent</td>\n",
       "      <td>United States</td>\n",
       "      <td>New York, New York</td>\n",
       "      <td>Split-up</td>\n",
       "      <td>1968.0</td>\n",
       "      <td>1968-1972,1977,2005-2006</td>\n",
       "    </tr>\n",
       "    <tr>\n",
       "      <th>91937</th>\n",
       "      <td>Rainbow</td>\n",
       "      <td>https://www.metal-archives.com/bands/Rainbow/108</td>\n",
       "      <td>Hard Rock/Heavy Metal</td>\n",
       "      <td>['Fantasy', ' Rock (early); Relationships', ' ...</td>\n",
       "      <td>NaN</td>\n",
       "      <td>United States</td>\n",
       "      <td>Los Angeles, California / Connecticut / New York</td>\n",
       "      <td>Active</td>\n",
       "      <td>1975.0</td>\n",
       "      <td>1975 (as),1976-1984,1994-1997,2015-present</td>\n",
       "    </tr>\n",
       "    <tr>\n",
       "      <th>33522</th>\n",
       "      <td>Diamond Head</td>\n",
       "      <td>https://www.metal-archives.com/bands/Diamond_H...</td>\n",
       "      <td>NWOBHM, Heavy Metal/Hard Rock</td>\n",
       "      <td>['Fantasy', ' Fiction', ' Love (early); Societ...</td>\n",
       "      <td>NaN</td>\n",
       "      <td>United Kingdom</td>\n",
       "      <td>Stourbridge, West Midlands, England</td>\n",
       "      <td>Active</td>\n",
       "      <td>1976.0</td>\n",
       "      <td>1976-1985,1991-1994,2000-present</td>\n",
       "    </tr>\n",
       "    <tr>\n",
       "      <th>119193</th>\n",
       "      <td>V8</td>\n",
       "      <td>https://www.metal-archives.com/bands/V8/3236</td>\n",
       "      <td>Heavy Metal</td>\n",
       "      <td>['Violence', ' Rebellion', ' Religion', ' Soci...</td>\n",
       "      <td>NaN</td>\n",
       "      <td>Argentina</td>\n",
       "      <td>Buenos Aires</td>\n",
       "      <td>Split-up</td>\n",
       "      <td>1979.0</td>\n",
       "      <td>1979-1987,1996</td>\n",
       "    </tr>\n",
       "    <tr>\n",
       "      <th>81146</th>\n",
       "      <td>Nightmare</td>\n",
       "      <td>https://www.metal-archives.com/bands/Nightmare...</td>\n",
       "      <td>Heavy/Power Metal</td>\n",
       "      <td>['Life', ' Rock (early); Fantasy', ' Armageddo...</td>\n",
       "      <td>NaN</td>\n",
       "      <td>France</td>\n",
       "      <td>Grenoble, Auvergne-Rhône-Alpes</td>\n",
       "      <td>Active</td>\n",
       "      <td>1979.0</td>\n",
       "      <td>1979-1988,1999-present</td>\n",
       "    </tr>\n",
       "  </tbody>\n",
       "</table>\n",
       "</div>"
      ],
      "text/plain": [
       "                      name                                                url  \\\n",
       "102499  Sir Lord Baltimore  https://www.metal-archives.com/bands/Sir_Lord_...   \n",
       "91937              Rainbow   https://www.metal-archives.com/bands/Rainbow/108   \n",
       "33522         Diamond Head  https://www.metal-archives.com/bands/Diamond_H...   \n",
       "119193                  V8       https://www.metal-archives.com/bands/V8/3236   \n",
       "81146            Nightmare  https://www.metal-archives.com/bands/Nightmare...   \n",
       "\n",
       "                                genre  \\\n",
       "102499          Heavy Metal/Hard Rock   \n",
       "91937           Hard Rock/Heavy Metal   \n",
       "33522   NWOBHM, Heavy Metal/Hard Rock   \n",
       "119193                    Heavy Metal   \n",
       "81146               Heavy/Power Metal   \n",
       "\n",
       "                                                    theme  \\\n",
       "102499  ['Love', ' Women', ' Life (early); Christianit...   \n",
       "91937   ['Fantasy', ' Rock (early); Relationships', ' ...   \n",
       "33522   ['Fantasy', ' Fiction', ' Love (early); Societ...   \n",
       "119193  ['Violence', ' Rebellion', ' Religion', ' Soci...   \n",
       "81146   ['Life', ' Rock (early); Fantasy', ' Armageddo...   \n",
       "\n",
       "                       label         country  \\\n",
       "102499  Unsigned/independent   United States   \n",
       "91937                    NaN   United States   \n",
       "33522                    NaN  United Kingdom   \n",
       "119193                   NaN       Argentina   \n",
       "81146                    NaN          France   \n",
       "\n",
       "                                                location    status    date  \\\n",
       "102499                                New York, New York  Split-up  1968.0   \n",
       "91937   Los Angeles, California / Connecticut / New York    Active  1975.0   \n",
       "33522                Stourbridge, West Midlands, England    Active  1976.0   \n",
       "119193                                      Buenos Aires  Split-up  1979.0   \n",
       "81146                     Grenoble, Auvergne-Rhône-Alpes    Active  1979.0   \n",
       "\n",
       "                                             years  \n",
       "102499                    1968-1972,1977,2005-2006  \n",
       "91937   1975 (as),1976-1984,1994-1997,2015-present  \n",
       "33522             1976-1985,1991-1994,2000-present  \n",
       "119193                              1979-1987,1996  \n",
       "81146                       1979-1988,1999-present  "
      ]
     },
     "execution_count": 12,
     "metadata": {},
     "output_type": "execute_result"
    }
   ],
   "source": [
    "bands[bands['theme'].str.lower().str.contains('early').fillna(False)].head()"
   ]
  },
  {
   "cell_type": "code",
   "execution_count": 13,
   "id": "caea451b",
   "metadata": {},
   "outputs": [
    {
     "name": "stdout",
     "output_type": "stream",
     "text": [
      "(1116,)\n"
     ]
    }
   ],
   "source": [
    "from sklearn.feature_extraction.text import CountVectorizer\n",
    "\n",
    "vectorizer = CountVectorizer(binary=True, token_pattern=\"[0-9a-z][0-9a-z'\\-/\\s]*[0-9a-z]\", min_df=10,\n",
    "                             stop_words=['early', 'mid', 'later'])\n",
    "X = vectorizer.fit_transform(bands.loc[: , 'theme'].fillna(''))\n",
    "print(vectorizer.get_feature_names_out().shape)\n",
    "#print(X.todense())"
   ]
  },
  {
   "cell_type": "code",
   "execution_count": 14,
   "id": "f1c0140d",
   "metadata": {},
   "outputs": [
    {
     "data": {
      "text/plain": [
       "array([ 1, 12,  7, ...,  1,  1,  1], dtype=int32)"
      ]
     },
     "execution_count": 14,
     "metadata": {},
     "output_type": "execute_result"
    }
   ],
   "source": [
    "from sklearn.cluster import KMeans\n",
    "kmeans = KMeans(n_clusters=30, n_init=30)\n",
    "kmeans.fit(X)\n",
    "kmeans.labels_"
   ]
  },
  {
   "cell_type": "code",
   "execution_count": 15,
   "id": "70b674a6",
   "metadata": {},
   "outputs": [],
   "source": [
    "groups = bands.loc[:].groupby(kmeans.labels_)"
   ]
  },
  {
   "cell_type": "code",
   "execution_count": 16,
   "id": "e6b06d59",
   "metadata": {
    "scrolled": true
   },
   "outputs": [
    {
     "data": {
      "text/plain": [
       "0        15\n",
       "1     78097\n",
       "2      1754\n",
       "3      2126\n",
       "4      2141\n",
       "5      1447\n",
       "6      3681\n",
       "7      1875\n",
       "8      1015\n",
       "9      1643\n",
       "10     1672\n",
       "11     2872\n",
       "12      911\n",
       "13      888\n",
       "14     2168\n",
       "15     2711\n",
       "16     1704\n",
       "17     1716\n",
       "18     1744\n",
       "19     1662\n",
       "20     1743\n",
       "21      963\n",
       "22      692\n",
       "23     3070\n",
       "24     5839\n",
       "25     1931\n",
       "26     1068\n",
       "27      817\n",
       "28      677\n",
       "29      829\n",
       "dtype: int64"
      ]
     },
     "execution_count": 16,
     "metadata": {},
     "output_type": "execute_result"
    }
   ],
   "source": [
    "groups.size()"
   ]
  },
  {
   "cell_type": "code",
   "execution_count": 17,
   "id": "cce591d6",
   "metadata": {
    "scrolled": true
   },
   "outputs": [
    {
     "data": {
      "text/plain": [
       "0     [Kilcrops, Gorath, Abominor, Ambiguitas, Mitoc...\n",
       "1     [Olympic, Cool Feet, Ash, Flower Travellin' Ba...\n",
       "2     [Saint Vitus, Coroner, Osiris, Disgrace, Дай, ...\n",
       "3     [Ritual, Törr, Oz, Satan's Host, Pagan Altar, ...\n",
       "4     [Glory Bell's Band, The Clavion, Tool Silence,...\n",
       "5     [Rush, Malhavoc, Armia, Martin, Magellan, Meko...\n",
       "6     [Black Uniforms, The Accüsed, Mantas, Decapita...\n",
       "7     [Scorpions, Deep Purple, Budgie, El Reloj, Luc...\n",
       "8     [Judas Priest, Christopher Lee, Iron Maiden, K...\n",
       "9     [Graf Spee, Metallian, Black Ivory, Minotaur, ...\n",
       "10    [Made in England, Medallion, Atsushi Yokozeki,...\n",
       "11    [Crucifixion, Sangre Humana, Midnight Darkness...\n",
       "12    [Orient, Buffalo, Dr. Heathen Scum, The Handso...\n",
       "13    [Quartz, Death SS, Tyrant, Venom, Voodoo Child...\n",
       "14    [Limelight, Sir Lord Baltimore, Thin Lizzy, Ca...\n",
       "15    [Faithful Breath, Black Sabbath, Cirith Ungol,...\n",
       "16    [Bulldozer, Exciter, Overkill, Grave Digger, S...\n",
       "17    [Trust, The Exploited, Hades, Amebix, D.D.T., ...\n",
       "18    [Semen of Satan, Antichrist, RetroSatan, Angel...\n",
       "19    [Der Rache liebt, Sentencia, Eyehategod, Blood...\n",
       "20    [Future Tense, Luzbel, Black Evil, Imperator, ...\n",
       "21    [Discharge, Cyclone, Morsüre, Jag Panzer, Afte...\n",
       "22    [Deviated Instinct, Torchure, Nemesis, Life Di...\n",
       "23    [Raven, Holocaust, Zero Hora, Almost Human, Tu...\n",
       "24    [Frankenstein, Black Death, Blind Illusion, De...\n",
       "25    [Warrior, Gutwrench, Böhse Onkelz, Cro-Mags, A...\n",
       "26    [Vortex, Napalm Death, Ratos de Porão, Cerbero...\n",
       "27    [Savage Choir, Vault, Nightmare Visions, Razor...\n",
       "28    [Satan's Pharynx, Sarcófago, Lethal Prayer, Bl...\n",
       "29    [Witchfynde, The Hand of Doom, Ripper, Heavy L...\n",
       "Name: name, dtype: object"
      ]
     },
     "execution_count": 17,
     "metadata": {},
     "output_type": "execute_result"
    }
   ],
   "source": [
    "groups['name'].apply(list)"
   ]
  },
  {
   "cell_type": "code",
   "execution_count": 18,
   "id": "9791b915",
   "metadata": {},
   "outputs": [
    {
     "data": {
      "text/plain": [
       "array([['gnosis', 'death', 'occultism', 'satanism', 'chaos'],\n",
       "       ['christianity', 'horror', 'love', 'social issues',\n",
       "        'science fiction'],\n",
       "       ['depression', 'suicide', 'death', 'nature', 'hate'],\n",
       "       ['occultism', 'satanism', 'darkness', 'death', 'evil'],\n",
       "       ['nature', 'paganism', 'mythology', 'mysticism',\n",
       "        'national socialism'],\n",
       "       ['philosophy', 'death', 'nature', 'life', 'occultism'],\n",
       "       ['gore', 'death', 'violence', 'horror', 'murder'],\n",
       "       ['society', 'life', 'death', 'inner struggles', 'religion'],\n",
       "       ['history', 'war', 'mythology', 'fantasy', 'nature'],\n",
       "       ['death', 'darkness', 'evil', 'satanism', 'war'],\n",
       "       ['instrumental', 'christianity', 'nature', 'depression', 'sorrow'],\n",
       "       ['darkness', 'evil', 'satanism', 'nature', 'war'],\n",
       "       ['sex', 'gore', 'drugs', 'violence', 'alcohol'],\n",
       "       ['satan', 'death', 'evil', 'darkness', 'anti-christianity'],\n",
       "       ['life', 'love', 'feelings', 'metal', 'emotions'],\n",
       "       ['fantasy', 'life', 'war', 'love', 'mythology'],\n",
       "       ['war', 'death', 'violence', 'hate', 'politics'],\n",
       "       ['politics', 'society', 'war', 'religion', 'social issues'],\n",
       "       ['satanism', 'war', 'blasphemy', 'hate', 'evil'],\n",
       "       ['misanthropy', 'death', 'hate', 'hatred', 'nature'],\n",
       "       ['anti-christianity', 'satanism', 'war', 'blasphemy', 'paganism'],\n",
       "       ['destruction', 'death', 'war', 'hate', 'chaos'],\n",
       "       ['nihilism', 'misanthropy', 'death', 'depression', 'hate'],\n",
       "       ['war', 'violence', 'society', 'hate', 'national socialism'],\n",
       "       ['death', 'life', 'horror', 'hate', 'satanism'],\n",
       "       ['violence', 'death', 'hate', 'society', 'hatred'],\n",
       "       ['hate', 'anti-religion', 'anger', 'love', 'horror'],\n",
       "       ['pain', 'death', 'suffering', 'sorrow', 'hate'],\n",
       "       ['blasphemy', 'death', 'anti-religion', 'gore',\n",
       "        'anti-christianity'],\n",
       "       ['metal', 'war', 'violence', 'alcohol', 'evil']], dtype=object)"
      ]
     },
     "execution_count": 18,
     "metadata": {},
     "output_type": "execute_result"
    }
   ],
   "source": [
    "top_pos = np.argsort(kmeans.cluster_centers_)[:, -1 : -6 : -1]\n",
    "vectorizer.get_feature_names_out()[top_pos]"
   ]
  },
  {
   "cell_type": "code",
   "execution_count": 19,
   "id": "c2ef89df",
   "metadata": {
    "scrolled": true
   },
   "outputs": [
    {
     "data": {
      "text/plain": [
       "array([[1.  , 0.33, 0.27, 0.2 , 0.13],\n",
       "       [0.02, 0.01, 0.01, 0.01, 0.01],\n",
       "       [1.  , 0.28, 0.23, 0.09, 0.07],\n",
       "       [1.  , 0.26, 0.17, 0.15, 0.05],\n",
       "       [0.74, 0.42, 0.05, 0.04, 0.04],\n",
       "       [1.  , 0.09, 0.09, 0.06, 0.05],\n",
       "       [1.  , 0.42, 0.12, 0.1 , 0.08],\n",
       "       [1.  , 0.21, 0.15, 0.06, 0.06],\n",
       "       [1.  , 0.28, 0.17, 0.08, 0.08],\n",
       "       [1.  , 1.  , 0.11, 0.11, 0.07],\n",
       "       [1.  , 0.  , 0.  , 0.  , 0.  ],\n",
       "       [1.  , 0.15, 0.12, 0.08, 0.07],\n",
       "       [1.  , 0.21, 0.14, 0.14, 0.13],\n",
       "       [1.  , 0.26, 0.17, 0.14, 0.13],\n",
       "       [1.  , 0.15, 0.05, 0.04, 0.04],\n",
       "       [1.  , 0.1 , 0.06, 0.05, 0.05],\n",
       "       [1.  , 1.  , 0.1 , 0.07, 0.06],\n",
       "       [1.  , 0.28, 0.19, 0.14, 0.08],\n",
       "       [1.  , 0.12, 0.11, 0.05, 0.05],\n",
       "       [1.  , 0.18, 0.11, 0.1 , 0.09],\n",
       "       [1.  , 0.36, 0.15, 0.15, 0.07],\n",
       "       [1.  , 0.53, 0.35, 0.08, 0.07],\n",
       "       [1.  , 0.32, 0.2 , 0.1 , 0.06],\n",
       "       [1.  , 0.09, 0.07, 0.06, 0.05],\n",
       "       [1.  , 0.08, 0.06, 0.05, 0.05],\n",
       "       [1.  , 0.37, 0.09, 0.08, 0.05],\n",
       "       [0.57, 0.52, 0.05, 0.03, 0.03],\n",
       "       [1.  , 0.38, 0.12, 0.12, 0.11],\n",
       "       [1.  , 0.47, 0.09, 0.09, 0.08],\n",
       "       [1.  , 0.23, 0.14, 0.11, 0.09]])"
      ]
     },
     "execution_count": 19,
     "metadata": {},
     "output_type": "execute_result"
    }
   ],
   "source": [
    "top = np.sort(kmeans.cluster_centers_)[:, -1 : -6 : -1]\n",
    "np.round(top, 2)"
   ]
  },
  {
   "cell_type": "markdown",
   "id": "bef9114d",
   "metadata": {},
   "source": [
    "# 3. By Year"
   ]
  },
  {
   "cell_type": "code",
   "execution_count": 20,
   "id": "ab14689f",
   "metadata": {},
   "outputs": [
    {
     "data": {
      "text/plain": [
       "array([11, 11, 11, ..., 18, 18, 18], dtype=int32)"
      ]
     },
     "execution_count": 20,
     "metadata": {},
     "output_type": "execute_result"
    }
   ],
   "source": [
    "from sklearn.cluster import KMeans\n",
    "kmeans = KMeans(n_clusters=30, n_init=50)\n",
    "kmeans.fit(pd.DataFrame(bands['date']).dropna())\n",
    "kmeans.labels_"
   ]
  },
  {
   "cell_type": "code",
   "execution_count": 21,
   "id": "2b2e2b8f",
   "metadata": {},
   "outputs": [],
   "source": [
    "groups = bands[~bands['date'].isna()].groupby(kmeans.labels_)"
   ]
  },
  {
   "cell_type": "code",
   "execution_count": 22,
   "id": "1478ab0f",
   "metadata": {},
   "outputs": [
    {
     "data": {
      "text/plain": [
       "0     3625\n",
       "1     5159\n",
       "2     6242\n",
       "3     3816\n",
       "4     5969\n",
       "5     5347\n",
       "6     2262\n",
       "7     4984\n",
       "8     5078\n",
       "9     4141\n",
       "10    5689\n",
       "11     290\n",
       "12    3074\n",
       "13    6685\n",
       "14    5700\n",
       "15    4353\n",
       "16    4783\n",
       "17    1414\n",
       "18    1617\n",
       "19    5348\n",
       "20    2346\n",
       "21    5851\n",
       "22    5032\n",
       "23    4167\n",
       "24    4730\n",
       "25    3828\n",
       "26    4443\n",
       "27    3596\n",
       "28    5209\n",
       "29    3537\n",
       "dtype: int64"
      ]
     },
     "execution_count": 22,
     "metadata": {},
     "output_type": "execute_result"
    }
   ],
   "source": [
    "groups.size()"
   ]
  },
  {
   "cell_type": "code",
   "execution_count": 23,
   "id": "a3054d9c",
   "metadata": {},
   "outputs": [
    {
     "data": {
      "text/plain": [
       "0     [Inertial Mass, Crypt, Infra Red, Sound Mind, ...\n",
       "1     [Depurity, Derkaizer, Angel's Storm, From Hell...\n",
       "2     [No Other God, No/Más, NightWraith, Veterans, ...\n",
       "3     [Ravensblood, Inner Void, Leech 54, Prophecy, ...\n",
       "4     [Megilloth, Mortal Enemy, Blasfema, Wings of M...\n",
       "5     [Paroxysm, Invicticus, Castle in the Air, Dreg...\n",
       "6     [Steel Prophet, Medallion, Hammers Rule, Anvil...\n",
       "7     [Mismatched, Myrkgand, Evisceration, EvilRock,...\n",
       "8     [Master Spy, Narcömancer, Umbrivago Sombrio, U...\n",
       "9     [High n' Heavy, Stink Tank, Thousand Arrows, H...\n",
       "10    [Unhale, Imperium, Dark O Malex, Ultor, Dark P...\n",
       "11    [Olympic, Orient, Scorpions, Faithful Breath, ...\n",
       "12    [Anticristo, Naked Truth, Digital Ruin, Wendig...\n",
       "13    [Broken Glass, Sxuperion, Luna ad Noctum, Burn...\n",
       "14    [Oxidized Faith, Blood Harvest, Assaulter, Nec...\n",
       "15    [Groan, Noise Machine, Cadaveric Curse, Faithf...\n",
       "16    [Terminal Grip, Persecution, Cerebral Haemorrh...\n",
       "17    [Vortex, Crisis, Sacred Blade, Cutty Sark, Ava...\n",
       "18    [Cosmos, 37 Black, Guldan, Valasach, Sciatica,...\n",
       "19    [Rude, Southern Extremity, Nekcrium, Deceiver,...\n",
       "20    [Choronzon, Funeral Bitch, Prepúcio, Speedica,...\n",
       "21    [Tormento, Æternia, Eternal Scapegoat, Divulsi...\n",
       "22    [Retrial, Prolong Anoxia, Echalon, The Infinit...\n",
       "23    [Hordes of Yore, Satyrica, Disrepute, Left to ...\n",
       "24    [Лесьяр, Semynar, Sept of Memnon, Undead Night...\n",
       "25    [Thiara, The Onset, The Eleventh Key, Dirty Ca...\n",
       "26    [Hatred Sculpted Souls, Astralvm, Strife Machi...\n",
       "27    [Doedskvad, Dying Giants, Necrovaginal Prolaps...\n",
       "28    [Collateral Bleeding, Abnormity, Zombie Ritual...\n",
       "29    [Indwelling, EoB, Apostasy, Estuary, Zan, Esti...\n",
       "Name: name, dtype: object"
      ]
     },
     "execution_count": 23,
     "metadata": {},
     "output_type": "execute_result"
    }
   ],
   "source": [
    "groups['name'].apply(list)"
   ]
  },
  {
   "cell_type": "code",
   "execution_count": 24,
   "id": "957e1b6c",
   "metadata": {},
   "outputs": [
    {
     "data": {
      "text/plain": [
       "array([[1990.51806897],\n",
       "       [2009.        ],\n",
       "       [2017.46859981],\n",
       "       [2001.        ],\n",
       "       [2005.        ],\n",
       "       [1996.51374603],\n",
       "       [1984.12776304],\n",
       "       [2012.        ],\n",
       "       [2019.48897204],\n",
       "       [2014.        ],\n",
       "       [2004.        ],\n",
       "       [1975.74482759],\n",
       "       [1988.55367599],\n",
       "       [1998.52640239],\n",
       "       [2007.        ],\n",
       "       [1992.5090742 ],\n",
       "       [1994.52101192],\n",
       "       [1980.77369165],\n",
       "       [2021.21706865],\n",
       "       [2008.        ],\n",
       "       [1986.54731458],\n",
       "       [2006.        ],\n",
       "       [2010.        ],\n",
       "       [2002.        ],\n",
       "       [2011.        ],\n",
       "       [2015.        ],\n",
       "       [2013.        ],\n",
       "       [2016.        ],\n",
       "       [2003.        ],\n",
       "       [2000.        ]])"
      ]
     },
     "execution_count": 24,
     "metadata": {},
     "output_type": "execute_result"
    }
   ],
   "source": [
    "kmeans.cluster_centers_"
   ]
  },
  {
   "cell_type": "code",
   "execution_count": 30,
   "id": "7a858cc0",
   "metadata": {},
   "outputs": [
    {
     "data": {
      "text/html": [
       "<div>\n",
       "<style scoped>\n",
       "    .dataframe tbody tr th:only-of-type {\n",
       "        vertical-align: middle;\n",
       "    }\n",
       "\n",
       "    .dataframe tbody tr th {\n",
       "        vertical-align: top;\n",
       "    }\n",
       "\n",
       "    .dataframe thead th {\n",
       "        text-align: right;\n",
       "    }\n",
       "</style>\n",
       "<table border=\"1\" class=\"dataframe\">\n",
       "  <thead>\n",
       "    <tr style=\"text-align: right;\">\n",
       "      <th></th>\n",
       "      <th>name</th>\n",
       "      <th>url</th>\n",
       "      <th>genre</th>\n",
       "      <th>theme</th>\n",
       "      <th>label</th>\n",
       "      <th>country</th>\n",
       "      <th>location</th>\n",
       "      <th>status</th>\n",
       "      <th>date</th>\n",
       "      <th>years</th>\n",
       "    </tr>\n",
       "  </thead>\n",
       "  <tbody>\n",
       "    <tr>\n",
       "      <th>52871</th>\n",
       "      <td>Hatred Sculpted Souls</td>\n",
       "      <td>https://www.metal-archives.com/bands/Hatred_Sc...</td>\n",
       "      <td>Death Metal</td>\n",
       "      <td>NaN</td>\n",
       "      <td>Unsigned/independent</td>\n",
       "      <td>Brazil</td>\n",
       "      <td>Carlos Barbosa, Rio Grande do Sul</td>\n",
       "      <td>Active</td>\n",
       "      <td>2013.0</td>\n",
       "      <td>2013-present</td>\n",
       "    </tr>\n",
       "  </tbody>\n",
       "</table>\n",
       "</div>"
      ],
      "text/plain": [
       "                        name  \\\n",
       "52871  Hatred Sculpted Souls   \n",
       "\n",
       "                                                     url        genre theme  \\\n",
       "52871  https://www.metal-archives.com/bands/Hatred_Sc...  Death Metal   NaN   \n",
       "\n",
       "                      label country                           location  \\\n",
       "52871  Unsigned/independent  Brazil  Carlos Barbosa, Rio Grande do Sul   \n",
       "\n",
       "       status    date         years  \n",
       "52871  Active  2013.0  2013-present  "
      ]
     },
     "execution_count": 30,
     "metadata": {},
     "output_type": "execute_result"
    }
   ],
   "source": [
    "bands[bands['name'] == 'Hatred Sculpted Souls']"
   ]
  }
 ],
 "metadata": {
  "kernelspec": {
   "display_name": "Python 3 (ipykernel)",
   "language": "python",
   "name": "python3"
  },
  "language_info": {
   "codemirror_mode": {
    "name": "ipython",
    "version": 3
   },
   "file_extension": ".py",
   "mimetype": "text/x-python",
   "name": "python",
   "nbconvert_exporter": "python",
   "pygments_lexer": "ipython3",
   "version": "3.10.7"
  }
 },
 "nbformat": 4,
 "nbformat_minor": 5
}
