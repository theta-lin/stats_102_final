{
 "cells": [
  {
   "cell_type": "code",
   "execution_count": 1,
   "id": "633c6926",
   "metadata": {},
   "outputs": [],
   "source": [
    "%matplotlib inline\n",
    "import matplotlib.pyplot as plt\n",
    "import pandas as pd"
   ]
  },
  {
   "cell_type": "code",
   "execution_count": 2,
   "id": "461271a0",
   "metadata": {},
   "outputs": [],
   "source": [
    "songs = pd.read_csv('data/ma_songs_lyrics.csv', index_col=0)"
   ]
  },
  {
   "cell_type": "markdown",
   "id": "9f96f37d",
   "metadata": {},
   "source": [
    "It can be observed that songs with \"(lyrics not available)\" or \"(Instrumental)\" are the ones without lyrics, so these should be dropped first. Then, to simplify the analysis, all columns with lyrics containing characters outside of basic ASCII will be dropped. This would eliminate most non-English lyrics, but could also affect English lyrics with diacritic marks."
   ]
  },
  {
   "cell_type": "code",
   "execution_count": 3,
   "id": "328f5980",
   "metadata": {},
   "outputs": [
    {
     "data": {
      "text/html": [
       "<div>\n",
       "<style scoped>\n",
       "    .dataframe tbody tr th:only-of-type {\n",
       "        vertical-align: middle;\n",
       "    }\n",
       "\n",
       "    .dataframe tbody tr th {\n",
       "        vertical-align: top;\n",
       "    }\n",
       "\n",
       "    .dataframe thead th {\n",
       "        text-align: right;\n",
       "    }\n",
       "</style>\n",
       "<table border=\"1\" class=\"dataframe\">\n",
       "  <thead>\n",
       "    <tr style=\"text-align: right;\">\n",
       "      <th></th>\n",
       "      <th>album_url</th>\n",
       "      <th>band_name</th>\n",
       "      <th>album_name</th>\n",
       "      <th>album_type</th>\n",
       "      <th>song_name</th>\n",
       "      <th>song_id</th>\n",
       "      <th>lyrics</th>\n",
       "    </tr>\n",
       "  </thead>\n",
       "  <tbody>\n",
       "    <tr>\n",
       "      <th>0</th>\n",
       "      <td>https://www.metal-archives.com/bands/Greed/354...</td>\n",
       "      <td>Greed</td>\n",
       "      <td>Belial / Infest</td>\n",
       "      <td>Demo</td>\n",
       "      <td>Belial</td>\n",
       "      <td>5670454</td>\n",
       "      <td>Aggrandisement\\r\\n\\r\\nMaster of earth\\r\\nWeake...</td>\n",
       "    </tr>\n",
       "    <tr>\n",
       "      <th>1</th>\n",
       "      <td>https://www.metal-archives.com/bands/Greed/354...</td>\n",
       "      <td>Greed</td>\n",
       "      <td>Belial / Infest</td>\n",
       "      <td>Demo</td>\n",
       "      <td>Infest</td>\n",
       "      <td>5670455</td>\n",
       "      <td>Infest\\r\\n\\r\\nCorrupt the\\r\\nmasses\\r\\nInfest\\...</td>\n",
       "    </tr>\n",
       "    <tr>\n",
       "      <th>2</th>\n",
       "      <td>https://www.metal-archives.com/bands/Greed/354...</td>\n",
       "      <td>Greed</td>\n",
       "      <td>The Purge of Earth</td>\n",
       "      <td>EP</td>\n",
       "      <td>Belial</td>\n",
       "      <td>5668770</td>\n",
       "      <td>Aggrandisement\\r\\n\\r\\nMaster of earth. Fall to...</td>\n",
       "    </tr>\n",
       "    <tr>\n",
       "      <th>3</th>\n",
       "      <td>https://www.metal-archives.com/bands/Greed/354...</td>\n",
       "      <td>Greed</td>\n",
       "      <td>The Purge of Earth</td>\n",
       "      <td>EP</td>\n",
       "      <td>Infest</td>\n",
       "      <td>5668769</td>\n",
       "      <td>Infest\\r\\nCorrupt the masses\\r\\n\\r\\nSuffering\\...</td>\n",
       "    </tr>\n",
       "    <tr>\n",
       "      <th>4</th>\n",
       "      <td>https://www.metal-archives.com/bands/Blind_Gre...</td>\n",
       "      <td>Blind Greed</td>\n",
       "      <td>The Almighty Dollar</td>\n",
       "      <td>Full-length</td>\n",
       "      <td>Blind Greed</td>\n",
       "      <td>1397957</td>\n",
       "      <td>You know I've heard lots of stories, about how...</td>\n",
       "    </tr>\n",
       "    <tr>\n",
       "      <th>...</th>\n",
       "      <td>...</td>\n",
       "      <td>...</td>\n",
       "      <td>...</td>\n",
       "      <td>...</td>\n",
       "      <td>...</td>\n",
       "      <td>...</td>\n",
       "      <td>...</td>\n",
       "    </tr>\n",
       "    <tr>\n",
       "      <th>451587</th>\n",
       "      <td>https://www.metal-archives.com/bands/%ED%8F%90...</td>\n",
       "      <td>폐허</td>\n",
       "      <td>Songs for Darkspirits</td>\n",
       "      <td>Full-length</td>\n",
       "      <td>Sweet, Gesture of the Death</td>\n",
       "      <td>1150474</td>\n",
       "      <td>slumber,\\r\\nPeace.\\r\\n\\r\\nthis harmony to natu...</td>\n",
       "    </tr>\n",
       "    <tr>\n",
       "      <th>451588</th>\n",
       "      <td>https://www.metal-archives.com/bands/%ED%8F%90...</td>\n",
       "      <td>폐허</td>\n",
       "      <td>When Fatigue Devours Reincarnation</td>\n",
       "      <td>EP</td>\n",
       "      <td>Diary of a Decaying Man</td>\n",
       "      <td>1150491</td>\n",
       "      <td>At the end of Chaos(The man who engulfed himse...</td>\n",
       "    </tr>\n",
       "    <tr>\n",
       "      <th>451589</th>\n",
       "      <td>https://www.metal-archives.com/bands/%ED%8F%90...</td>\n",
       "      <td>폐허</td>\n",
       "      <td>흉가</td>\n",
       "      <td>Full-length</td>\n",
       "      <td>통곡의 서막 / Prelude to Tremendous Sadness</td>\n",
       "      <td>2213275</td>\n",
       "      <td>my lady, wake up,\\r\\nin this cold night.\\r\\nyo...</td>\n",
       "    </tr>\n",
       "    <tr>\n",
       "      <th>451590</th>\n",
       "      <td>https://www.metal-archives.com/bands/%ED%8F%90...</td>\n",
       "      <td>폐허</td>\n",
       "      <td>흉가</td>\n",
       "      <td>Full-length</td>\n",
       "      <td>흉가에 얽힌 이야기 Part III / The Tale from the Hounte...</td>\n",
       "      <td>2213273</td>\n",
       "      <td>Beauty was this hill\\r\\nfilled with this blood...</td>\n",
       "    </tr>\n",
       "    <tr>\n",
       "      <th>451591</th>\n",
       "      <td>https://www.metal-archives.com/bands/%ED%8F%90...</td>\n",
       "      <td>폐허</td>\n",
       "      <td>흉가</td>\n",
       "      <td>Full-length</td>\n",
       "      <td>흉가의 끝 / The End of Ruins</td>\n",
       "      <td>2213276</td>\n",
       "      <td>she was so cold\\r\\nand alone.\\r\\nto go herself...</td>\n",
       "    </tr>\n",
       "  </tbody>\n",
       "</table>\n",
       "<p>451592 rows × 7 columns</p>\n",
       "</div>"
      ],
      "text/plain": [
       "                                                album_url    band_name  \\\n",
       "0       https://www.metal-archives.com/bands/Greed/354...        Greed   \n",
       "1       https://www.metal-archives.com/bands/Greed/354...        Greed   \n",
       "2       https://www.metal-archives.com/bands/Greed/354...        Greed   \n",
       "3       https://www.metal-archives.com/bands/Greed/354...        Greed   \n",
       "4       https://www.metal-archives.com/bands/Blind_Gre...  Blind Greed   \n",
       "...                                                   ...          ...   \n",
       "451587  https://www.metal-archives.com/bands/%ED%8F%90...           폐허   \n",
       "451588  https://www.metal-archives.com/bands/%ED%8F%90...           폐허   \n",
       "451589  https://www.metal-archives.com/bands/%ED%8F%90...           폐허   \n",
       "451590  https://www.metal-archives.com/bands/%ED%8F%90...           폐허   \n",
       "451591  https://www.metal-archives.com/bands/%ED%8F%90...           폐허   \n",
       "\n",
       "                                album_name   album_type  \\\n",
       "0                          Belial / Infest         Demo   \n",
       "1                          Belial / Infest         Demo   \n",
       "2                       The Purge of Earth           EP   \n",
       "3                       The Purge of Earth           EP   \n",
       "4                      The Almighty Dollar  Full-length   \n",
       "...                                    ...          ...   \n",
       "451587               Songs for Darkspirits  Full-length   \n",
       "451588  When Fatigue Devours Reincarnation           EP   \n",
       "451589                                  흉가  Full-length   \n",
       "451590                                  흉가  Full-length   \n",
       "451591                                  흉가  Full-length   \n",
       "\n",
       "                                                song_name  song_id  \\\n",
       "0                                                  Belial  5670454   \n",
       "1                                                  Infest  5670455   \n",
       "2                                                  Belial  5668770   \n",
       "3                                                  Infest  5668769   \n",
       "4                                             Blind Greed  1397957   \n",
       "...                                                   ...      ...   \n",
       "451587                        Sweet, Gesture of the Death  1150474   \n",
       "451588                            Diary of a Decaying Man  1150491   \n",
       "451589             통곡의 서막 / Prelude to Tremendous Sadness  2213275   \n",
       "451590  흉가에 얽힌 이야기 Part III / The Tale from the Hounte...  2213273   \n",
       "451591                           흉가의 끝 / The End of Ruins  2213276   \n",
       "\n",
       "                                                   lyrics  \n",
       "0       Aggrandisement\\r\\n\\r\\nMaster of earth\\r\\nWeake...  \n",
       "1       Infest\\r\\n\\r\\nCorrupt the\\r\\nmasses\\r\\nInfest\\...  \n",
       "2       Aggrandisement\\r\\n\\r\\nMaster of earth. Fall to...  \n",
       "3       Infest\\r\\nCorrupt the masses\\r\\n\\r\\nSuffering\\...  \n",
       "4       You know I've heard lots of stories, about how...  \n",
       "...                                                   ...  \n",
       "451587  slumber,\\r\\nPeace.\\r\\n\\r\\nthis harmony to natu...  \n",
       "451588  At the end of Chaos(The man who engulfed himse...  \n",
       "451589  my lady, wake up,\\r\\nin this cold night.\\r\\nyo...  \n",
       "451590  Beauty was this hill\\r\\nfilled with this blood...  \n",
       "451591  she was so cold\\r\\nand alone.\\r\\nto go herself...  \n",
       "\n",
       "[451592 rows x 7 columns]"
      ]
     },
     "execution_count": 3,
     "metadata": {},
     "output_type": "execute_result"
    }
   ],
   "source": [
    "songs = songs[  (songs['lyrics'] != '(lyrics not available)')\n",
    "              & (songs['lyrics'] != '(Instrumental)')\n",
    "              & ~songs['lyrics'].str.contains('[^\\x00-\\x7f]')]\n",
    "songs = songs.reset_index(drop='True')\n",
    "songs"
   ]
  },
  {
   "cell_type": "code",
   "execution_count": 4,
   "id": "6d176adb",
   "metadata": {},
   "outputs": [
    {
     "data": {
      "text/plain": [
       "0         aggrandisement\n",
       "0                 master\n",
       "0                     of\n",
       "0                  earth\n",
       "0                 weaker\n",
       "               ...      \n",
       "451591             there\n",
       "451591             where\n",
       "451591               she\n",
       "451591              came\n",
       "451591              from\n",
       "Name: lyrics, Length: 65597626, dtype: object"
      ]
     },
     "execution_count": 4,
     "metadata": {},
     "output_type": "execute_result"
    }
   ],
   "source": [
    "words = songs['lyrics'].str.lower().str.findall(\"[a-z][a-z'-]*\").explode()\n",
    "words"
   ]
  },
  {
   "cell_type": "code",
   "execution_count": 5,
   "id": "05ef52fb",
   "metadata": {},
   "outputs": [
    {
     "data": {
      "text/plain": [
       "the             4000539\n",
       "of              1761256\n",
       "to              1574878\n",
       "i               1319205\n",
       "and             1290361\n",
       "                 ...   \n",
       "prophocy              1\n",
       "unterstellen          1\n",
       "bestehen              1\n",
       "aufstossen            1\n",
       "vess                  1\n",
       "Name: lyrics, Length: 433016, dtype: int64"
      ]
     },
     "execution_count": 5,
     "metadata": {},
     "output_type": "execute_result"
    }
   ],
   "source": [
    "word_counts = words.value_counts()\n",
    "word_counts"
   ]
  },
  {
   "cell_type": "code",
   "execution_count": 6,
   "id": "9e7c22d7",
   "metadata": {},
   "outputs": [
    {
     "data": {
      "text/plain": [
       "the     4000539\n",
       "of      1761256\n",
       "to      1574878\n",
       "i       1319205\n",
       "and     1290361\n",
       "you     1197155\n",
       "in      1091017\n",
       "a       1070359\n",
       "my       885538\n",
       "your     794063\n",
       "is       745845\n",
       "me       585289\n",
       "for      556704\n",
       "all      461549\n",
       "will     442974\n",
       "we       426122\n",
       "this     409062\n",
       "it       406946\n",
       "on       390570\n",
       "with     375286\n",
       "no       372444\n",
       "that     357738\n",
       "are      344915\n",
       "be       339231\n",
       "from     334701\n",
       "life     252014\n",
       "now      251701\n",
       "by       249281\n",
       "our      242471\n",
       "as       241390\n",
       "so       233759\n",
       "but      224902\n",
       "they     224138\n",
       "time     222805\n",
       "i'm      216284\n",
       "what     212805\n",
       "see      208820\n",
       "one      207504\n",
       "not      189348\n",
       "have     187993\n",
       "Name: lyrics, dtype: int64"
      ]
     },
     "execution_count": 6,
     "metadata": {},
     "output_type": "execute_result"
    }
   ],
   "source": [
    "word_counts.nlargest(40)"
   ]
  },
  {
   "cell_type": "markdown",
   "id": "3c6d7f86",
   "metadata": {},
   "source": [
    "I am filtering out words that are considered \"trivial\", which includes all pronouns, conjunctions, prepositions, and articles. This is done with this dataset: https://archive.org/details/mobypartofspeech03203gut. At the same time, there are other frequently used English words added manually."
   ]
  },
  {
   "cell_type": "code",
   "execution_count": 7,
   "id": "7d40135d",
   "metadata": {},
   "outputs": [],
   "source": [
    "pos = pd.read_csv('data/pos.txt', sep='\\\\', header=None)\n",
    "trivial = set(pos[pos[1].str.contains('C|P|r|D|I').fillna(False)][0])\n",
    "trivial.add('i')\n",
    "trivial.add(\"i'm\")\n",
    "trivial.add(\"i'll\")\n",
    "trivial.add(\"you're\")\n",
    "trivial.add(\"it's\")\n",
    "trivial.add(\"they're\")\n",
    "trivial.add('be')\n",
    "trivial.add('am')\n",
    "trivial.add('is')\n",
    "trivial.add('was')\n",
    "trivial.add('are')\n",
    "trivial.add('were')\n",
    "trivial.add('have')\n",
    "trivial.add('has')\n",
    "trivial.add('had')\n",
    "trivial.add('will')\n",
    "trivial.add('would')\n",
    "trivial.add('do')\n",
    "trivial.add('does')\n",
    "trivial.add(\"don't\")\n",
    "trivial.add(\"doesn't\")\n",
    "trivial.add('can')\n",
    "trivial.add('could')\n",
    "trivial.add(\"can't\")\n",
    "trivial.add(\"couldn't\")\n",
    "trivial.add('not')\n",
    "trivial.add('or')\n",
    "trivial.add('let')\n",
    "trivial.add(\"let's\")"
   ]
  },
  {
   "cell_type": "code",
   "execution_count": 8,
   "id": "e2aee276",
   "metadata": {},
   "outputs": [
    {
     "data": {
      "text/plain": [
       "0           aggrandisement\n",
       "1                   master\n",
       "2                    earth\n",
       "3                   weaker\n",
       "4                forgotten\n",
       "                 ...      \n",
       "34343313           killers\n",
       "34343314              cold\n",
       "34343315             alone\n",
       "34343316                go\n",
       "34343317              came\n",
       "Length: 34343318, dtype: object"
      ]
     },
     "execution_count": 8,
     "metadata": {},
     "output_type": "execute_result"
    }
   ],
   "source": [
    "nontriv = pd.Series(filter(lambda x: x not in trivial, words))\n",
    "nontriv"
   ]
  },
  {
   "cell_type": "code",
   "execution_count": 9,
   "id": "a7d6bf9a",
   "metadata": {},
   "outputs": [
    {
     "data": {
      "text/plain": [
       "life       252014\n",
       "time       222805\n",
       "see        208820\n",
       "death      173587\n",
       "never      170442\n",
       "            ...  \n",
       "gildel          1\n",
       "nimsi           1\n",
       "edzard          1\n",
       "algot's         1\n",
       "vess            1\n",
       "Length: 432605, dtype: int64"
      ]
     },
     "execution_count": 9,
     "metadata": {},
     "output_type": "execute_result"
    }
   ],
   "source": [
    "nontriv_counts = nontriv.value_counts()\n",
    "nontriv_counts"
   ]
  },
  {
   "cell_type": "code",
   "execution_count": 10,
   "id": "9aeb754b",
   "metadata": {},
   "outputs": [
    {
     "data": {
      "text/plain": [
       "life        252014\n",
       "time        222805\n",
       "see         208820\n",
       "death       173587\n",
       "never       170442\n",
       "world       157951\n",
       "just        153070\n",
       "blood       151603\n",
       "eyes        150044\n",
       "know        142902\n",
       "night       137785\n",
       "away        135852\n",
       "come        128621\n",
       "way         127340\n",
       "feel        125940\n",
       "die         125044\n",
       "take        123674\n",
       "pain        119161\n",
       "light       117656\n",
       "mind        117560\n",
       "soul        114370\n",
       "end         114227\n",
       "only        110466\n",
       "again       102313\n",
       "dead        100797\n",
       "day          99322\n",
       "here         97427\n",
       "back         95580\n",
       "love         90628\n",
       "go           90139\n",
       "fire         89169\n",
       "god          88769\n",
       "black        88422\n",
       "hell         87973\n",
       "fear         87164\n",
       "heart        82578\n",
       "dark         82528\n",
       "darkness     78109\n",
       "lost         77870\n",
       "live         77668\n",
       "dtype: int64"
      ]
     },
     "execution_count": 10,
     "metadata": {},
     "output_type": "execute_result"
    }
   ],
   "source": [
    "nontriv_counts.nlargest(40)"
   ]
  }
 ],
 "metadata": {
  "kernelspec": {
   "display_name": "Python 3 (ipykernel)",
   "language": "python",
   "name": "python3"
  },
  "language_info": {
   "codemirror_mode": {
    "name": "ipython",
    "version": 3
   },
   "file_extension": ".py",
   "mimetype": "text/x-python",
   "name": "python",
   "nbconvert_exporter": "python",
   "pygments_lexer": "ipython3",
   "version": "3.10.7"
  }
 },
 "nbformat": 4,
 "nbformat_minor": 5
}
